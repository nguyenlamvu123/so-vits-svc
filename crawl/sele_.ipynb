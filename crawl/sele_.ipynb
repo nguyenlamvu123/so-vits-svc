{
 "cells": [
  {
   "cell_type": "code",
   "execution_count": 1,
   "id": "ce2813c4-ef53-4390-8071-d6fe0191148e",
   "metadata": {},
   "outputs": [],
   "source": [
    "from selenium import webdriver\n",
    "from selenium.webdriver.chrome.options import Options"
   ]
  },
  {
   "cell_type": "code",
   "execution_count": 2,
   "id": "78c9c291-c1bf-479d-9cb5-f6770786f83a",
   "metadata": {},
   "outputs": [],
   "source": [
    "# service = Service(executable_path=\"/home/zaibachkhoa/Documents/convert2otherlang/so_vits_svc/crawl/chromedriver_linux64/chromedriver\")\n",
    "# options = webdriver.ChromeOptions()\n",
    "# driver = webdriver.Chrome(service=service, options=options)\n",
    "driver=webdriver.Chrome()\n",
    "driver.get(\"https://www.youtube.com/@ngoclanmusic/videos\")"
   ]
  },
  {
   "cell_type": "code",
   "execution_count": 3,
   "id": "27a82b66-a3cd-4f7b-ba20-2a336f13ecde",
   "metadata": {},
   "outputs": [],
   "source": [
    "for _ in range(3):\n",
    "    driver.execute_script(\"window.scrollTo(0, document.body.scrollHeight);\")"
   ]
  },
  {
   "cell_type": "code",
   "execution_count": 4,
   "id": "44100111-bd45-4cce-bf5b-75c506889d0d",
   "metadata": {},
   "outputs": [],
   "source": [
    "from selenium.webdriver.common.by import By\n",
    "\n",
    "linklist = driver.find_elements(By.XPATH, '//a[@id=\"video-title-link\"]')"
   ]
  },
  {
   "cell_type": "code",
   "execution_count": null,
   "id": "3bdef0e3-4f68-4fbe-a919-90842fe61352",
   "metadata": {},
   "outputs": [
    {
     "name": "stdout",
     "output_type": "stream",
     "text": [
      "https://www.youtube.com/watch?v=BLyohCkSdJM\n",
      "Gọi Mãi Tên Người - Ngọc Lan (Album: The Best Of Tango Valse)\n",
      "[youtube] Extracting URL: https://www.youtube.com/watch?v=BLyohCkSdJM\n",
      "[youtube] BLyohCkSdJM: Downloading webpage\n",
      "[youtube] BLyohCkSdJM: Downloading ios player API JSON\n",
      "[youtube] BLyohCkSdJM: Downloading player a9d81eca\n"
     ]
    },
    {
     "name": "stderr",
     "output_type": "stream",
     "text": [
      "WARNING: [youtube] BLyohCkSdJM: nsig extraction failed: Some formats may be missing\n",
      "         n = qostlcQuYa9thlUVo ; player = https://www.youtube.com/s/player/a9d81eca/player_ias.vflset/en_US/base.js\n",
      "WARNING: [youtube] BLyohCkSdJM: nsig extraction failed: Some formats may be missing\n",
      "         n = u2cnUB4wTmDI2yTA1 ; player = https://www.youtube.com/s/player/a9d81eca/player_ias.vflset/en_US/base.js\n",
      "ERROR: [youtube] BLyohCkSdJM: Sign in to confirm you’re not a bot. This helps protect our community. Learn more\n"
     ]
    },
    {
     "name": "stdout",
     "output_type": "stream",
     "text": [
      "https://www.youtube.com/watch?v=CQUR45RYmtg\n",
      "Con Đường Buồn Em Đi - Ngọc Lan (Album: Mưa Bụi Cuối Cùng)\n",
      "[youtube] Extracting URL: https://www.youtube.com/watch?v=CQUR45RYmtg\n",
      "[youtube] CQUR45RYmtg: Downloading webpage\n",
      "[youtube] CQUR45RYmtg: Downloading ios player API JSON\n",
      "[youtube] CQUR45RYmtg: Downloading player a9d81eca\n"
     ]
    },
    {
     "name": "stderr",
     "output_type": "stream",
     "text": [
      "WARNING: [youtube] CQUR45RYmtg: nsig extraction failed: Some formats may be missing\n",
      "         n = LC8A78TtO7KJ_mfcy ; player = https://www.youtube.com/s/player/a9d81eca/player_ias.vflset/en_US/base.js\n",
      "WARNING: [youtube] CQUR45RYmtg: nsig extraction failed: Some formats may be missing\n",
      "         n = oTcXBfgWFWA7yPq8U ; player = https://www.youtube.com/s/player/a9d81eca/player_ias.vflset/en_US/base.js\n"
     ]
    },
    {
     "name": "stdout",
     "output_type": "stream",
     "text": [
      "[youtube] CQUR45RYmtg: Downloading m3u8 information\n",
      "[info] CQUR45RYmtg: Downloading 1 format(s): 137+140\n",
      "[download] Destination: Con Đường Buồn Em Đi - Ngọc Lan (Album： Mưa Bụi Cuối Cùng) [CQUR45RYmtg].f137.mp4\n",
      "[download] 100% of   37.93MiB in 00:00:03 at 9.69MiB/s     \n",
      "[download] Destination: Con Đường Buồn Em Đi - Ngọc Lan (Album： Mưa Bụi Cuối Cùng) [CQUR45RYmtg].f140.m4a\n",
      "[download] 100% of    3.92MiB in 00:00:00 at 9.02MiB/s   \n",
      "[Merger] Merging formats into \"Con Đường Buồn Em Đi - Ngọc Lan (Album： Mưa Bụi Cuối Cùng) [CQUR45RYmtg].mp4\"\n",
      "Deleting original file Con Đường Buồn Em Đi - Ngọc Lan (Album： Mưa Bụi Cuối Cùng) [CQUR45RYmtg].f140.m4a (pass -k to keep)\n",
      "Deleting original file Con Đường Buồn Em Đi - Ngọc Lan (Album： Mưa Bụi Cuối Cùng) [CQUR45RYmtg].f137.mp4 (pass -k to keep)\n",
      "https://www.youtube.com/watch?v=E2e9RAjPWA8\n",
      "Xin Một Ngày Mai Có Nhau (Đức Huy) - Ngọc Lan (Album: Người em sầu mộng)\n",
      "[youtube] Extracting URL: https://www.youtube.com/watch?v=E2e9RAjPWA8\n",
      "[youtube] E2e9RAjPWA8: Downloading webpage\n",
      "[youtube] E2e9RAjPWA8: Downloading ios player API JSON\n",
      "https://www.youtube.com/watch?v=lOo8P72sMb0\n",
      "Thuyền Không Bến Đỗ (Lam Phương) - Ngọc Lan (Album: Cỏ Hoa)\n"
     ]
    },
    {
     "name": "stderr",
     "output_type": "stream",
     "text": [
      "ERROR: [youtube] E2e9RAjPWA8: Sign in to confirm you’re not a bot. This helps protect our community. Learn more\n"
     ]
    },
    {
     "name": "stdout",
     "output_type": "stream",
     "text": [
      "[youtube] Extracting URL: https://www.youtube.com/watch?v=lOo8P72sMb0\n",
      "[youtube] lOo8P72sMb0: Downloading webpage\n",
      "[youtube] lOo8P72sMb0: Downloading ios player API JSON\n",
      "[youtube] lOo8P72sMb0: Downloading player a9d81eca\n"
     ]
    },
    {
     "name": "stderr",
     "output_type": "stream",
     "text": [
      "WARNING: [youtube] lOo8P72sMb0: nsig extraction failed: Some formats may be missing\n",
      "         n = Vb8m_YZXrf0d_KmUR ; player = https://www.youtube.com/s/player/a9d81eca/player_ias.vflset/en_US/base.js\n",
      "WARNING: [youtube] lOo8P72sMb0: nsig extraction failed: Some formats may be missing\n",
      "         n = kAsAJ75zYq1wAA3uR ; player = https://www.youtube.com/s/player/a9d81eca/player_ias.vflset/en_US/base.js\n"
     ]
    },
    {
     "name": "stdout",
     "output_type": "stream",
     "text": [
      "[youtube] lOo8P72sMb0: Downloading m3u8 information\n",
      "[info] lOo8P72sMb0: Downloading 1 format(s): 614+140\n",
      "[hlsnative] Downloading m3u8 manifest\n",
      "[hlsnative] Total fragments: 49\n",
      "[download] Destination: Thuyền Không Bến Đỗ (Lam Phương) - Ngọc Lan (Album： Cỏ Hoa) [lOo8P72sMb0].f614.mp4\n",
      "[download] 100% of   24.63MiB in 00:00:08 at 2.81MiB/s                  \n",
      "[download] Destination: Thuyền Không Bến Đỗ (Lam Phương) - Ngọc Lan (Album： Cỏ Hoa) [lOo8P72sMb0].f140.m4a\n",
      "[download] 100% of    3.20MiB in 00:00:00 at 7.72MiB/s     \n",
      "[Merger] Merging formats into \"Thuyền Không Bến Đỗ (Lam Phương) - Ngọc Lan (Album： Cỏ Hoa) [lOo8P72sMb0].mp4\"\n",
      "Deleting original file Thuyền Không Bến Đỗ (Lam Phương) - Ngọc Lan (Album： Cỏ Hoa) [lOo8P72sMb0].f614.mp4 (pass -k to keep)\n",
      "Deleting original file Thuyền Không Bến Đỗ (Lam Phương) - Ngọc Lan (Album： Cỏ Hoa) [lOo8P72sMb0].f140.m4a (pass -k to keep)\n",
      "https://www.youtube.com/watch?v=OImi_YjmHYk\n",
      "Niềm Đau Chôn Dấu - Ngọc Lan (Album: Chờ Nhau Kiếp Nào)\n",
      "[youtube] Extracting URL: https://www.youtube.com/watch?v=OImi_YjmHYk\n",
      "[youtube] OImi_YjmHYk: Downloading webpage\n",
      "[youtube] OImi_YjmHYk: Downloading ios player API JSON\n",
      "[youtube] OImi_YjmHYk: Downloading player a9d81eca\n"
     ]
    },
    {
     "name": "stderr",
     "output_type": "stream",
     "text": [
      "WARNING: [youtube] OImi_YjmHYk: nsig extraction failed: Some formats may be missing\n",
      "         n = gBMmQVijOdPvLsFL4 ; player = https://www.youtube.com/s/player/a9d81eca/player_ias.vflset/en_US/base.js\n",
      "WARNING: [youtube] OImi_YjmHYk: nsig extraction failed: Some formats may be missing\n",
      "         n = 5DsyaYEa3tEJ8zHud ; player = https://www.youtube.com/s/player/a9d81eca/player_ias.vflset/en_US/base.js\n"
     ]
    },
    {
     "name": "stdout",
     "output_type": "stream",
     "text": [
      "[youtube] OImi_YjmHYk: Downloading m3u8 information\n",
      "[info] OImi_YjmHYk: Downloading 1 format(s): 614+140\n",
      "[hlsnative] Downloading m3u8 manifest\n",
      "[hlsnative] Total fragments: 59\n",
      "[download] Destination: Niềm Đau Chôn Dấu - Ngọc Lan (Album： Chờ Nhau Kiếp Nào) [OImi_YjmHYk].f614.mp4\n",
      "[download] 100% of   36.02MiB in 00:00:06 at 5.84MiB/s                  \n",
      "[download] Destination: Niềm Đau Chôn Dấu - Ngọc Lan (Album： Chờ Nhau Kiếp Nào) [OImi_YjmHYk].f140.m4a\n",
      "[download] 100% of    4.57MiB in 00:00:00 at 8.77MiB/s     \n",
      "[Merger] Merging formats into \"Niềm Đau Chôn Dấu - Ngọc Lan (Album： Chờ Nhau Kiếp Nào) [OImi_YjmHYk].mp4\"\n",
      "Deleting original file Niềm Đau Chôn Dấu - Ngọc Lan (Album： Chờ Nhau Kiếp Nào) [OImi_YjmHYk].f140.m4a (pass -k to keep)\n",
      "Deleting original file Niềm Đau Chôn Dấu - Ngọc Lan (Album： Chờ Nhau Kiếp Nào) [OImi_YjmHYk].f614.mp4 (pass -k to keep)\n",
      "https://www.youtube.com/watch?v=XIqKkMh7pP4\n",
      "Khúc Tình Dối Gian - Ngọc Lan (Album: Ngọc Lan)\n",
      "[youtube] Extracting URL: https://www.youtube.com/watch?v=XIqKkMh7pP4\n",
      "[youtube] XIqKkMh7pP4: Downloading webpage\n",
      "[youtube] XIqKkMh7pP4: Downloading ios player API JSON\n",
      "[youtube] XIqKkMh7pP4: Downloading player a9d81eca\n"
     ]
    },
    {
     "name": "stderr",
     "output_type": "stream",
     "text": [
      "WARNING: [youtube] XIqKkMh7pP4: nsig extraction failed: Some formats may be missing\n",
      "         n = ZTsujJLH0WvKUXSI7 ; player = https://www.youtube.com/s/player/a9d81eca/player_ias.vflset/en_US/base.js\n",
      "WARNING: [youtube] XIqKkMh7pP4: nsig extraction failed: Some formats may be missing\n",
      "         n = rysM_xtxN8QzELCsg ; player = https://www.youtube.com/s/player/a9d81eca/player_ias.vflset/en_US/base.js\n"
     ]
    },
    {
     "name": "stdout",
     "output_type": "stream",
     "text": [
      "[youtube] XIqKkMh7pP4: Downloading m3u8 information\n",
      "[info] XIqKkMh7pP4: Downloading 1 format(s): 614+140\n",
      "[hlsnative] Downloading m3u8 manifest\n",
      "[hlsnative] Total fragments: 52\n",
      "[download] Destination: Khúc Tình Dối Gian - Ngọc Lan (Album： Ngọc Lan) [XIqKkMh7pP4].f614.mp4\n",
      "[download] 100% of   49.49MiB in 00:00:06 at 7.31MiB/s                  \n",
      "[download] Destination: Khúc Tình Dối Gian - Ngọc Lan (Album： Ngọc Lan) [XIqKkMh7pP4].f140.m4a\n",
      "[download] 100% of    3.71MiB in 00:00:00 at 9.21MiB/s     \n",
      "[Merger] Merging formats into \"Khúc Tình Dối Gian - Ngọc Lan (Album： Ngọc Lan) [XIqKkMh7pP4].mp4\"\n",
      "Deleting original file Khúc Tình Dối Gian - Ngọc Lan (Album： Ngọc Lan) [XIqKkMh7pP4].f614.mp4 (pass -k to keep)\n",
      "Deleting original file Khúc Tình Dối Gian - Ngọc Lan (Album： Ngọc Lan) [XIqKkMh7pP4].f140.m4a (pass -k to keep)\n",
      "https://www.youtube.com/watch?v=1AoTsjryWTs\n",
      "Tình Đã Bay Cao - Ngọc Lan (Album: Vết thương cuối cùng)\n",
      "[youtube] Extracting URL: https://www.youtube.com/watch?v=1AoTsjryWTs\n",
      "[youtube] 1AoTsjryWTs: Downloading webpage\n",
      "[youtube] 1AoTsjryWTs: Downloading ios player API JSON\n",
      "[youtube] 1AoTsjryWTs: Downloading player a9d81eca\n"
     ]
    },
    {
     "name": "stderr",
     "output_type": "stream",
     "text": [
      "WARNING: [youtube] 1AoTsjryWTs: nsig extraction failed: Some formats may be missing\n",
      "         n = 6dcdfPnEzjWT1PgXj ; player = https://www.youtube.com/s/player/a9d81eca/player_ias.vflset/en_US/base.js\n",
      "WARNING: [youtube] 1AoTsjryWTs: nsig extraction failed: Some formats may be missing\n",
      "         n = f1ckyIM2XosoH8w6c ; player = https://www.youtube.com/s/player/a9d81eca/player_ias.vflset/en_US/base.js\n"
     ]
    },
    {
     "name": "stdout",
     "output_type": "stream",
     "text": [
      "[youtube] 1AoTsjryWTs: Downloading m3u8 information\n",
      "[info] 1AoTsjryWTs: Downloading 1 format(s): 614+140\n",
      "[hlsnative] Downloading m3u8 manifest\n",
      "[hlsnative] Total fragments: 78\n",
      "[download] Destination: Tình Đã Bay Cao - Ngọc Lan (Album： Vết thương cuối cùng) [1AoTsjryWTs].f614.mp4\n",
      "[download] 100% of   20.22MiB in 00:00:04 at 4.47MiB/s                   \n",
      "[download] Destination: Tình Đã Bay Cao - Ngọc Lan (Album： Vết thương cuối cùng) [1AoTsjryWTs].f140.m4a\n",
      "[download] 100% of    5.10MiB in 00:00:00 at 10.48MiB/s    \n",
      "[Merger] Merging formats into \"Tình Đã Bay Cao - Ngọc Lan (Album： Vết thương cuối cùng) [1AoTsjryWTs].mp4\"\n",
      "Deleting original file Tình Đã Bay Cao - Ngọc Lan (Album： Vết thương cuối cùng) [1AoTsjryWTs].f614.mp4 (pass -k to keep)\n",
      "Deleting original file Tình Đã Bay Cao - Ngọc Lan (Album： Vết thương cuối cùng) [1AoTsjryWTs].f140.m4a (pass -k to keep)\n",
      "https://www.youtube.com/watch?v=_OBBOLRh63M\n",
      "Thu Hát Cho Người (Vũ Đức Sao Biển) - Ngọc Lan (Album: Băng Vàng Trịnh Công Sơn)\n",
      "[youtube] Extracting URL: https://www.youtube.com/watch?v=_OBBOLRh63M\n",
      "[youtube] _OBBOLRh63M: Downloading webpage\n",
      "[youtube] _OBBOLRh63M: Downloading ios player API JSON\n",
      "[youtube] _OBBOLRh63M: Downloading player a9d81eca\n"
     ]
    },
    {
     "name": "stderr",
     "output_type": "stream",
     "text": [
      "WARNING: [youtube] _OBBOLRh63M: nsig extraction failed: Some formats may be missing\n",
      "         n = 22cnJ_XudQarDu5XD ; player = https://www.youtube.com/s/player/a9d81eca/player_ias.vflset/en_US/base.js\n",
      "WARNING: [youtube] _OBBOLRh63M: nsig extraction failed: Some formats may be missing\n",
      "         n = 9q8q89dbL0UfXrFa9 ; player = https://www.youtube.com/s/player/a9d81eca/player_ias.vflset/en_US/base.js\n"
     ]
    },
    {
     "name": "stdout",
     "output_type": "stream",
     "text": [
      "[youtube] _OBBOLRh63M: Downloading m3u8 information\n",
      "[info] _OBBOLRh63M: Downloading 1 format(s): 614+140\n",
      "[hlsnative] Downloading m3u8 manifest\n",
      "[hlsnative] Total fragments: 76\n",
      "[download] Destination: Thu Hát Cho Người (Vũ Đức Sao Biển) - Ngọc Lan (Album： Băng Vàng Trịnh Công Sơn) [_OBBOLRh63M].f614.mp4\n",
      "[download] 100% of   53.60MiB in 00:00:10 at 4.90MiB/s                  \n",
      "[download] Destination: Thu Hát Cho Người (Vũ Đức Sao Biển) - Ngọc Lan (Album： Băng Vàng Trịnh Công Sơn) [_OBBOLRh63M].f140.m4a\n",
      "[download] 100% of    4.91MiB in 00:00:00 at 9.29MiB/s     \n",
      "[Merger] Merging formats into \"Thu Hát Cho Người (Vũ Đức Sao Biển) - Ngọc Lan (Album： Băng Vàng Trịnh Công Sơn) [_OBBOLRh63M].mp4\"\n",
      "Deleting original file Thu Hát Cho Người (Vũ Đức Sao Biển) - Ngọc Lan (Album： Băng Vàng Trịnh Công Sơn) [_OBBOLRh63M].f614.mp4 (pass -k to keep)\n",
      "Deleting original file Thu Hát Cho Người (Vũ Đức Sao Biển) - Ngọc Lan (Album： Băng Vàng Trịnh Công Sơn) [_OBBOLRh63M].f140.m4a (pass -k to keep)\n",
      "https://www.youtube.com/watch?v=6U7mmwOrPeg\n",
      "Xin Thời Gian Qua Mau (Lam Phương) - Ngọc Lan | Buồn nào hơn đêm nay khi ngoài kia bão tố đầy trời\n",
      "[youtube] Extracting URL: https://www.youtube.com/watch?v=6U7mmwOrPeg\n",
      "[youtube] 6U7mmwOrPeg: Downloading webpage\n",
      "[youtube] 6U7mmwOrPeg: Downloading ios player API JSON\n",
      "[youtube] 6U7mmwOrPeg: Downloading player a9d81eca\n"
     ]
    },
    {
     "name": "stderr",
     "output_type": "stream",
     "text": [
      "WARNING: [youtube] 6U7mmwOrPeg: nsig extraction failed: Some formats may be missing\n",
      "         n = G_M2O0j1japgYK8bs ; player = https://www.youtube.com/s/player/a9d81eca/player_ias.vflset/en_US/base.js\n",
      "WARNING: [youtube] 6U7mmwOrPeg: nsig extraction failed: Some formats may be missing\n",
      "         n = jWM3Il6asQVyYjkMs ; player = https://www.youtube.com/s/player/a9d81eca/player_ias.vflset/en_US/base.js\n"
     ]
    },
    {
     "name": "stdout",
     "output_type": "stream",
     "text": [
      "[youtube] 6U7mmwOrPeg: Downloading m3u8 information\n",
      "[info] 6U7mmwOrPeg: Downloading 1 format(s): 614+140\n",
      "[hlsnative] Downloading m3u8 manifest\n",
      "[hlsnative] Total fragments: 60\n",
      "[download] Destination: Xin Thời Gian Qua Mau (Lam Phương) - Ngọc Lan ｜ Buồn nào hơn đêm nay khi ngoài kia bão tố đầy trời [6U7mmwOrPeg].f614.mp4\n",
      "[download] 100% of   25.55MiB in 00:00:04 at 5.17MiB/s                   \n",
      "[download] Destination: Xin Thời Gian Qua Mau (Lam Phương) - Ngọc Lan ｜ Buồn nào hơn đêm nay khi ngoài kia bão tố đầy trời [6U7mmwOrPeg].f140.m4a\n",
      "[download] 100% of    4.91MiB in 00:00:00 at 8.34MiB/s     \n",
      "[Merger] Merging formats into \"Xin Thời Gian Qua Mau (Lam Phương) - Ngọc Lan ｜ Buồn nào hơn đêm nay khi ngoài kia bão tố đầy trời [6U7mmwOrPeg].mp4\"\n",
      "Deleting original file Xin Thời Gian Qua Mau (Lam Phương) - Ngọc Lan ｜ Buồn nào hơn đêm nay khi ngoài kia bão tố đầy trời [6U7mmwOrPeg].f140.m4a (pass -k to keep)\n",
      "Deleting original file Xin Thời Gian Qua Mau (Lam Phương) - Ngọc Lan ｜ Buồn nào hơn đêm nay khi ngoài kia bão tố đầy trời [6U7mmwOrPeg].f614.mp4 (pass -k to keep)\n",
      "https://www.youtube.com/watch?v=6ZQliPW979A\n",
      "Hối Tiếc (Trầm Tử Thiêng) - Ngọc Lan (Album: Thành phố mưa bay)\n",
      "[youtube] Extracting URL: https://www.youtube.com/watch?v=6ZQliPW979A\n",
      "[youtube] 6ZQliPW979A: Downloading webpage\n",
      "[youtube] 6ZQliPW979A: Downloading ios player API JSON\n",
      "[youtube] 6ZQliPW979A: Downloading player a9d81eca\n"
     ]
    },
    {
     "name": "stderr",
     "output_type": "stream",
     "text": [
      "WARNING: [youtube] 6ZQliPW979A: nsig extraction failed: Some formats may be missing\n",
      "         n = Bo8yg-up_VYtluFGw ; player = https://www.youtube.com/s/player/a9d81eca/player_ias.vflset/en_US/base.js\n",
      "WARNING: [youtube] 6ZQliPW979A: nsig extraction failed: Some formats may be missing\n",
      "         n = G6sZ2xnrnA2Kegior ; player = https://www.youtube.com/s/player/a9d81eca/player_ias.vflset/en_US/base.js\n"
     ]
    },
    {
     "name": "stdout",
     "output_type": "stream",
     "text": [
      "[youtube] 6ZQliPW979A: Downloading m3u8 information\n",
      "[info] 6ZQliPW979A: Downloading 1 format(s): 614+140\n",
      "[hlsnative] Downloading m3u8 manifest\n",
      "[hlsnative] Total fragments: 54\n",
      "[download] Destination: Hối Tiếc (Trầm Tử Thiêng) - Ngọc Lan (Album： Thành phố mưa bay) [6ZQliPW979A].f614.mp4\n",
      "[download] 100% of   55.64MiB in 00:00:12 at 4.55MiB/s                  \n",
      "[download] Destination: Hối Tiếc (Trầm Tử Thiêng) - Ngọc Lan (Album： Thành phố mưa bay) [6ZQliPW979A].f140.m4a\n",
      "[download] 100% of    3.63MiB in 00:00:00 at 8.41MiB/s     \n",
      "[Merger] Merging formats into \"Hối Tiếc (Trầm Tử Thiêng) - Ngọc Lan (Album： Thành phố mưa bay) [6ZQliPW979A].mp4\"\n",
      "Deleting original file Hối Tiếc (Trầm Tử Thiêng) - Ngọc Lan (Album： Thành phố mưa bay) [6ZQliPW979A].f140.m4a (pass -k to keep)\n",
      "Deleting original file Hối Tiếc (Trầm Tử Thiêng) - Ngọc Lan (Album： Thành phố mưa bay) [6ZQliPW979A].f614.mp4 (pass -k to keep)\n",
      "https://www.youtube.com/watch?v=EhIK0yhjspI\n",
      "Tình Nhớ (Trịnh Công Sơn) - Ngọc Lan (Album: Hát cho quê hương Việt Nam)\n",
      "[youtube] Extracting URL: https://www.youtube.com/watch?v=EhIK0yhjspI\n",
      "[youtube] EhIK0yhjspI: Downloading webpage\n",
      "[youtube] EhIK0yhjspI: Downloading ios player API JSON\n",
      "[youtube] EhIK0yhjspI: Downloading player a9d81eca\n"
     ]
    },
    {
     "name": "stderr",
     "output_type": "stream",
     "text": [
      "WARNING: [youtube] EhIK0yhjspI: nsig extraction failed: Some formats may be missing\n",
      "         n = RLsIvHklXLIgPgzh6 ; player = https://www.youtube.com/s/player/a9d81eca/player_ias.vflset/en_US/base.js\n",
      "WARNING: [youtube] EhIK0yhjspI: nsig extraction failed: Some formats may be missing\n",
      "         n = Is8dFZIw82HYIm2AL ; player = https://www.youtube.com/s/player/a9d81eca/player_ias.vflset/en_US/base.js\n"
     ]
    },
    {
     "name": "stdout",
     "output_type": "stream",
     "text": [
      "[youtube] EhIK0yhjspI: Downloading m3u8 information\n",
      "[info] EhIK0yhjspI: Downloading 1 format(s): 614+140\n",
      "[hlsnative] Downloading m3u8 manifest\n",
      "[hlsnative] Total fragments: 66\n",
      "[download] Destination: Tình Nhớ (Trịnh Công Sơn) - Ngọc Lan (Album： Hát cho quê hương Việt Nam) [EhIK0yhjspI].f614.mp4\n",
      "[download] 100% of   28.83MiB in 00:00:06 at 4.13MiB/s                   \n",
      "[download] Destination: Tình Nhớ (Trịnh Công Sơn) - Ngọc Lan (Album： Hát cho quê hương Việt Nam) [EhIK0yhjspI].f140.m4a\n",
      "[download] 100% of    5.41MiB in 00:00:00 at 8.85MiB/s     \n",
      "[Merger] Merging formats into \"Tình Nhớ (Trịnh Công Sơn) - Ngọc Lan (Album： Hát cho quê hương Việt Nam) [EhIK0yhjspI].mp4\"\n",
      "Deleting original file Tình Nhớ (Trịnh Công Sơn) - Ngọc Lan (Album： Hát cho quê hương Việt Nam) [EhIK0yhjspI].f614.mp4 (pass -k to keep)\n",
      "Deleting original file Tình Nhớ (Trịnh Công Sơn) - Ngọc Lan (Album： Hát cho quê hương Việt Nam) [EhIK0yhjspI].f140.m4a (pass -k to keep)\n",
      "https://www.youtube.com/watch?v=MRJGcrgd6tk\n",
      "Lệ Đá (Trần Trịnh) - Ngọc Lan (Album: Ru ta ngậm ngùi)\n",
      "[youtube] Extracting URL: https://www.youtube.com/watch?v=MRJGcrgd6tk\n",
      "[youtube] MRJGcrgd6tk: Downloading webpage\n",
      "[youtube] MRJGcrgd6tk: Downloading ios player API JSON\n",
      "[youtube] MRJGcrgd6tk: Downloading player a9d81eca\n"
     ]
    },
    {
     "name": "stderr",
     "output_type": "stream",
     "text": [
      "WARNING: [youtube] MRJGcrgd6tk: nsig extraction failed: Some formats may be missing\n",
      "         n = dOcxp-P-2wu47Qaff ; player = https://www.youtube.com/s/player/a9d81eca/player_ias.vflset/en_US/base.js\n",
      "WARNING: [youtube] MRJGcrgd6tk: nsig extraction failed: Some formats may be missing\n",
      "         n = z7MVzaXY2hBVOUnxf ; player = https://www.youtube.com/s/player/a9d81eca/player_ias.vflset/en_US/base.js\n"
     ]
    },
    {
     "name": "stdout",
     "output_type": "stream",
     "text": [
      "[youtube] MRJGcrgd6tk: Downloading m3u8 information\n",
      "[info] MRJGcrgd6tk: Downloading 1 format(s): 614+140\n",
      "[hlsnative] Downloading m3u8 manifest\n",
      "[hlsnative] Total fragments: 75\n",
      "[download] Destination: Lệ Đá (Trần Trịnh) - Ngọc Lan (Album： Ru ta ngậm ngùi) [MRJGcrgd6tk].f614.mp4\n",
      "[download] 100% of   34.34MiB in 00:00:18 at 1.87MiB/s                  \n",
      "[download] Destination: Lệ Đá (Trần Trịnh) - Ngọc Lan (Album： Ru ta ngậm ngùi) [MRJGcrgd6tk].f140.m4a\n",
      "[download] 100% of    4.83MiB in 00:00:00 at 6.98MiB/s     \n",
      "[Merger] Merging formats into \"Lệ Đá (Trần Trịnh) - Ngọc Lan (Album： Ru ta ngậm ngùi) [MRJGcrgd6tk].mp4\"\n",
      "Deleting original file Lệ Đá (Trần Trịnh) - Ngọc Lan (Album： Ru ta ngậm ngùi) [MRJGcrgd6tk].f614.mp4 (pass -k to keep)\n",
      "Deleting original file Lệ Đá (Trần Trịnh) - Ngọc Lan (Album： Ru ta ngậm ngùi) [MRJGcrgd6tk].f140.m4a (pass -k to keep)\n",
      "https://www.youtube.com/watch?v=_S9VPoR45Qk\n",
      "Hỡi Người Tình (Nhạc Ngoại) - Ngọc Lan | Trời vẫn cứ mưa mãi cho lòng em rã rời...\n",
      "[youtube] Extracting URL: https://www.youtube.com/watch?v=_S9VPoR45Qk\n",
      "[youtube] _S9VPoR45Qk: Downloading webpage\n",
      "[youtube] _S9VPoR45Qk: Downloading ios player API JSON\n",
      "[youtube] _S9VPoR45Qk: Downloading player a9d81eca\n"
     ]
    },
    {
     "name": "stderr",
     "output_type": "stream",
     "text": [
      "WARNING: [youtube] _S9VPoR45Qk: nsig extraction failed: Some formats may be missing\n",
      "         n = AMs0zRyZzI69JEpNo ; player = https://www.youtube.com/s/player/a9d81eca/player_ias.vflset/en_US/base.js\n",
      "WARNING: [youtube] _S9VPoR45Qk: nsig extraction failed: Some formats may be missing\n",
      "         n = vO8qxi8Dnf3y9b6s9 ; player = https://www.youtube.com/s/player/a9d81eca/player_ias.vflset/en_US/base.js\n"
     ]
    },
    {
     "name": "stdout",
     "output_type": "stream",
     "text": [
      "[youtube] _S9VPoR45Qk: Downloading m3u8 information\n",
      "[info] _S9VPoR45Qk: Downloading 1 format(s): 614+140\n",
      "[hlsnative] Downloading m3u8 manifest\n",
      "[hlsnative] Total fragments: 55\n",
      "[download] Destination: Hỡi Người Tình (Nhạc Ngoại) - Ngọc Lan ｜ Trời vẫn cứ mưa mãi cho lòng em rã rời... [_S9VPoR45Qk].f614.mp4\n",
      "[download] 100% of   34.83MiB in 00:00:25 at 1.35MiB/s                 \n",
      "[download] Destination: Hỡi Người Tình (Nhạc Ngoại) - Ngọc Lan ｜ Trời vẫn cứ mưa mãi cho lòng em rã rời... [_S9VPoR45Qk].f140.m4a\n",
      "[download] 100% of    4.53MiB in 00:00:00 at 7.93MiB/s     \n",
      "[Merger] Merging formats into \"Hỡi Người Tình (Nhạc Ngoại) - Ngọc Lan ｜ Trời vẫn cứ mưa mãi cho lòng em rã rời... [_S9VPoR45Qk].mp4\"\n",
      "Deleting original file Hỡi Người Tình (Nhạc Ngoại) - Ngọc Lan ｜ Trời vẫn cứ mưa mãi cho lòng em rã rời... [_S9VPoR45Qk].f140.m4a (pass -k to keep)\n",
      "Deleting original file Hỡi Người Tình (Nhạc Ngoại) - Ngọc Lan ｜ Trời vẫn cứ mưa mãi cho lòng em rã rời... [_S9VPoR45Qk].f614.mp4 (pass -k to keep)\n",
      "https://www.youtube.com/watch?v=sZFt5tHZ7oM\n",
      "Con Đường Tình (Đình Văn) - Ngọc Lan (Album: Tình Xưa)\n",
      "[youtube] Extracting URL: https://www.youtube.com/watch?v=sZFt5tHZ7oM\n",
      "[youtube] sZFt5tHZ7oM: Downloading webpage\n",
      "[youtube] sZFt5tHZ7oM: Downloading ios player API JSON\n",
      "[youtube] sZFt5tHZ7oM: Downloading player a9d81eca\n"
     ]
    },
    {
     "name": "stderr",
     "output_type": "stream",
     "text": [
      "WARNING: [youtube] sZFt5tHZ7oM: nsig extraction failed: Some formats may be missing\n",
      "         n = wFcsGSIPHecs8r7kA ; player = https://www.youtube.com/s/player/a9d81eca/player_ias.vflset/en_US/base.js\n",
      "WARNING: [youtube] sZFt5tHZ7oM: nsig extraction failed: Some formats may be missing\n",
      "         n = 6pscvQycEv0I1Wloe ; player = https://www.youtube.com/s/player/a9d81eca/player_ias.vflset/en_US/base.js\n"
     ]
    },
    {
     "name": "stdout",
     "output_type": "stream",
     "text": [
      "[youtube] sZFt5tHZ7oM: Downloading m3u8 information\n",
      "[info] sZFt5tHZ7oM: Downloading 1 format(s): 614+140\n",
      "[hlsnative] Downloading m3u8 manifest\n",
      "[hlsnative] Total fragments: 55\n",
      "[download] Destination: Con Đường Tình (Đình Văn) - Ngọc Lan (Album： Tình Xưa) [sZFt5tHZ7oM].f614.mp4\n",
      "[download] 100% of   24.22MiB in 00:00:05 at 4.38MiB/s                  \n",
      "[download] Destination: Con Đường Tình (Đình Văn) - Ngọc Lan (Album： Tình Xưa) [sZFt5tHZ7oM].f140.m4a\n",
      "[download] 100% of    4.46MiB in 00:00:00 at 8.02MiB/s     \n",
      "[Merger] Merging formats into \"Con Đường Tình (Đình Văn) - Ngọc Lan (Album： Tình Xưa) [sZFt5tHZ7oM].mp4\"\n",
      "Deleting original file Con Đường Tình (Đình Văn) - Ngọc Lan (Album： Tình Xưa) [sZFt5tHZ7oM].f140.m4a (pass -k to keep)\n",
      "Deleting original file Con Đường Tình (Đình Văn) - Ngọc Lan (Album： Tình Xưa) [sZFt5tHZ7oM].f614.mp4 (pass -k to keep)\n",
      "https://www.youtube.com/watch?v=7pSmZ8VvjUE\n",
      "Nỗi Niềm (Trần Trọng Ngọc) - Ngọc Lan (Album: Mặt Trời Bên Kia Mùa Hạ)\n",
      "[youtube] Extracting URL: https://www.youtube.com/watch?v=7pSmZ8VvjUE\n",
      "[youtube] 7pSmZ8VvjUE: Downloading webpage\n",
      "[youtube] 7pSmZ8VvjUE: Downloading ios player API JSON\n",
      "[youtube] 7pSmZ8VvjUE: Downloading player a9d81eca\n"
     ]
    },
    {
     "name": "stderr",
     "output_type": "stream",
     "text": [
      "WARNING: [youtube] 7pSmZ8VvjUE: nsig extraction failed: Some formats may be missing\n",
      "         n = Dhsdqk5llqr5Pu_Uz ; player = https://www.youtube.com/s/player/a9d81eca/player_ias.vflset/en_US/base.js\n",
      "WARNING: [youtube] 7pSmZ8VvjUE: nsig extraction failed: Some formats may be missing\n",
      "         n = a6MvhuK_T8_ztT0Un ; player = https://www.youtube.com/s/player/a9d81eca/player_ias.vflset/en_US/base.js\n"
     ]
    },
    {
     "name": "stdout",
     "output_type": "stream",
     "text": [
      "[youtube] 7pSmZ8VvjUE: Downloading m3u8 information\n",
      "[info] 7pSmZ8VvjUE: Downloading 1 format(s): 614+140\n",
      "[hlsnative] Downloading m3u8 manifest\n",
      "[hlsnative] Total fragments: 71\n",
      "[download] Destination: Nỗi Niềm (Trần Trọng Ngọc) - Ngọc Lan (Album： Mặt Trời Bên Kia Mùa Hạ) [7pSmZ8VvjUE].f614.mp4\n",
      "[download] 100% of   23.17MiB in 00:00:11 at 1.94MiB/s                  \n",
      "[download] Destination: Nỗi Niềm (Trần Trọng Ngọc) - Ngọc Lan (Album： Mặt Trời Bên Kia Mùa Hạ) [7pSmZ8VvjUE].f140.m4a\n",
      "[download] 100% of    4.62MiB in 00:00:00 at 7.58MiB/s     \n",
      "[Merger] Merging formats into \"Nỗi Niềm (Trần Trọng Ngọc) - Ngọc Lan (Album： Mặt Trời Bên Kia Mùa Hạ) [7pSmZ8VvjUE].mp4\"\n",
      "Deleting original file Nỗi Niềm (Trần Trọng Ngọc) - Ngọc Lan (Album： Mặt Trời Bên Kia Mùa Hạ) [7pSmZ8VvjUE].f140.m4a (pass -k to keep)\n",
      "Deleting original file Nỗi Niềm (Trần Trọng Ngọc) - Ngọc Lan (Album： Mặt Trời Bên Kia Mùa Hạ) [7pSmZ8VvjUE].f614.mp4 (pass -k to keep)\n",
      "https://www.youtube.com/watch?v=j1p9LMnaGRs\n",
      "Tuổi Đá Buồn - Ngọc Lan | Tác Giả: Trịnh Công Sơn\n",
      "[youtube] Extracting URL: https://www.youtube.com/watch?v=j1p9LMnaGRs\n",
      "[youtube] j1p9LMnaGRs: Downloading webpage\n",
      "[youtube] j1p9LMnaGRs: Downloading ios player API JSON\n",
      "[youtube] j1p9LMnaGRs: Downloading player a9d81eca\n"
     ]
    },
    {
     "name": "stderr",
     "output_type": "stream",
     "text": [
      "WARNING: [youtube] j1p9LMnaGRs: nsig extraction failed: Some formats may be missing\n",
      "         n = XoMIyRlIbp9Fd0t_M ; player = https://www.youtube.com/s/player/a9d81eca/player_ias.vflset/en_US/base.js\n",
      "WARNING: [youtube] j1p9LMnaGRs: nsig extraction failed: Some formats may be missing\n",
      "         n = W280Q50G0mIwj9bE_ ; player = https://www.youtube.com/s/player/a9d81eca/player_ias.vflset/en_US/base.js\n"
     ]
    },
    {
     "name": "stdout",
     "output_type": "stream",
     "text": [
      "[youtube] j1p9LMnaGRs: Downloading m3u8 information\n",
      "[info] j1p9LMnaGRs: Downloading 1 format(s): 614+140\n",
      "[hlsnative] Downloading m3u8 manifest\n",
      "[hlsnative] Total fragments: 67\n",
      "[download] Destination: Tuổi Đá Buồn - Ngọc Lan ｜ Tác Giả： Trịnh Công Sơn [j1p9LMnaGRs].f614.mp4\n",
      "[download] 100% of   23.88MiB in 00:00:07 at 3.22MiB/s                   \n",
      "[download] Destination: Tuổi Đá Buồn - Ngọc Lan ｜ Tác Giả： Trịnh Công Sơn [j1p9LMnaGRs].f140.m4a\n",
      "[download] 100% of    4.33MiB in 00:00:00 at 9.57MiB/s     \n",
      "[Merger] Merging formats into \"Tuổi Đá Buồn - Ngọc Lan ｜ Tác Giả： Trịnh Công Sơn [j1p9LMnaGRs].mp4\"\n",
      "Deleting original file Tuổi Đá Buồn - Ngọc Lan ｜ Tác Giả： Trịnh Công Sơn [j1p9LMnaGRs].f614.mp4 (pass -k to keep)\n",
      "Deleting original file Tuổi Đá Buồn - Ngọc Lan ｜ Tác Giả： Trịnh Công Sơn [j1p9LMnaGRs].f140.m4a (pass -k to keep)\n",
      "https://www.youtube.com/watch?v=LmjN93gro2A\n",
      "Bài Không Tên Số 7 (Shorts) - Ngọc Lan x Vũ Thành An\n",
      "[youtube] Extracting URL: https://www.youtube.com/watch?v=LmjN93gro2A\n",
      "[youtube] LmjN93gro2A: Downloading webpage\n",
      "[youtube] LmjN93gro2A: Downloading ios player API JSON\n",
      "[youtube] LmjN93gro2A: Downloading player a9d81eca\n"
     ]
    },
    {
     "name": "stderr",
     "output_type": "stream",
     "text": [
      "WARNING: [youtube] LmjN93gro2A: nsig extraction failed: Some formats may be missing\n",
      "         n = 6mM2Bz8EQZAMVqRoL ; player = https://www.youtube.com/s/player/a9d81eca/player_ias.vflset/en_US/base.js\n",
      "WARNING: [youtube] LmjN93gro2A: nsig extraction failed: Some formats may be missing\n",
      "         n = eIczTre8rJ4TFGpDN ; player = https://www.youtube.com/s/player/a9d81eca/player_ias.vflset/en_US/base.js\n"
     ]
    },
    {
     "name": "stdout",
     "output_type": "stream",
     "text": [
      "[youtube] LmjN93gro2A: Downloading m3u8 information\n",
      "[info] LmjN93gro2A: Downloading 1 format(s): 614+140\n",
      "[hlsnative] Downloading m3u8 manifest\n",
      "[hlsnative] Total fragments: 16\n",
      "[download] Destination: Bài Không Tên Số 7 (Shorts) - Ngọc Lan x Vũ Thành An [LmjN93gro2A].f614.mp4\n",
      "[download] 100% of    6.82MiB in 00:00:03 at 2.26MiB/s                  \n",
      "[download] Destination: Bài Không Tên Số 7 (Shorts) - Ngọc Lan x Vũ Thành An [LmjN93gro2A].f140.m4a\n",
      "[download] 100% of    1.24MiB in 00:00:00 at 4.32MiB/s     \n",
      "[Merger] Merging formats into \"Bài Không Tên Số 7 (Shorts) - Ngọc Lan x Vũ Thành An [LmjN93gro2A].mp4\"\n",
      "Deleting original file Bài Không Tên Số 7 (Shorts) - Ngọc Lan x Vũ Thành An [LmjN93gro2A].f140.m4a (pass -k to keep)\n",
      "Deleting original file Bài Không Tên Số 7 (Shorts) - Ngọc Lan x Vũ Thành An [LmjN93gro2A].f614.mp4 (pass -k to keep)\n",
      "https://www.youtube.com/watch?v=-TB3S4mNrLo\n",
      "Người Tình Trăm Năm (Shorts) - Ngọc Lan x Đức Huy\n",
      "[youtube] Extracting URL: https://www.youtube.com/watch?v=-TB3S4mNrLo\n",
      "[youtube] -TB3S4mNrLo: Downloading webpage\n",
      "[youtube] -TB3S4mNrLo: Downloading ios player API JSON\n",
      "[youtube] -TB3S4mNrLo: Downloading player a9d81eca\n"
     ]
    },
    {
     "name": "stderr",
     "output_type": "stream",
     "text": [
      "WARNING: [youtube] -TB3S4mNrLo: nsig extraction failed: Some formats may be missing\n",
      "         n = ZSsV_pxPpHS3tabQy ; player = https://www.youtube.com/s/player/a9d81eca/player_ias.vflset/en_US/base.js\n",
      "WARNING: [youtube] -TB3S4mNrLo: nsig extraction failed: Some formats may be missing\n",
      "         n = 8ic3XvdCpsxHW5TMI ; player = https://www.youtube.com/s/player/a9d81eca/player_ias.vflset/en_US/base.js\n"
     ]
    },
    {
     "name": "stdout",
     "output_type": "stream",
     "text": [
      "[youtube] -TB3S4mNrLo: Downloading m3u8 information\n",
      "[info] -TB3S4mNrLo: Downloading 1 format(s): 614+140\n",
      "[hlsnative] Downloading m3u8 manifest\n",
      "[hlsnative] Total fragments: 24\n",
      "[download] Destination: Người Tình Trăm Năm (Shorts) - Ngọc Lan x Đức Huy [-TB3S4mNrLo].f614.mp4\n",
      "[download] 100% of    9.34MiB in 00:00:05 at 1.67MiB/s                  \n",
      "[download] Destination: Người Tình Trăm Năm (Shorts) - Ngọc Lan x Đức Huy [-TB3S4mNrLo].f140.m4a\n",
      "[download] 100% of    1.83MiB in 00:00:00 at 5.15MiB/s   \n",
      "[Merger] Merging formats into \"Người Tình Trăm Năm (Shorts) - Ngọc Lan x Đức Huy [-TB3S4mNrLo].mp4\"\n",
      "Deleting original file Người Tình Trăm Năm (Shorts) - Ngọc Lan x Đức Huy [-TB3S4mNrLo].f614.mp4 (pass -k to keep)\n",
      "Deleting original file Người Tình Trăm Năm (Shorts) - Ngọc Lan x Đức Huy [-TB3S4mNrLo].f140.m4a (pass -k to keep)\n",
      "https://www.youtube.com/watch?v=1_Dh-1lblms\n",
      "Mưa Trên Biển Vắng (Shorts) - Ngọc Lan x Nhạc Ngoại Pháp Lời Việt Nhật Ngân\n",
      "[youtube] Extracting URL: https://www.youtube.com/watch?v=1_Dh-1lblms\n",
      "[youtube] 1_Dh-1lblms: Downloading webpage\n",
      "[youtube] 1_Dh-1lblms: Downloading ios player API JSON\n",
      "[youtube] 1_Dh-1lblms: Downloading player a9d81eca\n"
     ]
    },
    {
     "name": "stderr",
     "output_type": "stream",
     "text": [
      "WARNING: [youtube] 1_Dh-1lblms: nsig extraction failed: Some formats may be missing\n",
      "         n = OAMbCHawQ1AhhQcrb ; player = https://www.youtube.com/s/player/a9d81eca/player_ias.vflset/en_US/base.js\n",
      "WARNING: [youtube] 1_Dh-1lblms: nsig extraction failed: Some formats may be missing\n",
      "         n = tSc50YJOj1FXcZ7iM ; player = https://www.youtube.com/s/player/a9d81eca/player_ias.vflset/en_US/base.js\n"
     ]
    },
    {
     "name": "stdout",
     "output_type": "stream",
     "text": [
      "[youtube] 1_Dh-1lblms: Downloading m3u8 information\n",
      "[info] 1_Dh-1lblms: Downloading 1 format(s): 614+140\n",
      "[hlsnative] Downloading m3u8 manifest\n",
      "[hlsnative] Total fragments: 14\n",
      "[download] Destination: Mưa Trên Biển Vắng (Shorts) - Ngọc Lan x Nhạc Ngoại Pháp Lời Việt Nhật Ngân [1_Dh-1lblms].f614.mp4\n",
      "[download] 100% of    4.60MiB in 00:00:01 at 3.95MiB/s                   \n",
      "[download] Destination: Mưa Trên Biển Vắng (Shorts) - Ngọc Lan x Nhạc Ngoại Pháp Lời Việt Nhật Ngân [1_Dh-1lblms].f140.m4a\n",
      "[download] 100% of    1.08MiB in 00:00:00 at 6.80MiB/s     \n",
      "[Merger] Merging formats into \"Mưa Trên Biển Vắng (Shorts) - Ngọc Lan x Nhạc Ngoại Pháp Lời Việt Nhật Ngân [1_Dh-1lblms].mp4\"\n",
      "Deleting original file Mưa Trên Biển Vắng (Shorts) - Ngọc Lan x Nhạc Ngoại Pháp Lời Việt Nhật Ngân [1_Dh-1lblms].f614.mp4 (pass -k to keep)\n",
      "Deleting original file Mưa Trên Biển Vắng (Shorts) - Ngọc Lan x Nhạc Ngoại Pháp Lời Việt Nhật Ngân [1_Dh-1lblms].f140.m4a (pass -k to keep)\n",
      "https://www.youtube.com/watch?v=4VgJ88SkH_c\n",
      "Nỗi Sầu - Ngọc Lan (Album: Hạnh Phúc Nơi Nào)\n",
      "[youtube] Extracting URL: https://www.youtube.com/watch?v=4VgJ88SkH_c\n",
      "[youtube] 4VgJ88SkH_c: Downloading webpage\n",
      "[youtube] 4VgJ88SkH_c: Downloading ios player API JSON\n",
      "[youtube] 4VgJ88SkH_c: Downloading player a9d81eca\n"
     ]
    },
    {
     "name": "stderr",
     "output_type": "stream",
     "text": [
      "WARNING: [youtube] 4VgJ88SkH_c: nsig extraction failed: Some formats may be missing\n",
      "         n = C88vgtww1VPJeeC04 ; player = https://www.youtube.com/s/player/a9d81eca/player_ias.vflset/en_US/base.js\n",
      "WARNING: [youtube] 4VgJ88SkH_c: nsig extraction failed: Some formats may be missing\n",
      "         n = CssXre4DIQSxApNyh ; player = https://www.youtube.com/s/player/a9d81eca/player_ias.vflset/en_US/base.js\n"
     ]
    },
    {
     "name": "stdout",
     "output_type": "stream",
     "text": [
      "[youtube] 4VgJ88SkH_c: Downloading m3u8 information\n",
      "[info] 4VgJ88SkH_c: Downloading 1 format(s): 614+140\n",
      "[hlsnative] Downloading m3u8 manifest\n",
      "[hlsnative] Total fragments: 61\n",
      "[download] Destination: Nỗi Sầu - Ngọc Lan (Album： Hạnh Phúc Nơi Nào) [4VgJ88SkH_c].f614.mp4\n",
      "[download] 100% of   19.22MiB in 00:00:03 at 5.05MiB/s                   \n",
      "[download] Destination: Nỗi Sầu - Ngọc Lan (Album： Hạnh Phúc Nơi Nào) [4VgJ88SkH_c].f140.m4a\n",
      "[download] 100% of    3.94MiB in 00:00:00 at 9.62MiB/s     \n",
      "[Merger] Merging formats into \"Nỗi Sầu - Ngọc Lan (Album： Hạnh Phúc Nơi Nào) [4VgJ88SkH_c].mp4\"\n",
      "Deleting original file Nỗi Sầu - Ngọc Lan (Album： Hạnh Phúc Nơi Nào) [4VgJ88SkH_c].f140.m4a (pass -k to keep)\n",
      "Deleting original file Nỗi Sầu - Ngọc Lan (Album： Hạnh Phúc Nơi Nào) [4VgJ88SkH_c].f614.mp4 (pass -k to keep)\n",
      "https://www.youtube.com/watch?v=k-kUEW0q_KI\n",
      "Cho Em Quên Tuổi Ngọc (Shorts) - Ngọc Lan x Lam Phương\n",
      "[youtube] Extracting URL: https://www.youtube.com/watch?v=k-kUEW0q_KI\n",
      "[youtube] k-kUEW0q_KI: Downloading webpage\n",
      "[youtube] k-kUEW0q_KI: Downloading ios player API JSON\n",
      "[youtube] k-kUEW0q_KI: Downloading player a9d81eca\n"
     ]
    },
    {
     "name": "stderr",
     "output_type": "stream",
     "text": [
      "WARNING: [youtube] k-kUEW0q_KI: nsig extraction failed: Some formats may be missing\n",
      "         n = lv8ozxPF-tAiNddFS ; player = https://www.youtube.com/s/player/a9d81eca/player_ias.vflset/en_US/base.js\n",
      "WARNING: [youtube] k-kUEW0q_KI: nsig extraction failed: Some formats may be missing\n",
      "         n = 9I8I3W04toc-irg6m ; player = https://www.youtube.com/s/player/a9d81eca/player_ias.vflset/en_US/base.js\n"
     ]
    },
    {
     "name": "stdout",
     "output_type": "stream",
     "text": [
      "[youtube] k-kUEW0q_KI: Downloading m3u8 information\n",
      "[info] k-kUEW0q_KI: Downloading 1 format(s): 614+140\n",
      "[hlsnative] Downloading m3u8 manifest\n",
      "[hlsnative] Total fragments: 14\n",
      "[download] Destination: Cho Em Quên Tuổi Ngọc (Shorts) - Ngọc Lan x Lam Phương [k-kUEW0q_KI].f614.mp4\n",
      "[download] 100% of    5.50MiB in 00:00:01 at 4.17MiB/s                   \n",
      "[download] Destination: Cho Em Quên Tuổi Ngọc (Shorts) - Ngọc Lan x Lam Phương [k-kUEW0q_KI].f140.m4a\n",
      "[download] 100% of    1.08MiB in 00:00:00 at 8.08MiB/s     \n",
      "[Merger] Merging formats into \"Cho Em Quên Tuổi Ngọc (Shorts) - Ngọc Lan x Lam Phương [k-kUEW0q_KI].mp4\"\n",
      "Deleting original file Cho Em Quên Tuổi Ngọc (Shorts) - Ngọc Lan x Lam Phương [k-kUEW0q_KI].f140.m4a (pass -k to keep)\n",
      "Deleting original file Cho Em Quên Tuổi Ngọc (Shorts) - Ngọc Lan x Lam Phương [k-kUEW0q_KI].f614.mp4 (pass -k to keep)\n",
      "https://www.youtube.com/watch?v=-l_1zi5mDcs\n",
      "Xin Thời Gian Qua Mau (Shorts) - Ngọc Lan x Lam Phương\n",
      "[youtube] Extracting URL: https://www.youtube.com/watch?v=-l_1zi5mDcs\n",
      "[youtube] -l_1zi5mDcs: Downloading webpage\n",
      "[youtube] -l_1zi5mDcs: Downloading ios player API JSON\n",
      "[youtube] -l_1zi5mDcs: Downloading player a9d81eca\n"
     ]
    },
    {
     "name": "stderr",
     "output_type": "stream",
     "text": [
      "WARNING: [youtube] -l_1zi5mDcs: nsig extraction failed: Some formats may be missing\n",
      "         n = ocMxDawjoYi5i6wC1 ; player = https://www.youtube.com/s/player/a9d81eca/player_ias.vflset/en_US/base.js\n",
      "WARNING: [youtube] -l_1zi5mDcs: nsig extraction failed: Some formats may be missing\n",
      "         n = RUs6NCgkX4WyvjnJl ; player = https://www.youtube.com/s/player/a9d81eca/player_ias.vflset/en_US/base.js\n"
     ]
    },
    {
     "name": "stdout",
     "output_type": "stream",
     "text": [
      "[youtube] -l_1zi5mDcs: Downloading m3u8 information\n",
      "[info] -l_1zi5mDcs: Downloading 1 format(s): 614+140\n",
      "[hlsnative] Downloading m3u8 manifest\n",
      "[hlsnative] Total fragments: 20\n",
      "[download] Destination: Xin Thời Gian Qua Mau (Shorts) - Ngọc Lan x Lam Phương [-l_1zi5mDcs].f614.mp4\n",
      "[download] 100% of    8.27MiB in 00:00:09 at 878.94KiB/s               \n",
      "[download] Destination: Xin Thời Gian Qua Mau (Shorts) - Ngọc Lan x Lam Phương [-l_1zi5mDcs].f140.m4a\n",
      "[download] 100% of    1.55MiB in 00:00:00 at 7.10MiB/s     \n",
      "[Merger] Merging formats into \"Xin Thời Gian Qua Mau (Shorts) - Ngọc Lan x Lam Phương [-l_1zi5mDcs].mp4\"\n",
      "Deleting original file Xin Thời Gian Qua Mau (Shorts) - Ngọc Lan x Lam Phương [-l_1zi5mDcs].f140.m4a (pass -k to keep)\n",
      "Deleting original file Xin Thời Gian Qua Mau (Shorts) - Ngọc Lan x Lam Phương [-l_1zi5mDcs].f614.mp4 (pass -k to keep)\n",
      "https://www.youtube.com/watch?v=F8SRKXfbdfE\n",
      "Hạnh Phúc Trôi Xa - Ngọc Lan (Album: Ngọc Lan)\n",
      "[youtube] Extracting URL: https://www.youtube.com/watch?v=F8SRKXfbdfE\n",
      "[youtube] F8SRKXfbdfE: Downloading webpage\n",
      "[youtube] F8SRKXfbdfE: Downloading ios player API JSON\n",
      "[youtube] F8SRKXfbdfE: Downloading m3u8 information\n",
      "[info] F8SRKXfbdfE: Downloading 1 format(s): 614+140\n",
      "[hlsnative] Downloading m3u8 manifest\n",
      "[hlsnative] Total fragments: 57\n",
      "[download] Destination: Hạnh Phúc Trôi Xa - Ngọc Lan (Album： Ngọc Lan) [F8SRKXfbdfE].f614.mp4\n",
      "[download] 100% of   53.14MiB in 00:00:15 at 3.52MiB/s                  \n",
      "[download] Destination: Hạnh Phúc Trôi Xa - Ngọc Lan (Album： Ngọc Lan) [F8SRKXfbdfE].f140.m4a\n",
      "[download] 100% of    4.08MiB in 00:00:00 at 6.28MiB/s     \n",
      "[Merger] Merging formats into \"Hạnh Phúc Trôi Xa - Ngọc Lan (Album： Ngọc Lan) [F8SRKXfbdfE].mp4\"\n",
      "Deleting original file Hạnh Phúc Trôi Xa - Ngọc Lan (Album： Ngọc Lan) [F8SRKXfbdfE].f614.mp4 (pass -k to keep)\n",
      "Deleting original file Hạnh Phúc Trôi Xa - Ngọc Lan (Album： Ngọc Lan) [F8SRKXfbdfE].f140.m4a (pass -k to keep)\n",
      "https://www.youtube.com/watch?v=I4T0civGfBg\n",
      "Gọi Mãi Tên Người - Ngọc Lan (Album: Ngọc Lan)\n",
      "[youtube] Extracting URL: https://www.youtube.com/watch?v=I4T0civGfBg\n",
      "[youtube] I4T0civGfBg: Downloading webpage\n",
      "[youtube] I4T0civGfBg: Downloading ios player API JSON\n",
      "[youtube] I4T0civGfBg: Downloading player a9d81eca\n"
     ]
    },
    {
     "name": "stderr",
     "output_type": "stream",
     "text": [
      "WARNING: [youtube] I4T0civGfBg: nsig extraction failed: Some formats may be missing\n",
      "         n = AN823kt4mPmDJtUp5 ; player = https://www.youtube.com/s/player/a9d81eca/player_ias.vflset/en_US/base.js\n",
      "WARNING: [youtube] I4T0civGfBg: nsig extraction failed: Some formats may be missing\n",
      "         n = t3MTg5xsaQSmMJm6q ; player = https://www.youtube.com/s/player/a9d81eca/player_ias.vflset/en_US/base.js\n"
     ]
    },
    {
     "name": "stdout",
     "output_type": "stream",
     "text": [
      "[youtube] I4T0civGfBg: Downloading m3u8 information\n",
      "[info] I4T0civGfBg: Downloading 1 format(s): 614+140\n",
      "[hlsnative] Downloading m3u8 manifest\n",
      "[hlsnative] Total fragments: 60\n",
      "[download] Destination: Gọi Mãi Tên Người - Ngọc Lan (Album： Ngọc Lan) [I4T0civGfBg].f614.mp4\n",
      "[download] 100% of   25.69MiB in 00:00:04 at 5.66MiB/s                   \n",
      "[download] Destination: Gọi Mãi Tên Người - Ngọc Lan (Album： Ngọc Lan) [I4T0civGfBg].f140.m4a\n",
      "[download] 100% of    3.87MiB in 00:00:00 at 9.64MiB/s     \n",
      "[Merger] Merging formats into \"Gọi Mãi Tên Người - Ngọc Lan (Album： Ngọc Lan) [I4T0civGfBg].mp4\"\n",
      "Deleting original file Gọi Mãi Tên Người - Ngọc Lan (Album： Ngọc Lan) [I4T0civGfBg].f140.m4a (pass -k to keep)\n",
      "Deleting original file Gọi Mãi Tên Người - Ngọc Lan (Album： Ngọc Lan) [I4T0civGfBg].f614.mp4 (pass -k to keep)\n",
      "https://www.youtube.com/watch?v=glFKR0GBe4c\n",
      "Buồn (Lam Phương) - Ngọc Lan (Album: Con Đường Tôi Về)\n",
      "[youtube] Extracting URL: https://www.youtube.com/watch?v=glFKR0GBe4c\n",
      "[youtube] glFKR0GBe4c: Downloading webpage\n",
      "[youtube] glFKR0GBe4c: Downloading ios player API JSON\n",
      "[youtube] glFKR0GBe4c: Downloading m3u8 information\n",
      "[info] glFKR0GBe4c: Downloading 1 format(s): 614+140\n",
      "[hlsnative] Downloading m3u8 manifest\n",
      "[hlsnative] Total fragments: 65\n",
      "[download] Destination: Buồn (Lam Phương) - Ngọc Lan (Album： Con Đường Tôi Về) [glFKR0GBe4c].f614.mp4\n",
      "[download] 100% of   23.84MiB in 00:00:40 at 600.78KiB/s                 \n",
      "[download] Destination: Buồn (Lam Phương) - Ngọc Lan (Album： Con Đường Tôi Về) [glFKR0GBe4c].f140.m4a\n",
      "[download] 100% of    4.24MiB in 00:00:00 at 6.22MiB/s     \n",
      "[Merger] Merging formats into \"Buồn (Lam Phương) - Ngọc Lan (Album： Con Đường Tôi Về) [glFKR0GBe4c].mp4\"\n",
      "Deleting original file Buồn (Lam Phương) - Ngọc Lan (Album： Con Đường Tôi Về) [glFKR0GBe4c].f614.mp4 (pass -k to keep)\n",
      "Deleting original file Buồn (Lam Phương) - Ngọc Lan (Album： Con Đường Tôi Về) [glFKR0GBe4c].f140.m4a (pass -k to keep)\n",
      "https://www.youtube.com/watch?v=jy4khJq6Xgg\n",
      "Tình Yêu Đến Trong Giã Từ (Nguyễn Ánh 9) - Ngọc Lan (Album: Yêu Dấu Khôn Nguôi)\n",
      "[youtube] Extracting URL: https://www.youtube.com/watch?v=jy4khJq6Xgg\n",
      "[youtube] jy4khJq6Xgg: Downloading webpage\n",
      "[youtube] jy4khJq6Xgg: Downloading ios player API JSON\n",
      "[youtube] jy4khJq6Xgg: Downloading player a9d81eca\n"
     ]
    },
    {
     "name": "stderr",
     "output_type": "stream",
     "text": [
      "WARNING: [youtube] jy4khJq6Xgg: nsig extraction failed: Some formats may be missing\n",
      "         n = U9sujyTIJ5Z38SgaV ; player = https://www.youtube.com/s/player/a9d81eca/player_ias.vflset/en_US/base.js\n",
      "WARNING: [youtube] jy4khJq6Xgg: nsig extraction failed: Some formats may be missing\n",
      "         n = 9s8N1KJq2-5p9hFOM ; player = https://www.youtube.com/s/player/a9d81eca/player_ias.vflset/en_US/base.js\n"
     ]
    },
    {
     "name": "stdout",
     "output_type": "stream",
     "text": [
      "[youtube] jy4khJq6Xgg: Downloading m3u8 information\n",
      "[info] jy4khJq6Xgg: Downloading 1 format(s): 614+140\n",
      "[hlsnative] Downloading m3u8 manifest\n",
      "[hlsnative] Total fragments: 54\n",
      "[download] Destination: Tình Yêu Đến Trong Giã Từ (Nguyễn Ánh 9) - Ngọc Lan (Album： Yêu Dấu Khôn Nguôi) [jy4khJq6Xgg].f614.mp4\n",
      "[download] 100% of   24.14MiB in 00:00:05 at 4.57MiB/s                  \n",
      "[download] Destination: Tình Yêu Đến Trong Giã Từ (Nguyễn Ánh 9) - Ngọc Lan (Album： Yêu Dấu Khôn Nguôi) [jy4khJq6Xgg].f140.m4a\n",
      "[download] 100% of    3.48MiB in 00:00:00 at 7.91MiB/s     \n",
      "[Merger] Merging formats into \"Tình Yêu Đến Trong Giã Từ (Nguyễn Ánh 9) - Ngọc Lan (Album： Yêu Dấu Khôn Nguôi) [jy4khJq6Xgg].mp4\"\n",
      "Deleting original file Tình Yêu Đến Trong Giã Từ (Nguyễn Ánh 9) - Ngọc Lan (Album： Yêu Dấu Khôn Nguôi) [jy4khJq6Xgg].f140.m4a (pass -k to keep)\n",
      "Deleting original file Tình Yêu Đến Trong Giã Từ (Nguyễn Ánh 9) - Ngọc Lan (Album： Yêu Dấu Khôn Nguôi) [jy4khJq6Xgg].f614.mp4 (pass -k to keep)\n",
      "https://www.youtube.com/watch?v=sqOtFKyKAr0\n",
      "Khúc Thụy Du (Anh Bằng) - Ngọc Lan (Album: Khi Tình Đã Xa)\n",
      "[youtube] Extracting URL: https://www.youtube.com/watch?v=sqOtFKyKAr0\n",
      "[youtube] sqOtFKyKAr0: Downloading webpage\n",
      "[youtube] sqOtFKyKAr0: Downloading ios player API JSON\n",
      "[youtube] sqOtFKyKAr0: Downloading player a9d81eca\n"
     ]
    },
    {
     "name": "stderr",
     "output_type": "stream",
     "text": [
      "WARNING: [youtube] sqOtFKyKAr0: nsig extraction failed: Some formats may be missing\n",
      "         n = e7M6JzUWSCZTTy82p ; player = https://www.youtube.com/s/player/a9d81eca/player_ias.vflset/en_US/base.js\n",
      "WARNING: [youtube] sqOtFKyKAr0: nsig extraction failed: Some formats may be missing\n",
      "         n = uSsrCF9Xt3GyEiFU9 ; player = https://www.youtube.com/s/player/a9d81eca/player_ias.vflset/en_US/base.js\n"
     ]
    },
    {
     "name": "stdout",
     "output_type": "stream",
     "text": [
      "[youtube] sqOtFKyKAr0: Downloading m3u8 information\n",
      "[info] sqOtFKyKAr0: Downloading 1 format(s): 614+140\n",
      "[hlsnative] Downloading m3u8 manifest\n",
      "[hlsnative] Total fragments: 80\n",
      "[download] Destination: Khúc Thụy Du (Anh Bằng) - Ngọc Lan (Album： Khi Tình Đã Xa) [sqOtFKyKAr0].f614.mp4\n",
      "[download] 100% of   49.40MiB in 00:00:11 at 4.47MiB/s                  \n",
      "[download] Destination: Khúc Thụy Du (Anh Bằng) - Ngọc Lan (Album： Khi Tình Đã Xa) [sqOtFKyKAr0].f140.m4a\n",
      "[download] 100% of    5.16MiB in 00:00:00 at 10.47MiB/s    \n",
      "[Merger] Merging formats into \"Khúc Thụy Du (Anh Bằng) - Ngọc Lan (Album： Khi Tình Đã Xa) [sqOtFKyKAr0].mp4\"\n",
      "Deleting original file Khúc Thụy Du (Anh Bằng) - Ngọc Lan (Album： Khi Tình Đã Xa) [sqOtFKyKAr0].f614.mp4 (pass -k to keep)\n",
      "Deleting original file Khúc Thụy Du (Anh Bằng) - Ngọc Lan (Album： Khi Tình Đã Xa) [sqOtFKyKAr0].f140.m4a (pass -k to keep)\n",
      "https://www.youtube.com/watch?v=p55TElSM0aI\n",
      "Tình Nhớ (Trịnh Công Sơn) - Ngọc Lan (Album: Hát cho quê hương Việt Nam)\n",
      "[youtube] Extracting URL: https://www.youtube.com/watch?v=p55TElSM0aI\n",
      "[youtube] p55TElSM0aI: Downloading webpage\n",
      "[youtube] p55TElSM0aI: Downloading ios player API JSON\n",
      "[youtube] p55TElSM0aI: Downloading player a9d81eca\n"
     ]
    },
    {
     "name": "stderr",
     "output_type": "stream",
     "text": [
      "WARNING: [youtube] p55TElSM0aI: nsig extraction failed: Some formats may be missing\n",
      "         n = Fhsi4ckTmwhYeQcm1 ; player = https://www.youtube.com/s/player/a9d81eca/player_ias.vflset/en_US/base.js\n",
      "WARNING: [youtube] p55TElSM0aI: nsig extraction failed: Some formats may be missing\n",
      "         n = JdMgszS3rMPypMjYS ; player = https://www.youtube.com/s/player/a9d81eca/player_ias.vflset/en_US/base.js\n"
     ]
    },
    {
     "name": "stdout",
     "output_type": "stream",
     "text": [
      "[youtube] p55TElSM0aI: Downloading m3u8 information\n",
      "[info] p55TElSM0aI: Downloading 1 format(s): 614+140\n",
      "[hlsnative] Downloading m3u8 manifest\n",
      "[hlsnative] Total fragments: 84\n",
      "[download] Destination: Tình Nhớ (Trịnh Công Sơn) - Ngọc Lan (Album： Hát cho quê hương Việt Nam) [p55TElSM0aI].f614.mp4\n",
      "[download] 100% of   25.39MiB in 00:00:04 at 5.12MiB/s                   \n",
      "[download] Destination: Tình Nhớ (Trịnh Công Sơn) - Ngọc Lan (Album： Hát cho quê hương Việt Nam) [p55TElSM0aI].f140.m4a\n",
      "[download] 100% of    5.41MiB in 00:00:00 at 8.34MiB/s     \n",
      "[Merger] Merging formats into \"Tình Nhớ (Trịnh Công Sơn) - Ngọc Lan (Album： Hát cho quê hương Việt Nam) [p55TElSM0aI].mp4\"\n",
      "Deleting original file Tình Nhớ (Trịnh Công Sơn) - Ngọc Lan (Album： Hát cho quê hương Việt Nam) [p55TElSM0aI].f614.mp4 (pass -k to keep)\n",
      "Deleting original file Tình Nhớ (Trịnh Công Sơn) - Ngọc Lan (Album： Hát cho quê hương Việt Nam) [p55TElSM0aI].f140.m4a (pass -k to keep)\n",
      "https://www.youtube.com/watch?v=cdL6Z4ulcXY\n",
      "Tuổi Đá Buồn (Trịnh Công Sơn) - Ngọc Lan\n",
      "[youtube] Extracting URL: https://www.youtube.com/watch?v=cdL6Z4ulcXY\n",
      "[youtube] cdL6Z4ulcXY: Downloading webpage\n",
      "[youtube] cdL6Z4ulcXY: Downloading ios player API JSON\n",
      "[youtube] cdL6Z4ulcXY: Downloading player a9d81eca\n"
     ]
    },
    {
     "name": "stderr",
     "output_type": "stream",
     "text": [
      "WARNING: [youtube] cdL6Z4ulcXY: nsig extraction failed: Some formats may be missing\n",
      "         n = Rm8lclKuhoJbFT3kG ; player = https://www.youtube.com/s/player/a9d81eca/player_ias.vflset/en_US/base.js\n",
      "WARNING: [youtube] cdL6Z4ulcXY: nsig extraction failed: Some formats may be missing\n",
      "         n = YVMIjJIHJnSgbFcrc ; player = https://www.youtube.com/s/player/a9d81eca/player_ias.vflset/en_US/base.js\n"
     ]
    },
    {
     "name": "stdout",
     "output_type": "stream",
     "text": [
      "[youtube] cdL6Z4ulcXY: Downloading m3u8 information\n",
      "[info] cdL6Z4ulcXY: Downloading 1 format(s): 614+140\n",
      "[hlsnative] Downloading m3u8 manifest\n",
      "[hlsnative] Total fragments: 52\n",
      "[download] Destination: Tuổi Đá Buồn (Trịnh Công Sơn) - Ngọc Lan [cdL6Z4ulcXY].f614.mp4\n",
      "[download] 100% of   21.52MiB in 00:00:04 at 5.05MiB/s                   \n",
      "[download] Destination: Tuổi Đá Buồn (Trịnh Công Sơn) - Ngọc Lan [cdL6Z4ulcXY].f140.m4a\n",
      "[download] 100% of    4.27MiB in 00:00:00 at 9.93MiB/s     \n",
      "[Merger] Merging formats into \"Tuổi Đá Buồn (Trịnh Công Sơn) - Ngọc Lan [cdL6Z4ulcXY].mp4\"\n",
      "Deleting original file Tuổi Đá Buồn (Trịnh Công Sơn) - Ngọc Lan [cdL6Z4ulcXY].f140.m4a (pass -k to keep)\n",
      "Deleting original file Tuổi Đá Buồn (Trịnh Công Sơn) - Ngọc Lan [cdL6Z4ulcXY].f614.mp4 (pass -k to keep)\n",
      "https://www.youtube.com/watch?v=vMwYki42mzk\n",
      "Xin Tự Hiểu Mình - Ngọc Lan, Như Mai (Album: Dạ Vũ Tím)\n",
      "[youtube] Extracting URL: https://www.youtube.com/watch?v=vMwYki42mzk\n",
      "[youtube] vMwYki42mzk: Downloading webpage\n",
      "[youtube] vMwYki42mzk: Downloading ios player API JSON\n",
      "[youtube] vMwYki42mzk: Downloading player a9d81eca\n"
     ]
    },
    {
     "name": "stderr",
     "output_type": "stream",
     "text": [
      "WARNING: [youtube] vMwYki42mzk: nsig extraction failed: Some formats may be missing\n",
      "         n = YystDb1tYTRhvwuV1 ; player = https://www.youtube.com/s/player/a9d81eca/player_ias.vflset/en_US/base.js\n",
      "WARNING: [youtube] vMwYki42mzk: nsig extraction failed: Some formats may be missing\n",
      "         n = 9Bc_DwN9QeSdO5e3F ; player = https://www.youtube.com/s/player/a9d81eca/player_ias.vflset/en_US/base.js\n"
     ]
    },
    {
     "name": "stdout",
     "output_type": "stream",
     "text": [
      "[youtube] vMwYki42mzk: Downloading m3u8 information\n",
      "[info] vMwYki42mzk: Downloading 1 format(s): 614+140\n",
      "[hlsnative] Downloading m3u8 manifest\n",
      "[hlsnative] Total fragments: 51\n",
      "[download] Destination: Xin Tự Hiểu Mình - Ngọc Lan, Như Mai (Album： Dạ Vũ Tím) [vMwYki42mzk].f614.mp4\n",
      "[download] 100% of   84.39MiB in 00:00:12 at 6.53MiB/s                  \n",
      "[download] Destination: Xin Tự Hiểu Mình - Ngọc Lan, Như Mai (Album： Dạ Vũ Tím) [vMwYki42mzk].f140.m4a\n",
      "[download] 100% of    3.98MiB in 00:00:00 at 5.85MiB/s   \n",
      "[Merger] Merging formats into \"Xin Tự Hiểu Mình - Ngọc Lan, Như Mai (Album： Dạ Vũ Tím) [vMwYki42mzk].mp4\"\n",
      "Deleting original file Xin Tự Hiểu Mình - Ngọc Lan, Như Mai (Album： Dạ Vũ Tím) [vMwYki42mzk].f140.m4a (pass -k to keep)\n",
      "Deleting original file Xin Tự Hiểu Mình - Ngọc Lan, Như Mai (Album： Dạ Vũ Tím) [vMwYki42mzk].f614.mp4 (pass -k to keep)\n",
      "https://www.youtube.com/watch?v=ZAIDu9aX_eU\n",
      "Em Sẽ Cho Tôi Bầu Trời - Ngọc Lan (Album: Bên Đời Hiu Quạnh)\n",
      "[youtube] Extracting URL: https://www.youtube.com/watch?v=ZAIDu9aX_eU\n",
      "[youtube] ZAIDu9aX_eU: Downloading webpage\n",
      "[youtube] ZAIDu9aX_eU: Downloading ios player API JSON\n",
      "[youtube] ZAIDu9aX_eU: Downloading player a9d81eca\n"
     ]
    },
    {
     "name": "stderr",
     "output_type": "stream",
     "text": [
      "WARNING: [youtube] ZAIDu9aX_eU: nsig extraction failed: Some formats may be missing\n",
      "         n = 7r8Vzk6R5U3PnjWFz ; player = https://www.youtube.com/s/player/a9d81eca/player_ias.vflset/en_US/base.js\n",
      "WARNING: [youtube] ZAIDu9aX_eU: nsig extraction failed: Some formats may be missing\n",
      "         n = RB89qCz1r7U-5RrQa ; player = https://www.youtube.com/s/player/a9d81eca/player_ias.vflset/en_US/base.js\n"
     ]
    },
    {
     "name": "stdout",
     "output_type": "stream",
     "text": [
      "[youtube] ZAIDu9aX_eU: Downloading m3u8 information\n",
      "[info] ZAIDu9aX_eU: Downloading 1 format(s): 614+140\n",
      "[hlsnative] Downloading m3u8 manifest\n",
      "[hlsnative] Total fragments: 59\n",
      "[download] Destination: Em Sẽ Cho Tôi Bầu Trời - Ngọc Lan (Album： Bên Đời Hiu Quạnh) [ZAIDu9aX_eU].f614.mp4\n",
      "[download] 100% of   47.99MiB in 00:00:14 at 3.32MiB/s                  \n",
      "[download] Destination: Em Sẽ Cho Tôi Bầu Trời - Ngọc Lan (Album： Bên Đời Hiu Quạnh) [ZAIDu9aX_eU].f140.m4a\n",
      "[download] 100% of    3.85MiB in 00:00:01 at 3.09MiB/s   \n",
      "[Merger] Merging formats into \"Em Sẽ Cho Tôi Bầu Trời - Ngọc Lan (Album： Bên Đời Hiu Quạnh) [ZAIDu9aX_eU].mp4\"\n",
      "Deleting original file Em Sẽ Cho Tôi Bầu Trời - Ngọc Lan (Album： Bên Đời Hiu Quạnh) [ZAIDu9aX_eU].f140.m4a (pass -k to keep)\n",
      "Deleting original file Em Sẽ Cho Tôi Bầu Trời - Ngọc Lan (Album： Bên Đời Hiu Quạnh) [ZAIDu9aX_eU].f614.mp4 (pass -k to keep)\n",
      "https://www.youtube.com/watch?v=GTUroh0OtPY\n",
      "Đừng Phá Vỡ Ân Tình - Ngọc Lan (Album: Tình Xanh)\n",
      "[youtube] Extracting URL: https://www.youtube.com/watch?v=GTUroh0OtPY\n",
      "[youtube] GTUroh0OtPY: Downloading webpage\n",
      "[youtube] GTUroh0OtPY: Downloading ios player API JSON\n",
      "[youtube] GTUroh0OtPY: Downloading player a9d81eca\n"
     ]
    },
    {
     "name": "stderr",
     "output_type": "stream",
     "text": [
      "WARNING: [youtube] GTUroh0OtPY: nsig extraction failed: Some formats may be missing\n",
      "         n = 5rcvzNEvyQrVvond8 ; player = https://www.youtube.com/s/player/a9d81eca/player_ias.vflset/en_US/base.js\n",
      "WARNING: [youtube] GTUroh0OtPY: nsig extraction failed: Some formats may be missing\n",
      "         n = LhsGT2IqjGI4rTEQv ; player = https://www.youtube.com/s/player/a9d81eca/player_ias.vflset/en_US/base.js\n"
     ]
    },
    {
     "name": "stdout",
     "output_type": "stream",
     "text": [
      "[youtube] GTUroh0OtPY: Downloading m3u8 information\n",
      "[info] GTUroh0OtPY: Downloading 1 format(s): 614+140\n",
      "[hlsnative] Downloading m3u8 manifest\n",
      "[hlsnative] Total fragments: 46\n",
      "[download] Destination: Đừng Phá Vỡ Ân Tình - Ngọc Lan (Album： Tình Xanh) [GTUroh0OtPY].f614.mp4\n",
      "[download] 100% of   22.03MiB in 00:00:03 at 5.72MiB/s                   \n",
      "[download] Destination: Đừng Phá Vỡ Ân Tình - Ngọc Lan (Album： Tình Xanh) [GTUroh0OtPY].f140.m4a\n",
      "[download] 100% of    3.75MiB in 00:00:00 at 10.21MiB/s    \n",
      "[Merger] Merging formats into \"Đừng Phá Vỡ Ân Tình - Ngọc Lan (Album： Tình Xanh) [GTUroh0OtPY].mp4\"\n",
      "Deleting original file Đừng Phá Vỡ Ân Tình - Ngọc Lan (Album： Tình Xanh) [GTUroh0OtPY].f614.mp4 (pass -k to keep)\n",
      "Deleting original file Đừng Phá Vỡ Ân Tình - Ngọc Lan (Album： Tình Xanh) [GTUroh0OtPY].f140.m4a (pass -k to keep)\n",
      "https://www.youtube.com/watch?v=el-Ty3L52Qo\n",
      "Tình Sau Cơn Bão - Ngọc Lan (Album: Tiếng hát Ngọc Lan 2)\n",
      "[youtube] Extracting URL: https://www.youtube.com/watch?v=el-Ty3L52Qo\n",
      "[youtube] el-Ty3L52Qo: Downloading webpage\n",
      "[youtube] el-Ty3L52Qo: Downloading ios player API JSON\n",
      "[youtube] el-Ty3L52Qo: Downloading player a9d81eca\n"
     ]
    },
    {
     "name": "stderr",
     "output_type": "stream",
     "text": [
      "WARNING: [youtube] el-Ty3L52Qo: nsig extraction failed: Some formats may be missing\n",
      "         n = u3MG8_7uaLYT4vJPS ; player = https://www.youtube.com/s/player/a9d81eca/player_ias.vflset/en_US/base.js\n",
      "WARNING: [youtube] el-Ty3L52Qo: nsig extraction failed: Some formats may be missing\n",
      "         n = xjMNop0sO5s2NwPZJ ; player = https://www.youtube.com/s/player/a9d81eca/player_ias.vflset/en_US/base.js\n"
     ]
    },
    {
     "name": "stdout",
     "output_type": "stream",
     "text": [
      "[youtube] el-Ty3L52Qo: Downloading m3u8 information\n",
      "[info] el-Ty3L52Qo: Downloading 1 format(s): 614+140\n",
      "[hlsnative] Downloading m3u8 manifest\n",
      "[hlsnative] Total fragments: 65\n",
      "[download] Destination: Tình Sau Cơn Bão - Ngọc Lan (Album： Tiếng hát Ngọc Lan 2) [el-Ty3L52Qo].f614.mp4\n",
      "[download] 100% of   30.01MiB in 00:00:08 at 3.55MiB/s                  \n",
      "[download] Destination: Tình Sau Cơn Bão - Ngọc Lan (Album： Tiếng hát Ngọc Lan 2) [el-Ty3L52Qo].f140.m4a\n",
      "[download] 100% of    4.23MiB in 00:00:01 at 3.42MiB/s     \n",
      "[Merger] Merging formats into \"Tình Sau Cơn Bão - Ngọc Lan (Album： Tiếng hát Ngọc Lan 2) [el-Ty3L52Qo].mp4\"\n",
      "Deleting original file Tình Sau Cơn Bão - Ngọc Lan (Album： Tiếng hát Ngọc Lan 2) [el-Ty3L52Qo].f614.mp4 (pass -k to keep)\n",
      "Deleting original file Tình Sau Cơn Bão - Ngọc Lan (Album： Tiếng hát Ngọc Lan 2) [el-Ty3L52Qo].f140.m4a (pass -k to keep)\n",
      "https://www.youtube.com/watch?v=RdBJ-PSb_V4\n",
      "Xa Anh Nghìn Trùng - Ngọc Lan (Album: Ngọc Lan)\n",
      "[youtube] Extracting URL: https://www.youtube.com/watch?v=RdBJ-PSb_V4\n",
      "[youtube] RdBJ-PSb_V4: Downloading webpage\n",
      "[youtube] RdBJ-PSb_V4: Downloading ios player API JSON\n",
      "[youtube] RdBJ-PSb_V4: Downloading player a9d81eca\n"
     ]
    },
    {
     "name": "stderr",
     "output_type": "stream",
     "text": [
      "WARNING: [youtube] RdBJ-PSb_V4: nsig extraction failed: Some formats may be missing\n",
      "         n = QdM5lsVTKwwanstYK ; player = https://www.youtube.com/s/player/a9d81eca/player_ias.vflset/en_US/base.js\n",
      "WARNING: [youtube] RdBJ-PSb_V4: nsig extraction failed: Some formats may be missing\n",
      "         n = Hws9KS91slZVYDmpD ; player = https://www.youtube.com/s/player/a9d81eca/player_ias.vflset/en_US/base.js\n"
     ]
    },
    {
     "name": "stdout",
     "output_type": "stream",
     "text": [
      "[youtube] RdBJ-PSb_V4: Downloading m3u8 information\n",
      "[info] RdBJ-PSb_V4: Downloading 1 format(s): 614+140\n",
      "[hlsnative] Downloading m3u8 manifest\n",
      "[hlsnative] Total fragments: 85\n",
      "[download] Destination: Xa Anh Nghìn Trùng - Ngọc Lan (Album： Ngọc Lan) [RdBJ-PSb_V4].f614.mp4\n",
      "[download] 100% of   45.30MiB in 00:00:27 at 1.62MiB/s                  \n",
      "[download] Destination: Xa Anh Nghìn Trùng - Ngọc Lan (Album： Ngọc Lan) [RdBJ-PSb_V4].f140.m4a\n",
      "[download] 100% of    5.47MiB in 00:00:01 at 4.25MiB/s   \n",
      "[Merger] Merging formats into \"Xa Anh Nghìn Trùng - Ngọc Lan (Album： Ngọc Lan) [RdBJ-PSb_V4].mp4\"\n",
      "Deleting original file Xa Anh Nghìn Trùng - Ngọc Lan (Album： Ngọc Lan) [RdBJ-PSb_V4].f614.mp4 (pass -k to keep)\n",
      "Deleting original file Xa Anh Nghìn Trùng - Ngọc Lan (Album： Ngọc Lan) [RdBJ-PSb_V4].f140.m4a (pass -k to keep)\n",
      "https://www.youtube.com/watch?v=uz-A-hsniA8\n",
      "Mưa Lệ (Lam Phương) - Ngọc Lan | Lệ mãi thương về cố hương xa vời...\n",
      "[youtube] Extracting URL: https://www.youtube.com/watch?v=uz-A-hsniA8\n",
      "[youtube] uz-A-hsniA8: Downloading webpage\n",
      "[youtube] uz-A-hsniA8: Downloading ios player API JSON\n",
      "[youtube] uz-A-hsniA8: Downloading player a9d81eca\n"
     ]
    },
    {
     "name": "stderr",
     "output_type": "stream",
     "text": [
      "WARNING: [youtube] uz-A-hsniA8: nsig extraction failed: Some formats may be missing\n",
      "         n = Fxs6lTxcDi9sRhqim ; player = https://www.youtube.com/s/player/a9d81eca/player_ias.vflset/en_US/base.js\n",
      "WARNING: [youtube] uz-A-hsniA8: nsig extraction failed: Some formats may be missing\n",
      "         n = RFMDYT-7Y5M0k26Ns ; player = https://www.youtube.com/s/player/a9d81eca/player_ias.vflset/en_US/base.js\n"
     ]
    },
    {
     "name": "stdout",
     "output_type": "stream",
     "text": [
      "[youtube] uz-A-hsniA8: Downloading m3u8 information\n",
      "[info] uz-A-hsniA8: Downloading 1 format(s): 614+140\n",
      "[hlsnative] Downloading m3u8 manifest\n",
      "[hlsnative] Total fragments: 58\n",
      "[download] Destination: Mưa Lệ (Lam Phương) - Ngọc Lan ｜ Lệ mãi thương về cố hương xa vời... [uz-A-hsniA8].f614.mp4\n",
      "[download] 100% of   44.81MiB in 00:00:07 at 5.88MiB/s                  \n",
      "[download] Destination: Mưa Lệ (Lam Phương) - Ngọc Lan ｜ Lệ mãi thương về cố hương xa vời... [uz-A-hsniA8].f140.m4a\n",
      "[download] 100% of    3.79MiB in 00:00:00 at 9.77MiB/s     \n",
      "[Merger] Merging formats into \"Mưa Lệ (Lam Phương) - Ngọc Lan ｜ Lệ mãi thương về cố hương xa vời... [uz-A-hsniA8].mp4\"\n",
      "Deleting original file Mưa Lệ (Lam Phương) - Ngọc Lan ｜ Lệ mãi thương về cố hương xa vời... [uz-A-hsniA8].f614.mp4 (pass -k to keep)\n",
      "Deleting original file Mưa Lệ (Lam Phương) - Ngọc Lan ｜ Lệ mãi thương về cố hương xa vời... [uz-A-hsniA8].f140.m4a (pass -k to keep)\n",
      "https://www.youtube.com/watch?v=879VtOI2mGk\n",
      "Xin Thời Gian Ngừng Trôi - Ngọc Lan (Album: Ngọc Lan và Những Ca Khúc Vĩnh Biệt)\n",
      "[youtube] Extracting URL: https://www.youtube.com/watch?v=879VtOI2mGk\n",
      "[youtube] 879VtOI2mGk: Downloading webpage\n",
      "[youtube] 879VtOI2mGk: Downloading ios player API JSON\n",
      "[youtube] 879VtOI2mGk: Downloading player a9d81eca\n"
     ]
    },
    {
     "name": "stderr",
     "output_type": "stream",
     "text": [
      "WARNING: [youtube] 879VtOI2mGk: nsig extraction failed: Some formats may be missing\n",
      "         n = ZpM6fpCzw2_j4OdqL ; player = https://www.youtube.com/s/player/a9d81eca/player_ias.vflset/en_US/base.js\n",
      "WARNING: [youtube] 879VtOI2mGk: nsig extraction failed: Some formats may be missing\n",
      "         n = CwsbWgOxE47ko0zDK ; player = https://www.youtube.com/s/player/a9d81eca/player_ias.vflset/en_US/base.js\n"
     ]
    },
    {
     "name": "stdout",
     "output_type": "stream",
     "text": [
      "[youtube] 879VtOI2mGk: Downloading m3u8 information\n",
      "[info] 879VtOI2mGk: Downloading 1 format(s): 614+140\n",
      "[hlsnative] Downloading m3u8 manifest\n",
      "[hlsnative] Total fragments: 57\n",
      "[download] Destination: Xin Thời Gian Ngừng Trôi - Ngọc Lan (Album： Ngọc Lan và Những Ca Khúc Vĩnh Biệt) [879VtOI2mGk].f614.mp4\n",
      "[download] 100% of   43.44MiB in 00:00:08 at 5.35MiB/s                  \n",
      "[download] Destination: Xin Thời Gian Ngừng Trôi - Ngọc Lan (Album： Ngọc Lan và Những Ca Khúc Vĩnh Biệt) [879VtOI2mGk].f140.m4a\n",
      "[download] 100% of    3.71MiB in 00:00:01 at 2.67MiB/s   \n",
      "[Merger] Merging formats into \"Xin Thời Gian Ngừng Trôi - Ngọc Lan (Album： Ngọc Lan và Những Ca Khúc Vĩnh Biệt) [879VtOI2mGk].mp4\"\n",
      "Deleting original file Xin Thời Gian Ngừng Trôi - Ngọc Lan (Album： Ngọc Lan và Những Ca Khúc Vĩnh Biệt) [879VtOI2mGk].f614.mp4 (pass -k to keep)\n",
      "Deleting original file Xin Thời Gian Ngừng Trôi - Ngọc Lan (Album： Ngọc Lan và Những Ca Khúc Vĩnh Biệt) [879VtOI2mGk].f140.m4a (pass -k to keep)\n",
      "https://www.youtube.com/watch?v=jWWWuBGzUgE\n",
      "Niềm Đau Chôn Dấu - Ngọc Lan (Album: Chờ Nhau Kiếp Nào)\n",
      "[youtube] Extracting URL: https://www.youtube.com/watch?v=jWWWuBGzUgE\n",
      "[youtube] jWWWuBGzUgE: Downloading webpage\n",
      "[youtube] jWWWuBGzUgE: Downloading ios player API JSON\n",
      "[youtube] jWWWuBGzUgE: Downloading player a9d81eca\n"
     ]
    },
    {
     "name": "stderr",
     "output_type": "stream",
     "text": [
      "WARNING: [youtube] jWWWuBGzUgE: nsig extraction failed: Some formats may be missing\n",
      "         n = cQcSCKrSYXbqmvw_3 ; player = https://www.youtube.com/s/player/a9d81eca/player_ias.vflset/en_US/base.js\n",
      "WARNING: [youtube] jWWWuBGzUgE: nsig extraction failed: Some formats may be missing\n",
      "         n = 2IsBamTTsu7n-jO-v ; player = https://www.youtube.com/s/player/a9d81eca/player_ias.vflset/en_US/base.js\n"
     ]
    },
    {
     "name": "stdout",
     "output_type": "stream",
     "text": [
      "[youtube] jWWWuBGzUgE: Downloading m3u8 information\n",
      "[info] jWWWuBGzUgE: Downloading 1 format(s): 614+140\n",
      "[hlsnative] Downloading m3u8 manifest\n",
      "[hlsnative] Total fragments: 71\n",
      "[download] Destination: Niềm Đau Chôn Dấu - Ngọc Lan (Album： Chờ Nhau Kiếp Nào) [jWWWuBGzUgE].f614.mp4\n",
      "[download] 100% of   24.72MiB in 00:00:05 at 4.86MiB/s                   \n",
      "[download] Destination: Niềm Đau Chôn Dấu - Ngọc Lan (Album： Chờ Nhau Kiếp Nào) [jWWWuBGzUgE].f140.m4a\n",
      "[download] 100% of    4.57MiB in 00:00:00 at 10.24MiB/s    \n",
      "[Merger] Merging formats into \"Niềm Đau Chôn Dấu - Ngọc Lan (Album： Chờ Nhau Kiếp Nào) [jWWWuBGzUgE].mp4\"\n",
      "Deleting original file Niềm Đau Chôn Dấu - Ngọc Lan (Album： Chờ Nhau Kiếp Nào) [jWWWuBGzUgE].f614.mp4 (pass -k to keep)\n",
      "Deleting original file Niềm Đau Chôn Dấu - Ngọc Lan (Album： Chờ Nhau Kiếp Nào) [jWWWuBGzUgE].f140.m4a (pass -k to keep)\n",
      "https://www.youtube.com/watch?v=VRcfBarSR68\n",
      "Chiều Một Mình Qua Phố (Trịnh Công Sơn) - Ngọc Lan |Chiều một mình qua phố âm thầm nhớ nhớ tên em...\n",
      "[youtube] Extracting URL: https://www.youtube.com/watch?v=VRcfBarSR68\n",
      "[youtube] VRcfBarSR68: Downloading webpage\n",
      "[youtube] VRcfBarSR68: Downloading ios player API JSON\n",
      "[youtube] VRcfBarSR68: Downloading player a9d81eca\n"
     ]
    },
    {
     "name": "stderr",
     "output_type": "stream",
     "text": [
      "WARNING: [youtube] VRcfBarSR68: nsig extraction failed: Some formats may be missing\n",
      "         n = egc4ixteERxloGxSs ; player = https://www.youtube.com/s/player/a9d81eca/player_ias.vflset/en_US/base.js\n",
      "WARNING: [youtube] VRcfBarSR68: nsig extraction failed: Some formats may be missing\n",
      "         n = ldcmh9Yrl5oHN2oag ; player = https://www.youtube.com/s/player/a9d81eca/player_ias.vflset/en_US/base.js\n"
     ]
    },
    {
     "name": "stdout",
     "output_type": "stream",
     "text": [
      "[youtube] VRcfBarSR68: Downloading m3u8 information\n",
      "[info] VRcfBarSR68: Downloading 1 format(s): 614+140\n",
      "[hlsnative] Downloading m3u8 manifest\n",
      "[hlsnative] Total fragments: 46\n",
      "[download] Destination: Chiều Một Mình Qua Phố (Trịnh Công Sơn) - Ngọc Lan ｜Chiều một mình qua phố âm thầm nhớ nhớ tên em... [VRcfBarSR68].f614.mp4\n",
      "[download] 100% of   29.27MiB in 00:00:15 at 1.85MiB/s                  \n",
      "[download] Destination: Chiều Một Mình Qua Phố (Trịnh Công Sơn) - Ngọc Lan ｜Chiều một mình qua phố âm thầm nhớ nhớ tên em... [VRcfBarSR68].f140.m4a\n",
      "[download] 100% of    3.78MiB in 00:00:00 at 5.79MiB/s   \n",
      "[Merger] Merging formats into \"Chiều Một Mình Qua Phố (Trịnh Công Sơn) - Ngọc Lan ｜Chiều một mình qua phố âm thầm nhớ nhớ tên em... [VRcfBarSR68].mp4\"\n",
      "Deleting original file Chiều Một Mình Qua Phố (Trịnh Công Sơn) - Ngọc Lan ｜Chiều một mình qua phố âm thầm nhớ nhớ tên em... [VRcfBarSR68].f614.mp4 (pass -k to keep)\n",
      "Deleting original file Chiều Một Mình Qua Phố (Trịnh Công Sơn) - Ngọc Lan ｜Chiều một mình qua phố âm thầm nhớ nhớ tên em... [VRcfBarSR68].f140.m4a (pass -k to keep)\n",
      "https://www.youtube.com/watch?v=tsB9vXGbZdY\n",
      "LK Lambada - Ngọc Lan | Bản Nhạc Latin Đầy Sôi Động\n",
      "[youtube] Extracting URL: https://www.youtube.com/watch?v=tsB9vXGbZdY\n",
      "[youtube] tsB9vXGbZdY: Downloading webpage\n",
      "[youtube] tsB9vXGbZdY: Downloading ios player API JSON\n",
      "[youtube] tsB9vXGbZdY: Downloading player a9d81eca\n"
     ]
    },
    {
     "name": "stderr",
     "output_type": "stream",
     "text": [
      "WARNING: [youtube] tsB9vXGbZdY: nsig extraction failed: Some formats may be missing\n",
      "         n = jFMMVssRi6USZZ74m ; player = https://www.youtube.com/s/player/a9d81eca/player_ias.vflset/en_US/base.js\n",
      "WARNING: [youtube] tsB9vXGbZdY: nsig extraction failed: Some formats may be missing\n",
      "         n = 3yMGNJWioouN1NRoY ; player = https://www.youtube.com/s/player/a9d81eca/player_ias.vflset/en_US/base.js\n"
     ]
    },
    {
     "name": "stdout",
     "output_type": "stream",
     "text": [
      "[youtube] tsB9vXGbZdY: Downloading m3u8 information\n",
      "[info] tsB9vXGbZdY: Downloading 1 format(s): 614+140\n",
      "[hlsnative] Downloading m3u8 manifest\n",
      "[hlsnative] Total fragments: 100\n",
      "[download] Destination: LK Lambada - Ngọc Lan ｜ Bản Nhạc Latin Đầy Sôi Động [tsB9vXGbZdY].f614.mp4\n",
      "[download] 100% of   86.06MiB in 00:00:36 at 2.35MiB/s                   \n",
      "[download] Destination: LK Lambada - Ngọc Lan ｜ Bản Nhạc Latin Đầy Sôi Động [tsB9vXGbZdY].f140.m4a\n",
      "[download] 100% of    8.97MiB in 00:00:01 at 5.70MiB/s     \n",
      "[Merger] Merging formats into \"LK Lambada - Ngọc Lan ｜ Bản Nhạc Latin Đầy Sôi Động [tsB9vXGbZdY].mp4\"\n",
      "Deleting original file LK Lambada - Ngọc Lan ｜ Bản Nhạc Latin Đầy Sôi Động [tsB9vXGbZdY].f140.m4a (pass -k to keep)\n",
      "Deleting original file LK Lambada - Ngọc Lan ｜ Bản Nhạc Latin Đầy Sôi Động [tsB9vXGbZdY].f614.mp4 (pass -k to keep)\n",
      "https://www.youtube.com/watch?v=nX5_KJeevrs\n",
      "Giết Người Trong Mộng - Ngọc Lan | Tác Giả: Phạm Duy\n",
      "[youtube] Extracting URL: https://www.youtube.com/watch?v=nX5_KJeevrs\n",
      "[youtube] nX5_KJeevrs: Downloading webpage\n",
      "[youtube] nX5_KJeevrs: Downloading ios player API JSON\n",
      "[youtube] nX5_KJeevrs: Downloading player a9d81eca\n"
     ]
    },
    {
     "name": "stderr",
     "output_type": "stream",
     "text": [
      "WARNING: [youtube] nX5_KJeevrs: nsig extraction failed: Some formats may be missing\n",
      "         n = 8TcYAR7QUTpTLUxFp ; player = https://www.youtube.com/s/player/a9d81eca/player_ias.vflset/en_US/base.js\n",
      "WARNING: [youtube] nX5_KJeevrs: nsig extraction failed: Some formats may be missing\n",
      "         n = gCsOguQUOoVPSPhT_ ; player = https://www.youtube.com/s/player/a9d81eca/player_ias.vflset/en_US/base.js\n"
     ]
    },
    {
     "name": "stdout",
     "output_type": "stream",
     "text": [
      "[youtube] nX5_KJeevrs: Downloading m3u8 information\n",
      "[info] nX5_KJeevrs: Downloading 1 format(s): 614+140\n",
      "[hlsnative] Downloading m3u8 manifest\n",
      "[hlsnative] Total fragments: 59\n",
      "[download] Destination: Giết Người Trong Mộng - Ngọc Lan ｜ Tác Giả： Phạm Duy [nX5_KJeevrs].f614.mp4\n",
      "[download] 100% of   38.13MiB in 00:00:10 at 3.77MiB/s                  \n",
      "[download] Destination: Giết Người Trong Mộng - Ngọc Lan ｜ Tác Giả： Phạm Duy [nX5_KJeevrs].f140.m4a\n",
      "[download] 100% of    5.28MiB in 00:00:00 at 9.47MiB/s     \n",
      "[Merger] Merging formats into \"Giết Người Trong Mộng - Ngọc Lan ｜ Tác Giả： Phạm Duy [nX5_KJeevrs].mp4\"\n",
      "Deleting original file Giết Người Trong Mộng - Ngọc Lan ｜ Tác Giả： Phạm Duy [nX5_KJeevrs].f614.mp4 (pass -k to keep)\n",
      "Deleting original file Giết Người Trong Mộng - Ngọc Lan ｜ Tác Giả： Phạm Duy [nX5_KJeevrs].f140.m4a (pass -k to keep)\n",
      "https://www.youtube.com/watch?v=JqpUocwZyiw\n",
      "Mười Năm Yêu Em (Trầm Tử Thiêng) - Ngọc Lan\n",
      "[youtube] Extracting URL: https://www.youtube.com/watch?v=JqpUocwZyiw\n",
      "[youtube] JqpUocwZyiw: Downloading webpage\n",
      "[youtube] JqpUocwZyiw: Downloading ios player API JSON\n",
      "[youtube] JqpUocwZyiw: Downloading m3u8 information\n",
      "[info] JqpUocwZyiw: Downloading 1 format(s): 614+140\n",
      "[hlsnative] Downloading m3u8 manifest\n",
      "[hlsnative] Total fragments: 49\n",
      "[download] Destination: Mười Năm Yêu Em (Trầm Tử Thiêng) - Ngọc Lan [JqpUocwZyiw].f614.mp4\n",
      "[download] 100% of   83.72MiB in 00:00:23 at 3.63MiB/s                  \n",
      "[download] Destination: Mười Năm Yêu Em (Trầm Tử Thiêng) - Ngọc Lan [JqpUocwZyiw].f140.m4a\n",
      "[download] 100% of    3.81MiB in 00:00:00 at 8.77MiB/s     \n",
      "[Merger] Merging formats into \"Mười Năm Yêu Em (Trầm Tử Thiêng) - Ngọc Lan [JqpUocwZyiw].mp4\"\n",
      "Deleting original file Mười Năm Yêu Em (Trầm Tử Thiêng) - Ngọc Lan [JqpUocwZyiw].f140.m4a (pass -k to keep)\n",
      "Deleting original file Mười Năm Yêu Em (Trầm Tử Thiêng) - Ngọc Lan [JqpUocwZyiw].f614.mp4 (pass -k to keep)\n",
      "https://www.youtube.com/watch?v=9YXrsJqtksI\n",
      "Vắng Người Yêu - Ngọc Lan (Album: Les Amoureux Qui Passe)\n",
      "[youtube] Extracting URL: https://www.youtube.com/watch?v=9YXrsJqtksI\n",
      "[youtube] 9YXrsJqtksI: Downloading webpage\n",
      "[youtube] 9YXrsJqtksI: Downloading ios player API JSON\n",
      "[youtube] 9YXrsJqtksI: Downloading player a9d81eca\n"
     ]
    },
    {
     "name": "stderr",
     "output_type": "stream",
     "text": [
      "WARNING: [youtube] 9YXrsJqtksI: nsig extraction failed: Some formats may be missing\n",
      "         n = FRMkImadPgBS0FFH5 ; player = https://www.youtube.com/s/player/a9d81eca/player_ias.vflset/en_US/base.js\n",
      "WARNING: [youtube] 9YXrsJqtksI: nsig extraction failed: Some formats may be missing\n",
      "         n = WHMAl4ACEVSM2JIqW ; player = https://www.youtube.com/s/player/a9d81eca/player_ias.vflset/en_US/base.js\n"
     ]
    },
    {
     "name": "stdout",
     "output_type": "stream",
     "text": [
      "[youtube] 9YXrsJqtksI: Downloading m3u8 information\n",
      "[info] 9YXrsJqtksI: Downloading 1 format(s): 614+140\n",
      "[hlsnative] Downloading m3u8 manifest\n",
      "[hlsnative] Total fragments: 66\n",
      "[download] Destination: Vắng Người Yêu - Ngọc Lan (Album： Les Amoureux Qui Passe) [9YXrsJqtksI].f614.mp4\n",
      "[download] 100% of   13.01MiB in 00:00:04 at 2.90MiB/s                  \n",
      "[download] Destination: Vắng Người Yêu - Ngọc Lan (Album： Les Amoureux Qui Passe) [9YXrsJqtksI].f140.m4a\n",
      "[download] 100% of    4.29MiB in 00:00:00 at 6.98MiB/s   \n",
      "[Merger] Merging formats into \"Vắng Người Yêu - Ngọc Lan (Album： Les Amoureux Qui Passe) [9YXrsJqtksI].mp4\"\n",
      "Deleting original file Vắng Người Yêu - Ngọc Lan (Album： Les Amoureux Qui Passe) [9YXrsJqtksI].f140.m4a (pass -k to keep)\n",
      "Deleting original file Vắng Người Yêu - Ngọc Lan (Album： Les Amoureux Qui Passe) [9YXrsJqtksI].f614.mp4 (pass -k to keep)\n",
      "https://www.youtube.com/watch?v=Q9qDy0uN2CM\n",
      "Trời Còn Mưa Mãi - Ngọc Lan (Album: Tình Xanh)\n",
      "[youtube] Extracting URL: https://www.youtube.com/watch?v=Q9qDy0uN2CM\n",
      "[youtube] Q9qDy0uN2CM: Downloading webpage\n",
      "[youtube] Q9qDy0uN2CM: Downloading ios player API JSON\n",
      "[youtube] Q9qDy0uN2CM: Downloading player a9d81eca\n"
     ]
    },
    {
     "name": "stderr",
     "output_type": "stream",
     "text": [
      "WARNING: [youtube] Q9qDy0uN2CM: nsig extraction failed: Some formats may be missing\n",
      "         n = wT8hiHMFXWgKY_Y8R ; player = https://www.youtube.com/s/player/a9d81eca/player_ias.vflset/en_US/base.js\n",
      "WARNING: [youtube] Q9qDy0uN2CM: nsig extraction failed: Some formats may be missing\n",
      "         n = 7AcfmK7xTqITxe6lK ; player = https://www.youtube.com/s/player/a9d81eca/player_ias.vflset/en_US/base.js\n"
     ]
    },
    {
     "name": "stdout",
     "output_type": "stream",
     "text": [
      "[youtube] Q9qDy0uN2CM: Downloading m3u8 information\n",
      "[info] Q9qDy0uN2CM: Downloading 1 format(s): 614+140\n",
      "[hlsnative] Downloading m3u8 manifest\n",
      "[hlsnative] Total fragments: 65\n",
      "[download] Destination: Trời Còn Mưa Mãi - Ngọc Lan (Album： Tình Xanh) [Q9qDy0uN2CM].f614.mp4\n",
      "[download] 100% of   59.70MiB in 00:00:13 at 4.27MiB/s                   \n",
      "[download] Destination: Trời Còn Mưa Mãi - Ngọc Lan (Album： Tình Xanh) [Q9qDy0uN2CM].f140.m4a\n",
      "[download] 100% of    5.03MiB in 00:00:00 at 7.28MiB/s     \n",
      "[Merger] Merging formats into \"Trời Còn Mưa Mãi - Ngọc Lan (Album： Tình Xanh) [Q9qDy0uN2CM].mp4\"\n",
      "Deleting original file Trời Còn Mưa Mãi - Ngọc Lan (Album： Tình Xanh) [Q9qDy0uN2CM].f140.m4a (pass -k to keep)\n",
      "Deleting original file Trời Còn Mưa Mãi - Ngọc Lan (Album： Tình Xanh) [Q9qDy0uN2CM].f614.mp4 (pass -k to keep)\n",
      "https://www.youtube.com/watch?v=HKhqUzgv_20\n",
      "Hạnh Phúc Nơi Nào - Ngọc Lan | Tác Giả: Trịnh Lâm Ngân\n",
      "[youtube] Extracting URL: https://www.youtube.com/watch?v=HKhqUzgv_20\n",
      "[youtube] HKhqUzgv_20: Downloading webpage\n",
      "[youtube] HKhqUzgv_20: Downloading ios player API JSON\n",
      "[youtube] HKhqUzgv_20: Downloading player a9d81eca\n"
     ]
    },
    {
     "name": "stderr",
     "output_type": "stream",
     "text": [
      "WARNING: [youtube] HKhqUzgv_20: nsig extraction failed: Some formats may be missing\n",
      "         n = kqM1AoDgOfzrlNS2Z ; player = https://www.youtube.com/s/player/a9d81eca/player_ias.vflset/en_US/base.js\n",
      "WARNING: [youtube] HKhqUzgv_20: nsig extraction failed: Some formats may be missing\n",
      "         n = JFcVyaeSwOKfhVFjR ; player = https://www.youtube.com/s/player/a9d81eca/player_ias.vflset/en_US/base.js\n"
     ]
    },
    {
     "name": "stdout",
     "output_type": "stream",
     "text": [
      "[youtube] HKhqUzgv_20: Downloading m3u8 information\n",
      "[info] HKhqUzgv_20: Downloading 1 format(s): 614+140\n",
      "[hlsnative] Downloading m3u8 manifest\n",
      "[hlsnative] Total fragments: 46\n",
      "[download] Destination: Hạnh Phúc Nơi Nào - Ngọc Lan ｜ Tác Giả： Trịnh Lâm Ngân [HKhqUzgv_20].f614.mp4\n",
      "[download] 100% of   37.69MiB in 00:00:23 at 1.62MiB/s                  \n",
      "[download] Destination: Hạnh Phúc Nơi Nào - Ngọc Lan ｜ Tác Giả： Trịnh Lâm Ngân [HKhqUzgv_20].f140.m4a\n",
      "[download] 100% of    4.13MiB in 00:00:01 at 2.48MiB/s   \n",
      "[Merger] Merging formats into \"Hạnh Phúc Nơi Nào - Ngọc Lan ｜ Tác Giả： Trịnh Lâm Ngân [HKhqUzgv_20].mp4\"\n",
      "Deleting original file Hạnh Phúc Nơi Nào - Ngọc Lan ｜ Tác Giả： Trịnh Lâm Ngân [HKhqUzgv_20].f140.m4a (pass -k to keep)\n",
      "Deleting original file Hạnh Phúc Nơi Nào - Ngọc Lan ｜ Tác Giả： Trịnh Lâm Ngân [HKhqUzgv_20].f614.mp4 (pass -k to keep)\n",
      "https://www.youtube.com/watch?v=MJk0cHiVxsg\n",
      "Tình Xanh - Ngọc Lan | Tác Giả: Trần Quảng Nam\n",
      "[youtube] Extracting URL: https://www.youtube.com/watch?v=MJk0cHiVxsg\n",
      "[youtube] MJk0cHiVxsg: Downloading webpage\n",
      "[youtube] MJk0cHiVxsg: Downloading ios player API JSON\n",
      "[youtube] MJk0cHiVxsg: Downloading player a9d81eca\n"
     ]
    },
    {
     "name": "stderr",
     "output_type": "stream",
     "text": [
      "WARNING: [youtube] MJk0cHiVxsg: nsig extraction failed: Some formats may be missing\n",
      "         n = 76cK3rdVCJ_d-PVx8 ; player = https://www.youtube.com/s/player/a9d81eca/player_ias.vflset/en_US/base.js\n",
      "WARNING: [youtube] MJk0cHiVxsg: nsig extraction failed: Some formats may be missing\n",
      "         n = 79MUd2S6LNRu2gu5q ; player = https://www.youtube.com/s/player/a9d81eca/player_ias.vflset/en_US/base.js\n"
     ]
    },
    {
     "name": "stdout",
     "output_type": "stream",
     "text": [
      "[youtube] MJk0cHiVxsg: Downloading m3u8 information\n",
      "[info] MJk0cHiVxsg: Downloading 1 format(s): 614+140\n",
      "[hlsnative] Downloading m3u8 manifest\n",
      "[hlsnative] Total fragments: 39\n",
      "[download] Destination: Tình Xanh - Ngọc Lan ｜ Tác Giả： Trần Quảng Nam [MJk0cHiVxsg].f614.mp4\n",
      "[download] 100% of   25.44MiB in 00:00:11 at 2.17MiB/s                  \n",
      "[download] Destination: Tình Xanh - Ngọc Lan ｜ Tác Giả： Trần Quảng Nam [MJk0cHiVxsg].f140.m4a\n",
      "[download] 100% of    3.48MiB in 00:00:00 at 4.79MiB/s   \n",
      "[Merger] Merging formats into \"Tình Xanh - Ngọc Lan ｜ Tác Giả： Trần Quảng Nam [MJk0cHiVxsg].mp4\"\n",
      "Deleting original file Tình Xanh - Ngọc Lan ｜ Tác Giả： Trần Quảng Nam [MJk0cHiVxsg].f140.m4a (pass -k to keep)\n",
      "Deleting original file Tình Xanh - Ngọc Lan ｜ Tác Giả： Trần Quảng Nam [MJk0cHiVxsg].f614.mp4 (pass -k to keep)\n",
      "https://www.youtube.com/watch?v=owP2NjGBV6U\n",
      "Hoang Vu - Ngọc Lan | Tác Giả: Ngọc Sơn\n",
      "[youtube] Extracting URL: https://www.youtube.com/watch?v=owP2NjGBV6U\n",
      "[youtube] owP2NjGBV6U: Downloading webpage\n",
      "[youtube] owP2NjGBV6U: Downloading ios player API JSON\n",
      "[youtube] owP2NjGBV6U: Downloading player a9d81eca\n"
     ]
    },
    {
     "name": "stderr",
     "output_type": "stream",
     "text": [
      "WARNING: [youtube] owP2NjGBV6U: nsig extraction failed: Some formats may be missing\n",
      "         n = V7Mhh5DKyBatDLQBf ; player = https://www.youtube.com/s/player/a9d81eca/player_ias.vflset/en_US/base.js\n",
      "WARNING: [youtube] owP2NjGBV6U: nsig extraction failed: Some formats may be missing\n",
      "         n = mo8Vf9b5_NHcQLlHr ; player = https://www.youtube.com/s/player/a9d81eca/player_ias.vflset/en_US/base.js\n"
     ]
    },
    {
     "name": "stdout",
     "output_type": "stream",
     "text": [
      "[youtube] owP2NjGBV6U: Downloading m3u8 information\n",
      "[info] owP2NjGBV6U: Downloading 1 format(s): 614+140\n",
      "[hlsnative] Downloading m3u8 manifest\n",
      "[hlsnative] Total fragments: 44\n",
      "[download] Destination: Hoang Vu - Ngọc Lan ｜ Tác Giả： Ngọc Sơn [owP2NjGBV6U].f614.mp4\n",
      "[download] 100% of   31.83MiB in 00:00:22 at 1.44MiB/s                  \n",
      "[download] Destination: Hoang Vu - Ngọc Lan ｜ Tác Giả： Ngọc Sơn [owP2NjGBV6U].f140.m4a\n",
      "[download] 100% of    3.44MiB in 00:00:00 at 6.79MiB/s     \n",
      "[Merger] Merging formats into \"Hoang Vu - Ngọc Lan ｜ Tác Giả： Ngọc Sơn [owP2NjGBV6U].mp4\"\n",
      "Deleting original file Hoang Vu - Ngọc Lan ｜ Tác Giả： Ngọc Sơn [owP2NjGBV6U].f614.mp4 (pass -k to keep)\n",
      "Deleting original file Hoang Vu - Ngọc Lan ｜ Tác Giả： Ngọc Sơn [owP2NjGBV6U].f140.m4a (pass -k to keep)\n",
      "https://www.youtube.com/watch?v=xgCzf4b0syU\n",
      "10 Bản nhạc tình xưa quý hiếm ít ai còn nhớ DANH CA NGỌC LAN đẳng cấp là mãi mãi\n",
      "[youtube] Extracting URL: https://www.youtube.com/watch?v=xgCzf4b0syU\n",
      "[youtube] xgCzf4b0syU: Downloading webpage\n",
      "[youtube] xgCzf4b0syU: Downloading ios player API JSON\n",
      "[youtube] xgCzf4b0syU: Downloading player a9d81eca\n"
     ]
    },
    {
     "name": "stderr",
     "output_type": "stream",
     "text": [
      "WARNING: [youtube] xgCzf4b0syU: nsig extraction failed: Some formats may be missing\n",
      "         n = kAs5wTVsUAZz7DucI ; player = https://www.youtube.com/s/player/a9d81eca/player_ias.vflset/en_US/base.js\n",
      "WARNING: [youtube] xgCzf4b0syU: nsig extraction failed: Some formats may be missing\n",
      "         n = BZMHGsya_2ZPCdf9s ; player = https://www.youtube.com/s/player/a9d81eca/player_ias.vflset/en_US/base.js\n"
     ]
    },
    {
     "name": "stdout",
     "output_type": "stream",
     "text": [
      "[youtube] xgCzf4b0syU: Downloading m3u8 information\n",
      "[info] xgCzf4b0syU: Downloading 1 format(s): 614+140\n",
      "[hlsnative] Downloading m3u8 manifest\n",
      "[hlsnative] Total fragments: 556\n",
      "[download] Destination: 10 Bản nhạc tình xưa quý hiếm ít ai còn nhớ DANH CA NGỌC LAN đẳng cấp là mãi mãi [xgCzf4b0syU].f614.mp4\n",
      "[download] 100% of  232.32MiB in 00:01:01 at 3.77MiB/s                   \n",
      "[download] Destination: 10 Bản nhạc tình xưa quý hiếm ít ai còn nhớ DANH CA NGỌC LAN đẳng cấp là mãi mãi [xgCzf4b0syU].f140.m4a\n",
      "[download] 100% of   42.97MiB in 00:00:06 at 6.84MiB/s     \n",
      "[Merger] Merging formats into \"10 Bản nhạc tình xưa quý hiếm ít ai còn nhớ DANH CA NGỌC LAN đẳng cấp là mãi mãi [xgCzf4b0syU].mp4\"\n",
      "Deleting original file 10 Bản nhạc tình xưa quý hiếm ít ai còn nhớ DANH CA NGỌC LAN đẳng cấp là mãi mãi [xgCzf4b0syU].f140.m4a (pass -k to keep)\n",
      "Deleting original file 10 Bản nhạc tình xưa quý hiếm ít ai còn nhớ DANH CA NGỌC LAN đẳng cấp là mãi mãi [xgCzf4b0syU].f614.mp4 (pass -k to keep)\n",
      "https://www.youtube.com/watch?v=tvzDCATbxAI\n",
      "Từ Đó Em Buồn - Ngọc Lan | Tác Giả: Trần Thiện Thanh\n",
      "[youtube] Extracting URL: https://www.youtube.com/watch?v=tvzDCATbxAI\n",
      "[youtube] tvzDCATbxAI: Downloading webpage\n",
      "[youtube] tvzDCATbxAI: Downloading ios player API JSON\n",
      "https://www.youtube.com/watch?v=WZXIQuF85Co\n",
      "Ly Cà Phê Cuối Cùng - Ngọc Lan, Bích Hà, Như Mai\n"
     ]
    },
    {
     "name": "stderr",
     "output_type": "stream",
     "text": [
      "ERROR: [youtube] tvzDCATbxAI: Sign in to confirm you’re not a bot. This helps protect our community. Learn more\n"
     ]
    },
    {
     "name": "stdout",
     "output_type": "stream",
     "text": [
      "[youtube] Extracting URL: https://www.youtube.com/watch?v=WZXIQuF85Co\n",
      "[youtube] WZXIQuF85Co: Downloading webpage\n",
      "[youtube] WZXIQuF85Co: Downloading ios player API JSON\n",
      "[youtube] WZXIQuF85Co: Downloading player a9d81eca\n"
     ]
    },
    {
     "name": "stderr",
     "output_type": "stream",
     "text": [
      "WARNING: [youtube] WZXIQuF85Co: nsig extraction failed: Some formats may be missing\n",
      "         n = -9s9v-FuyNRut3JN6 ; player = https://www.youtube.com/s/player/a9d81eca/player_ias.vflset/en_US/base.js\n",
      "WARNING: [youtube] WZXIQuF85Co: nsig extraction failed: Some formats may be missing\n",
      "         n = 63MXlI5qAzsbUjPxN ; player = https://www.youtube.com/s/player/a9d81eca/player_ias.vflset/en_US/base.js\n",
      "ERROR: [youtube] WZXIQuF85Co: Sign in to confirm you’re not a bot. This helps protect our community. Learn more\n"
     ]
    },
    {
     "name": "stdout",
     "output_type": "stream",
     "text": [
      "https://www.youtube.com/watch?v=-gYOTCwVHGA\n",
      "NGỌC LAN - TÌNH CA QUÝ GIÁ - DA DIẾT LÒNG NGƯỜI - LK XIN CÒN GỌI TÊN NHAU, TAN VỠ\n",
      "[youtube] Extracting URL: https://www.youtube.com/watch?v=-gYOTCwVHGA\n",
      "[youtube] -gYOTCwVHGA: Downloading webpage\n",
      "[youtube] -gYOTCwVHGA: Downloading ios player API JSON\n",
      "[youtube] -gYOTCwVHGA: Downloading player a9d81eca\n"
     ]
    },
    {
     "name": "stderr",
     "output_type": "stream",
     "text": [
      "WARNING: [youtube] -gYOTCwVHGA: nsig extraction failed: Some formats may be missing\n",
      "         n = ZcMxxc1jgj5EriaTS ; player = https://www.youtube.com/s/player/a9d81eca/player_ias.vflset/en_US/base.js\n",
      "WARNING: [youtube] -gYOTCwVHGA: nsig extraction failed: Some formats may be missing\n",
      "         n = Bacjh7Kayzyrtj0pA ; player = https://www.youtube.com/s/player/a9d81eca/player_ias.vflset/en_US/base.js\n"
     ]
    },
    {
     "name": "stdout",
     "output_type": "stream",
     "text": [
      "[youtube] -gYOTCwVHGA: Downloading m3u8 information\n",
      "[info] -gYOTCwVHGA: Downloading 1 format(s): 616+140\n",
      "[hlsnative] Downloading m3u8 manifest\n",
      "[hlsnative] Total fragments: 1101\n",
      "[download] Destination: NGỌC LAN - TÌNH CA QUÝ GIÁ - DA DIẾT LÒNG NGƯỜI - LK XIN CÒN GỌI TÊN NHAU, TAN VỠ [-gYOTCwVHGA].f616.mp4\n",
      "[download]  94.0% of ~   1.51GiB at    1.52MiB/s ETA 01:01 (frag 1034/1101)  "
     ]
    }
   ],
   "source": [
    "import os\n",
    "\n",
    "for element in linklist:\n",
    "    link = element.get_attribute(\"href\")\n",
    "    print(link)\n",
    "    print(element.text)\n",
    "    os.system(f'yt-dlp {link}')"
   ]
  },
  {
   "cell_type": "code",
   "execution_count": 5,
   "id": "5b92cbce-db3c-4d38-bf33-ae07a8d18db7",
   "metadata": {},
   "outputs": [
    {
     "name": "stdout",
     "output_type": "stream",
     "text": [
      "480\n"
     ]
    }
   ],
   "source": [
    "print(len(linklist))"
   ]
  },
  {
   "cell_type": "code",
   "execution_count": null,
   "id": "900cdc7d-6a5c-4ae3-b8d5-1d2a4112c1c8",
   "metadata": {},
   "outputs": [],
   "source": [
    "#!pip install --upgrade youtube-dl\n",
    "!pip install --force-reinstall https://github.com/yt-dlp/yt-dlp/archive/master.tar.gz"
   ]
  }
 ],
 "metadata": {
  "kernelspec": {
   "display_name": "Python 3 (ipykernel)",
   "language": "python",
   "name": "python3"
  },
  "language_info": {
   "codemirror_mode": {
    "name": "ipython",
    "version": 3
   },
   "file_extension": ".py",
   "mimetype": "text/x-python",
   "name": "python",
   "nbconvert_exporter": "python",
   "pygments_lexer": "ipython3",
   "version": "3.10.12"
  }
 },
 "nbformat": 4,
 "nbformat_minor": 5
}
