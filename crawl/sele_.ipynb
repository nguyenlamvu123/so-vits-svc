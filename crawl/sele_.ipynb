{
 "cells": [
  {
   "cell_type": "code",
   "execution_count": 3,
   "id": "ce2813c4-ef53-4390-8071-d6fe0191148e",
   "metadata": {},
   "outputs": [],
   "source": [
    "from selenium import webdriver\n",
    "from selenium.webdriver.chrome.options import Options\n",
    "import yt_dlp\n",
    "\n",
    "def download_video(url):\n",
    "    # Options for yt-dlp\n",
    "    ydl_opts = {\n",
    "        'format': 'best',  # Download the best available quality\n",
    "        'outtmpl': '%(title)s.%(ext)s',  # Set filename to video title\n",
    "        'noplaylist': True,  # Download single video if URL is part of a playlist\n",
    "        'quiet': False,  # Show download progress in the console\n",
    "        'ignoreerrors': True,  # Continue even if an error is encountered\n",
    "        'no_warnings': True,  # Suppress warnings\n",
    "    }\n",
    "    try:\n",
    "        # Use yt-dlp to download the video\n",
    "        with yt_dlp.YoutubeDL(ydl_opts) as ydl:\n",
    "            ydl.download([url])\n",
    "        print(\"Download completed successfully.\")\n",
    "    except Exception as e:\n",
    "        print(f\"An error occurred: {e}\")"
   ]
  },
  {
   "cell_type": "code",
   "execution_count": null,
   "id": "7de8f993-b7e8-4fb2-adfd-7b55ad714847",
   "metadata": {},
   "outputs": [],
   "source": [
    "download_video(link)"
   ]
  },
  {
   "cell_type": "code",
   "execution_count": 8,
   "id": "78c9c291-c1bf-479d-9cb5-f6770786f83a",
   "metadata": {},
   "outputs": [],
   "source": [
    "# service = Service(executable_path=\"/home/zaibachkhoa/Documents/convert2otherlang/so_vits_svc/crawl/chromedriver_linux64/chromedriver\")\n",
    "# options = webdriver.ChromeOptions()\n",
    "# driver = webdriver.Chrome(service=service, options=options)\n",
    "driver=webdriver.Chrome()\n",
    "driver.get(\"https://www.youtube.com/@nguyenhuongly/videos\")"
   ]
  },
  {
   "cell_type": "code",
   "execution_count": 9,
   "id": "27a82b66-a3cd-4f7b-ba20-2a336f13ecde",
   "metadata": {},
   "outputs": [],
   "source": [
    "for _ in range(3):\n",
    "    driver.execute_script(\"window.scrollTo(0, document.body.scrollHeight);\")"
   ]
  },
  {
   "cell_type": "code",
   "execution_count": 12,
   "id": "44100111-bd45-4cce-bf5b-75c506889d0d",
   "metadata": {},
   "outputs": [],
   "source": [
    "from selenium.webdriver.common.by import By\n",
    "\n",
    "linklist = driver.find_elements(By.XPATH, '//a[@id=\"video-title-link\"]')"
   ]
  },
  {
   "cell_type": "code",
   "execution_count": null,
   "id": "3bdef0e3-4f68-4fbe-a919-90842fe61352",
   "metadata": {},
   "outputs": [
    {
     "name": "stdout",
     "output_type": "stream",
     "text": [
      "https://www.youtube.com/watch?v=1zUbjSsDqBE\n",
      "CÔ PHÒNG - HỒ QUANG HIẾU X HUỲNH VĂN | HƯƠNG LY COVER\n",
      "[youtube] Extracting URL: https://www.youtube.com/watch?v=1zUbjSsDqBE\n",
      "[youtube] 1zUbjSsDqBE: Downloading webpage\n",
      "[youtube] 1zUbjSsDqBE: Downloading ios player API JSON\n",
      "[youtube] 1zUbjSsDqBE: Downloading player 4e23410d\n"
     ]
    },
    {
     "name": "stderr",
     "output_type": "stream",
     "text": [
      "WARNING: [youtube] 1zUbjSsDqBE: nsig extraction failed: Some formats may be missing\n",
      "         n = UN6yVCW1-U8KXz5tp ; player = https://www.youtube.com/s/player/4e23410d/player_ias.vflset/en_US/base.js\n",
      "WARNING: [youtube] 1zUbjSsDqBE: nsig extraction failed: Some formats may be missing\n",
      "         n = tyUpnIWWCq0BE7kT3 ; player = https://www.youtube.com/s/player/4e23410d/player_ias.vflset/en_US/base.js\n",
      "ERROR: [youtube] 1zUbjSsDqBE: Sign in to confirm you’re not a bot. This helps protect our community. Learn more\n"
     ]
    },
    {
     "name": "stdout",
     "output_type": "stream",
     "text": [
      "https://www.youtube.com/watch?v=fNWXPsAa-Fc\n",
      "LK Thế Thái, Chắc Không Ai Bằng Em | Hương Ly Tuyển Tập Mới Nhất\n",
      "[youtube] Extracting URL: https://www.youtube.com/watch?v=fNWXPsAa-Fc\n",
      "[youtube] fNWXPsAa-Fc: Downloading webpage\n",
      "[youtube] fNWXPsAa-Fc: Downloading ios player API JSON\n",
      "[youtube] fNWXPsAa-Fc: Downloading player 4e23410d\n"
     ]
    },
    {
     "name": "stderr",
     "output_type": "stream",
     "text": [
      "WARNING: [youtube] fNWXPsAa-Fc: nsig extraction failed: Some formats may be missing\n",
      "         n = JaqKzo-nvWyq3CqJk ; player = https://www.youtube.com/s/player/4e23410d/player_ias.vflset/en_US/base.js\n",
      "WARNING: [youtube] fNWXPsAa-Fc: nsig extraction failed: Some formats may be missing\n",
      "         n = WbeBodP5OaVWGn_gg ; player = https://www.youtube.com/s/player/4e23410d/player_ias.vflset/en_US/base.js\n"
     ]
    },
    {
     "name": "stdout",
     "output_type": "stream",
     "text": [
      "[youtube] fNWXPsAa-Fc: Downloading m3u8 information\n",
      "[info] fNWXPsAa-Fc: Downloading 1 format(s): 614+140\n",
      "[hlsnative] Downloading m3u8 manifest\n",
      "[hlsnative] Total fragments: 562\n",
      "[download] Destination: LK Thế Thái, Chắc Không Ai Bằng Em ｜ Hương Ly Tuyển Tập Mới Nhất [fNWXPsAa-Fc].f614.mp4\n",
      "[download] 100% of  182.09MiB in 00:01:46 at 1.71MiB/s                   \n",
      "[download] Destination: LK Thế Thái, Chắc Không Ai Bằng Em ｜ Hương Ly Tuyển Tập Mới Nhất [fNWXPsAa-Fc].f140.m4a\n",
      "[download] 100% of   43.37MiB in 00:00:07 at 5.72MiB/s     \n",
      "[Merger] Merging formats into \"LK Thế Thái, Chắc Không Ai Bằng Em ｜ Hương Ly Tuyển Tập Mới Nhất [fNWXPsAa-Fc].mp4\"\n",
      "Deleting original file LK Thế Thái, Chắc Không Ai Bằng Em ｜ Hương Ly Tuyển Tập Mới Nhất [fNWXPsAa-Fc].f140.m4a (pass -k to keep)\n",
      "Deleting original file LK Thế Thái, Chắc Không Ai Bằng Em ｜ Hương Ly Tuyển Tập Mới Nhất [fNWXPsAa-Fc].f614.mp4 (pass -k to keep)\n",
      "https://www.youtube.com/watch?v=zXjGxnOGK04\n",
      "TỰ LÀM MÌNH TỔN THƯƠNG | HƯƠNG LY | OFFICIAL MV LYRIC | ST ĐẠT MAX\n",
      "[youtube] Extracting URL: https://www.youtube.com/watch?v=zXjGxnOGK04\n",
      "[youtube] zXjGxnOGK04: Downloading webpage\n",
      "[youtube] zXjGxnOGK04: Downloading ios player API JSON\n",
      "https://www.youtube.com/watch?v=GuN3Kr7RyWs\n",
      "Tự Làm Mình Tổn Thương - Demo | Hương Ly\n"
     ]
    },
    {
     "name": "stderr",
     "output_type": "stream",
     "text": [
      "ERROR: [youtube] zXjGxnOGK04: Sign in to confirm you’re not a bot. This helps protect our community. Learn more\n"
     ]
    },
    {
     "name": "stdout",
     "output_type": "stream",
     "text": [
      "[youtube] Extracting URL: https://www.youtube.com/watch?v=GuN3Kr7RyWs\n",
      "[youtube] GuN3Kr7RyWs: Downloading webpage\n",
      "[youtube] GuN3Kr7RyWs: Downloading ios player API JSON\n",
      "[youtube] GuN3Kr7RyWs: Downloading m3u8 information\n",
      "[info] GuN3Kr7RyWs: Downloading 1 format(s): 614+140\n",
      "[hlsnative] Downloading m3u8 manifest\n",
      "[hlsnative] Total fragments: 9\n",
      "[download] Destination: Tự Làm Mình Tổn Thương - Demo ｜ Hương Ly [GuN3Kr7RyWs].f614.mp4\n",
      "[download] 100% of   12.28MiB in 00:00:02 at 4.35MiB/s                 \n",
      "[download] Destination: Tự Làm Mình Tổn Thương - Demo ｜ Hương Ly [GuN3Kr7RyWs].f140.m4a\n",
      "[download] 100% of  888.59KiB in 00:00:00 at 2.51MiB/s   \n",
      "[Merger] Merging formats into \"Tự Làm Mình Tổn Thương - Demo ｜ Hương Ly [GuN3Kr7RyWs].mp4\"\n",
      "Deleting original file Tự Làm Mình Tổn Thương - Demo ｜ Hương Ly [GuN3Kr7RyWs].f614.mp4 (pass -k to keep)\n",
      "Deleting original file Tự Làm Mình Tổn Thương - Demo ｜ Hương Ly [GuN3Kr7RyWs].f140.m4a (pass -k to keep)\n",
      "https://www.youtube.com/watch?v=h45qMZwSmQ8\n",
      "Đừng Thương Họ Như Em Đã Thương Anh - Đình Dũng | Hương Ly Cover\n",
      "[youtube] Extracting URL: https://www.youtube.com/watch?v=h45qMZwSmQ8\n",
      "[youtube] h45qMZwSmQ8: Downloading webpage\n",
      "[youtube] h45qMZwSmQ8: Downloading ios player API JSON\n",
      "https://www.youtube.com/watch?v=xPtQUf8Tr4M\n",
      "Nợ Tình - Đình Dũng | Hương Ly Cover | Nợ Tình Biết Trả Làm Sao Đây …\n"
     ]
    },
    {
     "name": "stderr",
     "output_type": "stream",
     "text": [
      "ERROR: [youtube] h45qMZwSmQ8: Sign in to confirm you’re not a bot. This helps protect our community. Learn more\n"
     ]
    },
    {
     "name": "stdout",
     "output_type": "stream",
     "text": [
      "[youtube] Extracting URL: https://www.youtube.com/watch?v=xPtQUf8Tr4M\n",
      "[youtube] xPtQUf8Tr4M: Downloading webpage\n",
      "[youtube] xPtQUf8Tr4M: Downloading ios player API JSON\n",
      "[youtube] xPtQUf8Tr4M: Downloading player 4e23410d\n"
     ]
    },
    {
     "name": "stderr",
     "output_type": "stream",
     "text": [
      "WARNING: [youtube] xPtQUf8Tr4M: nsig extraction failed: Some formats may be missing\n",
      "         n = 2h7bAWlO6hGCGNro2 ; player = https://www.youtube.com/s/player/4e23410d/player_ias.vflset/en_US/base.js\n",
      "WARNING: [youtube] xPtQUf8Tr4M: nsig extraction failed: Some formats may be missing\n",
      "         n = LyYibIHLPhbxxA0P3 ; player = https://www.youtube.com/s/player/4e23410d/player_ias.vflset/en_US/base.js\n",
      "ERROR: [youtube] xPtQUf8Tr4M: Sign in to confirm you’re not a bot. This helps protect our community. Learn more\n"
     ]
    },
    {
     "name": "stdout",
     "output_type": "stream",
     "text": [
      "https://www.youtube.com/watch?v=BoyAlCrHL8M\n",
      "Để Anh Lương Thiện - An Clock | Hương Ly Cover\n",
      "[youtube] Extracting URL: https://www.youtube.com/watch?v=BoyAlCrHL8M\n",
      "[youtube] BoyAlCrHL8M: Downloading webpage\n",
      "[youtube] BoyAlCrHL8M: Downloading ios player API JSON\n",
      "https://www.youtube.com/watch?v=sLgOwVPFGHg\n",
      "Hạnh Phúc Không Dành Cho Tình Nhân | Hiền Thục x Đỗ Thuỵ Khanh | Hương Ly Cover\n"
     ]
    },
    {
     "name": "stderr",
     "output_type": "stream",
     "text": [
      "ERROR: [youtube] BoyAlCrHL8M: Sign in to confirm you’re not a bot. This helps protect our community. Learn more\n"
     ]
    },
    {
     "name": "stdout",
     "output_type": "stream",
     "text": [
      "[youtube] Extracting URL: https://www.youtube.com/watch?v=sLgOwVPFGHg\n",
      "[youtube] sLgOwVPFGHg: Downloading webpage\n",
      "[youtube] sLgOwVPFGHg: Downloading ios player API JSON\n",
      "https://www.youtube.com/watch?v=25FFlNXXDNM\n",
      "Người Ta - Sĩ Thanh | Hương Ly Cover\n"
     ]
    },
    {
     "name": "stderr",
     "output_type": "stream",
     "text": [
      "ERROR: [youtube] sLgOwVPFGHg: Sign in to confirm you’re not a bot. This helps protect our community. Learn more\n"
     ]
    },
    {
     "name": "stdout",
     "output_type": "stream",
     "text": [
      "[youtube] Extracting URL: https://www.youtube.com/watch?v=25FFlNXXDNM\n",
      "[youtube] 25FFlNXXDNM: Downloading webpage\n",
      "[youtube] 25FFlNXXDNM: Downloading ios player API JSON\n",
      "[youtube] 25FFlNXXDNM: Downloading player 4e23410d\n"
     ]
    },
    {
     "name": "stderr",
     "output_type": "stream",
     "text": [
      "WARNING: [youtube] 25FFlNXXDNM: nsig extraction failed: Some formats may be missing\n",
      "         n = -fnQx-hW4-0VbN6mA ; player = https://www.youtube.com/s/player/4e23410d/player_ias.vflset/en_US/base.js\n",
      "WARNING: [youtube] 25FFlNXXDNM: nsig extraction failed: Some formats may be missing\n",
      "         n = Gse655EMu84FSPhis ; player = https://www.youtube.com/s/player/4e23410d/player_ias.vflset/en_US/base.js\n"
     ]
    },
    {
     "name": "stdout",
     "output_type": "stream",
     "text": [
      "[youtube] 25FFlNXXDNM: Downloading m3u8 information\n",
      "[info] 25FFlNXXDNM: Downloading 1 format(s): 628+140\n",
      "[hlsnative] Downloading m3u8 manifest\n",
      "[hlsnative] Total fragments: 47\n",
      "[download] Destination: Người Ta - Sĩ Thanh ｜ Hương Ly Cover [25FFlNXXDNM].f628.mp4\n",
      "[download] 100% of  426.11MiB in 00:01:37 at 4.39MiB/s                  \n",
      "[download] Destination: Người Ta - Sĩ Thanh ｜ Hương Ly Cover [25FFlNXXDNM].f140.m4a\n",
      "[download] 100% of    4.03MiB in 00:00:00 at 4.23MiB/s   \n",
      "[Merger] Merging formats into \"Người Ta - Sĩ Thanh ｜ Hương Ly Cover [25FFlNXXDNM].mp4\"\n",
      "Deleting original file Người Ta - Sĩ Thanh ｜ Hương Ly Cover [25FFlNXXDNM].f140.m4a (pass -k to keep)\n",
      "Deleting original file Người Ta - Sĩ Thanh ｜ Hương Ly Cover [25FFlNXXDNM].f628.mp4 (pass -k to keep)\n",
      "https://www.youtube.com/watch?v=za62o_svchE\n",
      "BẮC TRUNG NAM MỘT NHÀ | HƯƠNG LY X LÊ CHÍ TRUNG X TD NETWORK - Nam Quốc Sơn Hà ta chung một nhà...\n",
      "[youtube] Extracting URL: https://www.youtube.com/watch?v=za62o_svchE\n",
      "[youtube] za62o_svchE: Downloading webpage\n",
      "[youtube] za62o_svchE: Downloading ios player API JSON\n",
      "[youtube] za62o_svchE: Downloading player 4e23410d\n"
     ]
    },
    {
     "name": "stderr",
     "output_type": "stream",
     "text": [
      "WARNING: [youtube] za62o_svchE: nsig extraction failed: Some formats may be missing\n",
      "         n = WFtUJWN6g8fZ2JAHn ; player = https://www.youtube.com/s/player/4e23410d/player_ias.vflset/en_US/base.js\n",
      "WARNING: [youtube] za62o_svchE: nsig extraction failed: Some formats may be missing\n",
      "         n = OIT0p-b3l8R-8HVCu ; player = https://www.youtube.com/s/player/4e23410d/player_ias.vflset/en_US/base.js\n"
     ]
    },
    {
     "name": "stdout",
     "output_type": "stream",
     "text": [
      "[youtube] za62o_svchE: Downloading m3u8 information\n",
      "[info] za62o_svchE: Downloading 1 format(s): 625+140\n",
      "[hlsnative] Downloading m3u8 manifest\n",
      "[hlsnative] Total fragments: 52\n",
      "[download] Destination: BẮC TRUNG NAM MỘT NHÀ ｜ HƯƠNG LY X LÊ CHÍ TRUNG  X TD NETWORK - Nam Quốc Sơn Hà ta chung một nhà... [za62o_svchE].f625.mp4\n",
      "[download] 100% of  401.97MiB in 00:02:23 at 2.80MiB/s                  \n",
      "[download] Destination: BẮC TRUNG NAM MỘT NHÀ ｜ HƯƠNG LY X LÊ CHÍ TRUNG  X TD NETWORK - Nam Quốc Sơn Hà ta chung một nhà... [za62o_svchE].f140.m4a\n",
      "[download] 100% of    4.03MiB in 00:00:01 at 2.46MiB/s   \n",
      "[Merger] Merging formats into \"BẮC TRUNG NAM MỘT NHÀ ｜ HƯƠNG LY X LÊ CHÍ TRUNG  X TD NETWORK - Nam Quốc Sơn Hà ta chung một nhà... [za62o_svchE].mp4\"\n",
      "Deleting original file BẮC TRUNG NAM MỘT NHÀ ｜ HƯƠNG LY X LÊ CHÍ TRUNG  X TD NETWORK - Nam Quốc Sơn Hà ta chung một nhà... [za62o_svchE].f625.mp4 (pass -k to keep)\n",
      "Deleting original file BẮC TRUNG NAM MỘT NHÀ ｜ HƯƠNG LY X LÊ CHÍ TRUNG  X TD NETWORK - Nam Quốc Sơn Hà ta chung một nhà... [za62o_svchE].f140.m4a (pass -k to keep)\n",
      "https://www.youtube.com/watch?v=iXplk9hbSBk\n",
      "CẠN TÌNH NHƯ THẾ - DICKSON X THÀNH ĐẠT X LÊ CHÍ TRUNG | HƯƠNG LY COVER\n",
      "[youtube] Extracting URL: https://www.youtube.com/watch?v=iXplk9hbSBk\n",
      "[youtube] iXplk9hbSBk: Downloading webpage\n",
      "[youtube] iXplk9hbSBk: Downloading ios player API JSON\n",
      "[youtube] iXplk9hbSBk: Downloading player 4e23410d\n"
     ]
    },
    {
     "name": "stderr",
     "output_type": "stream",
     "text": [
      "WARNING: [youtube] iXplk9hbSBk: nsig extraction failed: Some formats may be missing\n",
      "         n = aweNcryBzj9XFYV6M ; player = https://www.youtube.com/s/player/4e23410d/player_ias.vflset/en_US/base.js\n",
      "WARNING: [youtube] iXplk9hbSBk: nsig extraction failed: Some formats may be missing\n",
      "         n = SzDnnXJmnETTMprzb ; player = https://www.youtube.com/s/player/4e23410d/player_ias.vflset/en_US/base.js\n"
     ]
    },
    {
     "name": "stdout",
     "output_type": "stream",
     "text": [
      "[youtube] iXplk9hbSBk: Downloading m3u8 information\n",
      "[info] iXplk9hbSBk: Downloading 1 format(s): 616+140\n",
      "[hlsnative] Downloading m3u8 manifest\n",
      "[hlsnative] Total fragments: 50\n",
      "[download] Destination: CẠN TÌNH NHƯ THẾ - DICKSON X THÀNH ĐẠT X LÊ CHÍ TRUNG ｜ HƯƠNG LY COVER [iXplk9hbSBk].f616.mp4\n",
      "[download] 100% of   96.61MiB in 00:00:23 at 4.16MiB/s                  \n",
      "[download] Destination: CẠN TÌNH NHƯ THẾ - DICKSON X THÀNH ĐẠT X LÊ CHÍ TRUNG ｜ HƯƠNG LY COVER [iXplk9hbSBk].f140.m4a\n",
      "[download] 100% of    4.19MiB in 00:00:00 at 5.75MiB/s     \n",
      "[Merger] Merging formats into \"CẠN TÌNH NHƯ THẾ - DICKSON X THÀNH ĐẠT X LÊ CHÍ TRUNG ｜ HƯƠNG LY COVER [iXplk9hbSBk].mp4\"\n",
      "Deleting original file CẠN TÌNH NHƯ THẾ - DICKSON X THÀNH ĐẠT X LÊ CHÍ TRUNG ｜ HƯƠNG LY COVER [iXplk9hbSBk].f140.m4a (pass -k to keep)\n",
      "Deleting original file CẠN TÌNH NHƯ THẾ - DICKSON X THÀNH ĐẠT X LÊ CHÍ TRUNG ｜ HƯƠNG LY COVER [iXplk9hbSBk].f616.mp4 (pass -k to keep)\n",
      "https://www.youtube.com/watch?v=gJnMNGfjuB0\n",
      "Trái Tim Lớn - Hương Ly x Lê Chí Trung | Trời buồn trời đổ mưa...\n",
      "[youtube] Extracting URL: https://www.youtube.com/watch?v=gJnMNGfjuB0\n",
      "[youtube] gJnMNGfjuB0: Downloading webpage\n",
      "[youtube] gJnMNGfjuB0: Downloading ios player API JSON\n",
      "https://www.youtube.com/watch?v=6PicB9mbgUs\n",
      "Biển Tình - Hương Ly Cover | Đời em sẽ đẹp vì có anh ngày dài sẽ làm mình nhớ thêm...\n"
     ]
    },
    {
     "name": "stderr",
     "output_type": "stream",
     "text": [
      "ERROR: [youtube] gJnMNGfjuB0: Sign in to confirm you’re not a bot. This helps protect our community. Learn more\n"
     ]
    },
    {
     "name": "stdout",
     "output_type": "stream",
     "text": [
      "[youtube] Extracting URL: https://www.youtube.com/watch?v=6PicB9mbgUs\n",
      "[youtube] 6PicB9mbgUs: Downloading webpage\n",
      "[youtube] 6PicB9mbgUs: Downloading ios player API JSON\n",
      "[youtube] 6PicB9mbgUs: Downloading player 4e23410d\n"
     ]
    },
    {
     "name": "stderr",
     "output_type": "stream",
     "text": [
      "WARNING: [youtube] 6PicB9mbgUs: nsig extraction failed: Some formats may be missing\n",
      "         n = Nt2v5UNyLcz55Q2zL ; player = https://www.youtube.com/s/player/4e23410d/player_ias.vflset/en_US/base.js\n",
      "WARNING: [youtube] 6PicB9mbgUs: nsig extraction failed: Some formats may be missing\n",
      "         n = XY_NEuWep6UwoMK-Q ; player = https://www.youtube.com/s/player/4e23410d/player_ias.vflset/en_US/base.js\n"
     ]
    },
    {
     "name": "stdout",
     "output_type": "stream",
     "text": [
      "[youtube] 6PicB9mbgUs: Downloading m3u8 information\n",
      "[info] 6PicB9mbgUs: Downloading 1 format(s): 625+140\n",
      "[hlsnative] Downloading m3u8 manifest\n",
      "[hlsnative] Total fragments: 43\n",
      "[download] Destination: Biển Tình - Hương Ly Cover ｜ Đời em sẽ đẹp vì có anh ngày dài sẽ làm mình nhớ thêm... [6PicB9mbgUs].f625.mp4\n",
      "[download] 100% of  463.75MiB in 00:01:25 at 5.41MiB/s                  \n",
      "[download] Destination: Biển Tình - Hương Ly Cover ｜ Đời em sẽ đẹp vì có anh ngày dài sẽ làm mình nhớ thêm... [6PicB9mbgUs].f140.m4a\n",
      "[download] 100% of    3.75MiB in 00:00:00 at 5.32MiB/s   \n",
      "[Merger] Merging formats into \"Biển Tình - Hương Ly Cover ｜ Đời em sẽ đẹp vì có anh ngày dài sẽ làm mình nhớ thêm... [6PicB9mbgUs].mp4\"\n",
      "Deleting original file Biển Tình - Hương Ly Cover ｜ Đời em sẽ đẹp vì có anh ngày dài sẽ làm mình nhớ thêm... [6PicB9mbgUs].f140.m4a (pass -k to keep)\n",
      "Deleting original file Biển Tình - Hương Ly Cover ｜ Đời em sẽ đẹp vì có anh ngày dài sẽ làm mình nhớ thêm... [6PicB9mbgUs].f625.mp4 (pass -k to keep)\n",
      "https://www.youtube.com/watch?v=f9LBaHRTV2E\n",
      "Thuyền Không Bến Đợi - Trungg I.U | Hương Ly Cover... Anh như con thuyền không bến đợi...\n",
      "[youtube] Extracting URL: https://www.youtube.com/watch?v=f9LBaHRTV2E\n",
      "[youtube] f9LBaHRTV2E: Downloading webpage\n",
      "[youtube] f9LBaHRTV2E: Downloading ios player API JSON\n",
      "[youtube] f9LBaHRTV2E: Downloading player 4e23410d\n"
     ]
    },
    {
     "name": "stderr",
     "output_type": "stream",
     "text": [
      "WARNING: [youtube] f9LBaHRTV2E: nsig extraction failed: Some formats may be missing\n",
      "         n = W39BrC6vOIQ3beSIG ; player = https://www.youtube.com/s/player/4e23410d/player_ias.vflset/en_US/base.js\n",
      "WARNING: [youtube] f9LBaHRTV2E: nsig extraction failed: Some formats may be missing\n",
      "         n = z2_vjPpb1v7Lxvrg9 ; player = https://www.youtube.com/s/player/4e23410d/player_ias.vflset/en_US/base.js\n"
     ]
    },
    {
     "name": "stdout",
     "output_type": "stream",
     "text": [
      "[youtube] f9LBaHRTV2E: Downloading m3u8 information\n",
      "[info] f9LBaHRTV2E: Downloading 1 format(s): 616+140\n",
      "[hlsnative] Downloading m3u8 manifest\n",
      "[hlsnative] Total fragments: 51\n",
      "[download] Destination: Thuyền Không Bến Đợi - Trungg I.U ｜ Hương Ly Cover... Anh như con thuyền không bến đợi... [f9LBaHRTV2E].f616.mp4\n",
      "[download] 100% of  178.78MiB in 00:01:17 at 2.30MiB/s                  \n",
      "[download] Destination: Thuyền Không Bến Đợi - Trungg I.U ｜ Hương Ly Cover... Anh như con thuyền không bến đợi... [f9LBaHRTV2E].f140.m4a\n",
      "[download] 100% of    4.43MiB in 00:00:00 at 8.27MiB/s   \n",
      "[Merger] Merging formats into \"Thuyền Không Bến Đợi - Trungg I.U ｜ Hương Ly Cover... Anh như con thuyền không bến đợi... [f9LBaHRTV2E].mp4\"\n",
      "Deleting original file Thuyền Không Bến Đợi - Trungg I.U ｜ Hương Ly Cover... Anh như con thuyền không bến đợi... [f9LBaHRTV2E].f140.m4a (pass -k to keep)\n",
      "Deleting original file Thuyền Không Bến Đợi - Trungg I.U ｜ Hương Ly Cover... Anh như con thuyền không bến đợi... [f9LBaHRTV2E].f616.mp4 (pass -k to keep)\n",
      "https://www.youtube.com/watch?v=C58yykVR_zo\n",
      "Anh Thôi Nhân Nhượng - An Clock | Hương Ly Cover\n",
      "[youtube] Extracting URL: https://www.youtube.com/watch?v=C58yykVR_zo\n",
      "[youtube] C58yykVR_zo: Downloading webpage\n",
      "[youtube] C58yykVR_zo: Downloading ios player API JSON\n",
      "https://www.youtube.com/watch?v=YrbGQTqWjBE\n",
      "Chắc Không Ai Bằng Em | Hương Ly x Ngô Quyền Linh | Official Music Video\n"
     ]
    },
    {
     "name": "stderr",
     "output_type": "stream",
     "text": [
      "ERROR: [youtube] C58yykVR_zo: Sign in to confirm you’re not a bot. This helps protect our community. Learn more\n"
     ]
    },
    {
     "name": "stdout",
     "output_type": "stream",
     "text": [
      "[youtube] Extracting URL: https://www.youtube.com/watch?v=YrbGQTqWjBE\n",
      "[youtube] YrbGQTqWjBE: Downloading webpage\n",
      "[youtube] YrbGQTqWjBE: Downloading ios player API JSON\n",
      "https://www.youtube.com/watch?v=KYgZ8glWozk\n",
      "CẨM TÚ CẦU | RAYO x HUỲNH VĂN | HƯƠNG LY COVER\n"
     ]
    },
    {
     "name": "stderr",
     "output_type": "stream",
     "text": [
      "ERROR: [youtube] YrbGQTqWjBE: Sign in to confirm you’re not a bot. This helps protect our community. Learn more\n"
     ]
    },
    {
     "name": "stdout",
     "output_type": "stream",
     "text": [
      "[youtube] Extracting URL: https://www.youtube.com/watch?v=KYgZ8glWozk\n",
      "[youtube] KYgZ8glWozk: Downloading webpage\n",
      "[youtube] KYgZ8glWozk: Downloading ios player API JSON\n",
      "[youtube] KYgZ8glWozk: Downloading player 4e23410d\n"
     ]
    },
    {
     "name": "stderr",
     "output_type": "stream",
     "text": [
      "WARNING: [youtube] KYgZ8glWozk: nsig extraction failed: Some formats may be missing\n",
      "         n = Deqa9pVREWaUO6SVT ; player = https://www.youtube.com/s/player/4e23410d/player_ias.vflset/en_US/base.js\n",
      "WARNING: [youtube] KYgZ8glWozk: nsig extraction failed: Some formats may be missing\n",
      "         n = _MUjkHKy7XEVXPavd ; player = https://www.youtube.com/s/player/4e23410d/player_ias.vflset/en_US/base.js\n"
     ]
    },
    {
     "name": "stdout",
     "output_type": "stream",
     "text": [
      "[youtube] KYgZ8glWozk: Downloading m3u8 information\n",
      "[info] KYgZ8glWozk: Downloading 1 format(s): 625+140\n",
      "[hlsnative] Downloading m3u8 manifest\n",
      "[hlsnative] Total fragments: 56\n",
      "[download] Destination: CẨM TÚ CẦU ｜ RAYO x HUỲNH VĂN ｜ HƯƠNG LY COVER [KYgZ8glWozk].f625.mp4\n",
      "[download] 100% of  528.05MiB in 00:01:19 at 6.67MiB/s                  \n",
      "[download] Destination: CẨM TÚ CẦU ｜ RAYO x HUỲNH VĂN ｜ HƯƠNG LY COVER [KYgZ8glWozk].f140.m4a\n",
      "[download] 100% of    4.51MiB in 00:00:01 at 2.41MiB/s     \n",
      "[Merger] Merging formats into \"CẨM TÚ CẦU ｜ RAYO x HUỲNH VĂN ｜ HƯƠNG LY COVER [KYgZ8glWozk].mp4\"\n",
      "Deleting original file CẨM TÚ CẦU ｜ RAYO x HUỲNH VĂN ｜ HƯƠNG LY COVER [KYgZ8glWozk].f140.m4a (pass -k to keep)\n",
      "Deleting original file CẨM TÚ CẦU ｜ RAYO x HUỲNH VĂN ｜ HƯƠNG LY COVER [KYgZ8glWozk].f625.mp4 (pass -k to keep)\n",
      "https://www.youtube.com/watch?v=yg2LJhVPB80\n",
      "TỰ EM THƯƠNG MÌNH - HƯƠNG LY | MV LYRICS\n",
      "[youtube] Extracting URL: https://www.youtube.com/watch?v=yg2LJhVPB80\n",
      "[youtube] yg2LJhVPB80: Downloading webpage\n",
      "[youtube] yg2LJhVPB80: Downloading ios player API JSON\n",
      "[youtube] yg2LJhVPB80: Downloading player 4e23410d\n"
     ]
    },
    {
     "name": "stderr",
     "output_type": "stream",
     "text": [
      "WARNING: [youtube] yg2LJhVPB80: nsig extraction failed: Some formats may be missing\n",
      "         n = DQoLxxjPanoaJ-NFb ; player = https://www.youtube.com/s/player/4e23410d/player_ias.vflset/en_US/base.js\n",
      "WARNING: [youtube] yg2LJhVPB80: nsig extraction failed: Some formats may be missing\n",
      "         n = LWrNU3G9DUhiStAAZ ; player = https://www.youtube.com/s/player/4e23410d/player_ias.vflset/en_US/base.js\n"
     ]
    },
    {
     "name": "stdout",
     "output_type": "stream",
     "text": [
      "[youtube] yg2LJhVPB80: Downloading m3u8 information\n",
      "[info] yg2LJhVPB80: Downloading 1 format(s): 616+140\n",
      "[hlsnative] Downloading m3u8 manifest\n",
      "[hlsnative] Total fragments: 63\n",
      "[download] Destination: TỰ EM THƯƠNG MÌNH - HƯƠNG LY ｜ MV LYRICS [yg2LJhVPB80].f616.mp4\n",
      "[download] 100% of  177.67MiB in 00:00:58 at 3.06MiB/s                  \n",
      "[download] Destination: TỰ EM THƯƠNG MÌNH - HƯƠNG LY ｜ MV LYRICS [yg2LJhVPB80].f140.m4a\n",
      "[download] 100% of    5.02MiB in 00:00:00 at 8.99MiB/s   \n",
      "[Merger] Merging formats into \"TỰ EM THƯƠNG MÌNH - HƯƠNG LY ｜ MV LYRICS [yg2LJhVPB80].mp4\"\n",
      "Deleting original file TỰ EM THƯƠNG MÌNH - HƯƠNG LY ｜ MV LYRICS [yg2LJhVPB80].f616.mp4 (pass -k to keep)\n",
      "Deleting original file TỰ EM THƯƠNG MÌNH - HƯƠNG LY ｜ MV LYRICS [yg2LJhVPB80].f140.m4a (pass -k to keep)\n",
      "https://www.youtube.com/watch?v=CEOBA3xD_Qc\n",
      "HƯƠNG LY | TỰ EM THƯƠNG MÌNH | DEMO\n",
      "[youtube] Extracting URL: https://www.youtube.com/watch?v=CEOBA3xD_Qc\n",
      "[youtube] CEOBA3xD_Qc: Downloading webpage\n",
      "[youtube] CEOBA3xD_Qc: Downloading ios player API JSON\n",
      "[youtube] CEOBA3xD_Qc: Downloading player 4e23410d\n"
     ]
    },
    {
     "name": "stderr",
     "output_type": "stream",
     "text": [
      "WARNING: [youtube] CEOBA3xD_Qc: nsig extraction failed: Some formats may be missing\n",
      "         n = iDxvbkbzJEHG3oyH3 ; player = https://www.youtube.com/s/player/4e23410d/player_ias.vflset/en_US/base.js\n",
      "WARNING: [youtube] CEOBA3xD_Qc: nsig extraction failed: Some formats may be missing\n",
      "         n = pJ7ujVXnDiBsumA4n ; player = https://www.youtube.com/s/player/4e23410d/player_ias.vflset/en_US/base.js\n"
     ]
    },
    {
     "name": "stdout",
     "output_type": "stream",
     "text": [
      "[youtube] CEOBA3xD_Qc: Downloading m3u8 information\n",
      "[info] CEOBA3xD_Qc: Downloading 1 format(s): 616+140\n",
      "[hlsnative] Downloading m3u8 manifest\n",
      "[hlsnative] Total fragments: 8\n",
      "[download] Destination: HƯƠNG LY ｜ TỰ EM THƯƠNG MÌNH ｜ DEMO [CEOBA3xD_Qc].f616.mp4\n",
      "[download] 100% of   19.36MiB in 00:00:26 at 760.46KiB/s               \n",
      "[download] Destination: HƯƠNG LY ｜ TỰ EM THƯƠNG MÌNH ｜ DEMO [CEOBA3xD_Qc].f140.m4a\n",
      "[download] 100% of  676.64KiB in 00:00:00 at 884.59KiB/s \n",
      "[Merger] Merging formats into \"HƯƠNG LY ｜ TỰ EM THƯƠNG MÌNH ｜ DEMO [CEOBA3xD_Qc].mp4\"\n",
      "Deleting original file HƯƠNG LY ｜ TỰ EM THƯƠNG MÌNH ｜ DEMO [CEOBA3xD_Qc].f140.m4a (pass -k to keep)\n",
      "Deleting original file HƯƠNG LY ｜ TỰ EM THƯƠNG MÌNH ｜ DEMO [CEOBA3xD_Qc].f616.mp4 (pass -k to keep)\n",
      "https://www.youtube.com/watch?v=jOtAo82_ZRo\n",
      "Thủy Triều - Quang Hùng MasterD | Hương Ly Version Tỳ Bà | Series \"Móng Tay\" Tập 6 |\n",
      "[youtube] Extracting URL: https://www.youtube.com/watch?v=jOtAo82_ZRo\n",
      "[youtube] jOtAo82_ZRo: Downloading webpage\n",
      "[youtube] jOtAo82_ZRo: Downloading ios player API JSON\n",
      "[youtube] jOtAo82_ZRo: Downloading player 4e23410d\n"
     ]
    },
    {
     "name": "stderr",
     "output_type": "stream",
     "text": [
      "WARNING: [youtube] jOtAo82_ZRo: nsig extraction failed: Some formats may be missing\n",
      "         n = jxTAY0ExgYfZi2yoF ; player = https://www.youtube.com/s/player/4e23410d/player_ias.vflset/en_US/base.js\n",
      "WARNING: [youtube] jOtAo82_ZRo: nsig extraction failed: Some formats may be missing\n",
      "         n = TdnWBOE-KzKhKj00U ; player = https://www.youtube.com/s/player/4e23410d/player_ias.vflset/en_US/base.js\n"
     ]
    },
    {
     "name": "stdout",
     "output_type": "stream",
     "text": [
      "[youtube] jOtAo82_ZRo: Downloading m3u8 information\n",
      "[info] jOtAo82_ZRo: Downloading 1 format(s): 625+140\n",
      "[hlsnative] Downloading m3u8 manifest\n",
      "[hlsnative] Total fragments: 30\n",
      "[download] Destination: Thủy Triều - Quang Hùng MasterD ｜ Hương Ly Version Tỳ Bà ｜ Series ＂Móng Tay＂ Tập 6 ｜ [jOtAo82_ZRo].f625.mp4\n",
      "[download] 100% of  272.77MiB in 00:00:58 at 4.65MiB/s                  \n",
      "[download] Destination: Thủy Triều - Quang Hùng MasterD ｜ Hương Ly Version Tỳ Bà ｜ Series ＂Móng Tay＂ Tập 6 ｜ [jOtAo82_ZRo].f140.m4a\n",
      "[download] 100% of    2.77MiB in 00:00:00 at 6.98MiB/s   \n",
      "[Merger] Merging formats into \"Thủy Triều - Quang Hùng MasterD ｜ Hương Ly Version Tỳ Bà ｜ Series ＂Móng Tay＂ Tập 6 ｜ [jOtAo82_ZRo].mp4\"\n",
      "Deleting original file Thủy Triều - Quang Hùng MasterD ｜ Hương Ly Version Tỳ Bà ｜ Series ＂Móng Tay＂ Tập 6 ｜ [jOtAo82_ZRo].f140.m4a (pass -k to keep)\n",
      "Deleting original file Thủy Triều - Quang Hùng MasterD ｜ Hương Ly Version Tỳ Bà ｜ Series ＂Móng Tay＂ Tập 6 ｜ [jOtAo82_ZRo].f625.mp4 (pass -k to keep)\n",
      "https://www.youtube.com/watch?v=Fc6Iq6w1vkU\n",
      "Nụ Cười Xuân - Hương Ly | Version Tỳ Bà | Series \"Móng Tay\" Tập 5 |\n",
      "[youtube] Extracting URL: https://www.youtube.com/watch?v=Fc6Iq6w1vkU\n",
      "[youtube] Fc6Iq6w1vkU: Downloading webpage\n",
      "[youtube] Fc6Iq6w1vkU: Downloading ios player API JSON\n",
      "[youtube] Fc6Iq6w1vkU: Downloading player 4e23410d\n"
     ]
    },
    {
     "name": "stderr",
     "output_type": "stream",
     "text": [
      "WARNING: [youtube] Fc6Iq6w1vkU: nsig extraction failed: Some formats may be missing\n",
      "         n = -ai9Ww5ZhNxa_iIpQ ; player = https://www.youtube.com/s/player/4e23410d/player_ias.vflset/en_US/base.js\n",
      "WARNING: [youtube] Fc6Iq6w1vkU: nsig extraction failed: Some formats may be missing\n",
      "         n = N413Be1V_RDexZeY3 ; player = https://www.youtube.com/s/player/4e23410d/player_ias.vflset/en_US/base.js\n",
      "ERROR: [youtube] Fc6Iq6w1vkU: Sign in to confirm you’re not a bot. This helps protect our community. Learn more\n"
     ]
    },
    {
     "name": "stdout",
     "output_type": "stream",
     "text": [
      "https://www.youtube.com/watch?v=W59Z2TnecJQ\n",
      "Thuỷ Triều | Quang Hùng MasterD | - Hương Ly Cover - Nhắm mắt lại hôn vào tai ...\n",
      "[youtube] Extracting URL: https://www.youtube.com/watch?v=W59Z2TnecJQ\n",
      "[youtube] W59Z2TnecJQ: Downloading webpage\n",
      "[youtube] W59Z2TnecJQ: Downloading ios player API JSON\n",
      "[youtube] W59Z2TnecJQ: Downloading player 4e23410d\n"
     ]
    },
    {
     "name": "stderr",
     "output_type": "stream",
     "text": [
      "WARNING: [youtube] W59Z2TnecJQ: nsig extraction failed: Some formats may be missing\n",
      "         n = oWKNlicO9reuTby4T ; player = https://www.youtube.com/s/player/4e23410d/player_ias.vflset/en_US/base.js\n",
      "WARNING: [youtube] W59Z2TnecJQ: nsig extraction failed: Some formats may be missing\n",
      "         n = RJ4lZaq8SEDr4CCPg ; player = https://www.youtube.com/s/player/4e23410d/player_ias.vflset/en_US/base.js\n"
     ]
    },
    {
     "name": "stdout",
     "output_type": "stream",
     "text": [
      "[youtube] W59Z2TnecJQ: Downloading m3u8 information\n",
      "[info] W59Z2TnecJQ: Downloading 1 format(s): 625+140\n",
      "[hlsnative] Downloading m3u8 manifest\n",
      "[hlsnative] Total fragments: 35\n",
      "[download] Destination: Thuỷ Triều ｜ Quang Hùng MasterD ｜ - Hương Ly Cover - Nhắm mắt lại hôn vào tai ... [W59Z2TnecJQ].f625.mp4\n",
      "[download] 100% of  232.27MiB in 00:00:56 at 4.13MiB/s                  \n",
      "[download] Destination: Thuỷ Triều ｜ Quang Hùng MasterD ｜ - Hương Ly Cover - Nhắm mắt lại hôn vào tai ... [W59Z2TnecJQ].f140.m4a\n",
      "[download] 100% of    2.79MiB in 00:00:00 at 3.64MiB/s   \n",
      "[Merger] Merging formats into \"Thuỷ Triều ｜ Quang Hùng MasterD ｜ - Hương Ly Cover - Nhắm mắt lại hôn vào tai ... [W59Z2TnecJQ].mp4\"\n",
      "Deleting original file Thuỷ Triều ｜ Quang Hùng MasterD ｜ - Hương Ly Cover - Nhắm mắt lại hôn vào tai ... [W59Z2TnecJQ].f140.m4a (pass -k to keep)\n",
      "Deleting original file Thuỷ Triều ｜ Quang Hùng MasterD ｜ - Hương Ly Cover - Nhắm mắt lại hôn vào tai ... [W59Z2TnecJQ].f625.mp4 (pass -k to keep)\n",
      "https://www.youtube.com/watch?v=e7ZBIl98SXQ\n",
      "NẮM - HƯƠNG LY | LIVE VERSION VALENTINE DAY\n",
      "[youtube] Extracting URL: https://www.youtube.com/watch?v=e7ZBIl98SXQ\n",
      "[youtube] e7ZBIl98SXQ: Downloading webpage\n",
      "[youtube] e7ZBIl98SXQ: Downloading ios player API JSON\n",
      "[youtube] e7ZBIl98SXQ: Downloading player 4e23410d\n"
     ]
    },
    {
     "name": "stderr",
     "output_type": "stream",
     "text": [
      "WARNING: [youtube] e7ZBIl98SXQ: nsig extraction failed: Some formats may be missing\n",
      "         n = M8xJMd3YczyXuOj1Z ; player = https://www.youtube.com/s/player/4e23410d/player_ias.vflset/en_US/base.js\n",
      "WARNING: [youtube] e7ZBIl98SXQ: nsig extraction failed: Some formats may be missing\n",
      "         n = 0JesjA4lzQfUFB_75 ; player = https://www.youtube.com/s/player/4e23410d/player_ias.vflset/en_US/base.js\n"
     ]
    },
    {
     "name": "stdout",
     "output_type": "stream",
     "text": [
      "[youtube] e7ZBIl98SXQ: Downloading m3u8 information\n",
      "[info] e7ZBIl98SXQ: Downloading 1 format(s): 628+140\n",
      "[hlsnative] Downloading m3u8 manifest\n",
      "[hlsnative] Total fragments: 62\n",
      "[download] Destination: NẮM - HƯƠNG LY ｜ LIVE VERSION VALENTINE DAY [e7ZBIl98SXQ].f628.mp4\n",
      "[download] 100% of  802.50MiB in 00:02:08 at 6.26MiB/s                  \n",
      "[download] Destination: NẮM - HƯƠNG LY ｜ LIVE VERSION VALENTINE DAY [e7ZBIl98SXQ].f140.m4a\n",
      "[download] 100% of    4.19MiB in 00:00:01 at 3.09MiB/s   \n",
      "[Merger] Merging formats into \"NẮM - HƯƠNG LY ｜ LIVE VERSION VALENTINE DAY [e7ZBIl98SXQ].mp4\"\n",
      "Deleting original file NẮM - HƯƠNG LY ｜ LIVE VERSION VALENTINE DAY [e7ZBIl98SXQ].f628.mp4 (pass -k to keep)\n",
      "Deleting original file NẮM - HƯƠNG LY ｜ LIVE VERSION VALENTINE DAY [e7ZBIl98SXQ].f140.m4a (pass -k to keep)\n",
      "https://www.youtube.com/watch?v=WmtmIxnc1js\n",
      "NỤ CƯỜI XUÂN REMIX - HƯƠNG LY | ĐẠI MÈO REMIX | TỪ BÊN TRONG NHỊP TIM ĐANG RUNG LÊN HOT TIKTOK\n",
      "[youtube] Extracting URL: https://www.youtube.com/watch?v=WmtmIxnc1js\n",
      "[youtube] WmtmIxnc1js: Downloading webpage\n",
      "[youtube] WmtmIxnc1js: Downloading ios player API JSON\n",
      "https://www.youtube.com/watch?v=FSUVITzD4r4\n",
      "Là Ai Từ Bỏ Là Ai Vô Tình - Hương Ly | Version Tỳ Bà | Series \"Móng Tay\" Tập 4\n"
     ]
    },
    {
     "name": "stderr",
     "output_type": "stream",
     "text": [
      "ERROR: [youtube] WmtmIxnc1js: Sign in to confirm you’re not a bot. This helps protect our community. Learn more\n"
     ]
    },
    {
     "name": "stdout",
     "output_type": "stream",
     "text": [
      "[youtube] Extracting URL: https://www.youtube.com/watch?v=FSUVITzD4r4\n",
      "[youtube] FSUVITzD4r4: Downloading webpage\n",
      "[youtube] FSUVITzD4r4: Downloading ios player API JSON\n",
      "[youtube] FSUVITzD4r4: Downloading player 4e23410d\n"
     ]
    },
    {
     "name": "stderr",
     "output_type": "stream",
     "text": [
      "WARNING: [youtube] FSUVITzD4r4: nsig extraction failed: Some formats may be missing\n",
      "         n = rjrgOolpgi_t6YJYf ; player = https://www.youtube.com/s/player/4e23410d/player_ias.vflset/en_US/base.js\n",
      "WARNING: [youtube] FSUVITzD4r4: nsig extraction failed: Some formats may be missing\n",
      "         n = KzYkwToexni0rmS1A ; player = https://www.youtube.com/s/player/4e23410d/player_ias.vflset/en_US/base.js\n"
     ]
    },
    {
     "name": "stdout",
     "output_type": "stream",
     "text": [
      "[youtube] FSUVITzD4r4: Downloading m3u8 information\n",
      "[info] FSUVITzD4r4: Downloading 1 format(s): 628+140\n",
      "[hlsnative] Downloading m3u8 manifest\n",
      "[hlsnative] Total fragments: 41\n",
      "[download] Destination: Là Ai Từ Bỏ Là Ai Vô Tình - Hương Ly ｜ Version Tỳ Bà ｜ Series ＂Móng Tay＂ Tập 4 [FSUVITzD4r4].f628.mp4\n",
      "[download] 100% of  274.43MiB in 00:01:20 at 3.42MiB/s                 \n",
      "[download] Destination: Là Ai Từ Bỏ Là Ai Vô Tình - Hương Ly ｜ Version Tỳ Bà ｜ Series ＂Móng Tay＂ Tập 4 [FSUVITzD4r4].f140.m4a\n",
      "[download] 100% of    3.17MiB in 00:00:00 at 4.51MiB/s   \n",
      "[Merger] Merging formats into \"Là Ai Từ Bỏ Là Ai Vô Tình - Hương Ly ｜ Version Tỳ Bà ｜ Series ＂Móng Tay＂ Tập 4 [FSUVITzD4r4].mp4\"\n",
      "Deleting original file Là Ai Từ Bỏ Là Ai Vô Tình - Hương Ly ｜ Version Tỳ Bà ｜ Series ＂Móng Tay＂ Tập 4 [FSUVITzD4r4].f628.mp4 (pass -k to keep)\n",
      "Deleting original file Là Ai Từ Bỏ Là Ai Vô Tình - Hương Ly ｜ Version Tỳ Bà ｜ Series ＂Móng Tay＂ Tập 4 [FSUVITzD4r4].f140.m4a (pass -k to keep)\n",
      "https://www.youtube.com/watch?v=cXmEv8b5Ltg\n",
      "QUÀ TẾT SƯỚNG NHƯ TIÊN - HƯƠNG LY x VINAMILK SURE PREVENT GOLD\n",
      "[youtube] Extracting URL: https://www.youtube.com/watch?v=cXmEv8b5Ltg\n",
      "[youtube] cXmEv8b5Ltg: Downloading webpage\n",
      "[youtube] cXmEv8b5Ltg: Downloading ios player API JSON\n",
      "[youtube] cXmEv8b5Ltg: Downloading player 4e23410d\n"
     ]
    },
    {
     "name": "stderr",
     "output_type": "stream",
     "text": [
      "WARNING: [youtube] cXmEv8b5Ltg: nsig extraction failed: Some formats may be missing\n",
      "         n = YWcO3Y-2j8-jUflF5 ; player = https://www.youtube.com/s/player/4e23410d/player_ias.vflset/en_US/base.js\n",
      "WARNING: [youtube] cXmEv8b5Ltg: nsig extraction failed: Some formats may be missing\n",
      "         n = nxhK3iH_3gRzY4ecz ; player = https://www.youtube.com/s/player/4e23410d/player_ias.vflset/en_US/base.js\n"
     ]
    },
    {
     "name": "stdout",
     "output_type": "stream",
     "text": [
      "[youtube] cXmEv8b5Ltg: Downloading m3u8 information\n",
      "[info] cXmEv8b5Ltg: Downloading 1 format(s): 625+140\n",
      "[hlsnative] Downloading m3u8 manifest\n",
      "[hlsnative] Total fragments: 25\n",
      "[download] Destination: QUÀ TẾT SƯỚNG NHƯ TIÊN - HƯƠNG LY x VINAMILK SURE PREVENT GOLD [cXmEv8b5Ltg].f625.mp4\n",
      "[download] 100% of  244.03MiB in 00:02:27 at 1.66MiB/s                    \n",
      "[download] Destination: QUÀ TẾT SƯỚNG NHƯ TIÊN - HƯƠNG LY x VINAMILK SURE PREVENT GOLD [cXmEv8b5Ltg].f140.m4a\n",
      "[download] 100% of    2.10MiB in 00:00:00 at 6.29MiB/s     \n",
      "[Merger] Merging formats into \"QUÀ TẾT SƯỚNG NHƯ TIÊN - HƯƠNG LY x VINAMILK SURE PREVENT GOLD [cXmEv8b5Ltg].mp4\"\n",
      "Deleting original file QUÀ TẾT SƯỚNG NHƯ TIÊN - HƯƠNG LY x VINAMILK SURE PREVENT GOLD [cXmEv8b5Ltg].f625.mp4 (pass -k to keep)\n",
      "Deleting original file QUÀ TẾT SƯỚNG NHƯ TIÊN - HƯƠNG LY x VINAMILK SURE PREVENT GOLD [cXmEv8b5Ltg].f140.m4a (pass -k to keep)\n",
      "https://www.youtube.com/watch?v=X8xgR0W1WgI\n",
      "Chữ Tình Chữ Yêu - Hương Ly x TTV x Lê Chí Trung\n",
      "[youtube] Extracting URL: https://www.youtube.com/watch?v=X8xgR0W1WgI\n",
      "[youtube] X8xgR0W1WgI: Downloading webpage\n",
      "[youtube] X8xgR0W1WgI: Downloading ios player API JSON\n",
      "[youtube] X8xgR0W1WgI: Downloading m3u8 information\n",
      "[info] X8xgR0W1WgI: Downloading 1 format(s): 628+140\n",
      "[hlsnative] Downloading m3u8 manifest\n",
      "[hlsnative] Total fragments: 57\n",
      "[download] Destination: Chữ Tình Chữ Yêu - Hương Ly x TTV x Lê Chí Trung [X8xgR0W1WgI].f628.mp4\n",
      "[download] 100% of  622.41MiB in 00:02:37 at 3.96MiB/s                   \n",
      "[download] Destination: Chữ Tình Chữ Yêu - Hương Ly x TTV x Lê Chí Trung [X8xgR0W1WgI].f140.m4a\n",
      "[download] 100% of    4.67MiB in 00:00:00 at 5.19MiB/s   \n",
      "[Merger] Merging formats into \"Chữ Tình Chữ Yêu - Hương Ly x TTV x Lê Chí Trung [X8xgR0W1WgI].mp4\"\n",
      "Deleting original file Chữ Tình Chữ Yêu - Hương Ly x TTV x Lê Chí Trung [X8xgR0W1WgI].f140.m4a (pass -k to keep)\n",
      "Deleting original file Chữ Tình Chữ Yêu - Hương Ly x TTV x Lê Chí Trung [X8xgR0W1WgI].f628.mp4 (pass -k to keep)\n",
      "https://www.youtube.com/watch?v=O2iA1pOoIds\n",
      "Toàn Là Lời Nói Dối | Hương Ly | Phiên bản trên bàn nhậu\n",
      "[youtube] Extracting URL: https://www.youtube.com/watch?v=O2iA1pOoIds\n",
      "[youtube] O2iA1pOoIds: Downloading webpage\n",
      "[youtube] O2iA1pOoIds: Downloading ios player API JSON\n",
      "[youtube] O2iA1pOoIds: Downloading player 4e23410d\n"
     ]
    },
    {
     "name": "stderr",
     "output_type": "stream",
     "text": [
      "WARNING: [youtube] O2iA1pOoIds: nsig extraction failed: Some formats may be missing\n",
      "         n = 0kEf9XXKDnaUhPGYZ ; player = https://www.youtube.com/s/player/4e23410d/player_ias.vflset/en_US/base.js\n",
      "WARNING: [youtube] O2iA1pOoIds: nsig extraction failed: Some formats may be missing\n",
      "         n = Gn5J5xqfjApu0w3bN ; player = https://www.youtube.com/s/player/4e23410d/player_ias.vflset/en_US/base.js\n"
     ]
    },
    {
     "name": "stdout",
     "output_type": "stream",
     "text": [
      "[youtube] O2iA1pOoIds: Downloading m3u8 information\n",
      "[info] O2iA1pOoIds: Downloading 1 format(s): 628+140\n",
      "[hlsnative] Downloading m3u8 manifest\n",
      "[hlsnative] Total fragments: 44\n",
      "[download] Destination: Toàn Là Lời Nói Dối ｜ Hương Ly ｜ Phiên bản trên bàn nhậu [O2iA1pOoIds].f628.mp4\n",
      "[download] 100% of  698.23MiB in 00:06:58 at 1.67MiB/s                   \n",
      "[download] Destination: Toàn Là Lời Nói Dối ｜ Hương Ly ｜ Phiên bản trên bàn nhậu [O2iA1pOoIds].f140.m4a\n",
      "[download] 100% of    3.79MiB in 00:00:00 at 4.79MiB/s   \n",
      "[Merger] Merging formats into \"Toàn Là Lời Nói Dối ｜ Hương Ly ｜ Phiên bản trên bàn nhậu [O2iA1pOoIds].mp4\"\n",
      "Deleting original file Toàn Là Lời Nói Dối ｜ Hương Ly ｜ Phiên bản trên bàn nhậu [O2iA1pOoIds].f628.mp4 (pass -k to keep)\n",
      "Deleting original file Toàn Là Lời Nói Dối ｜ Hương Ly ｜ Phiên bản trên bàn nhậu [O2iA1pOoIds].f140.m4a (pass -k to keep)\n",
      "https://www.youtube.com/watch?v=r9Ad8panwd8\n",
      "Karaoke Toàn Là Lời Nói Dối | Beat Hạ Tone | Hương Ly\n",
      "[youtube] Extracting URL: https://www.youtube.com/watch?v=r9Ad8panwd8\n",
      "[youtube] r9Ad8panwd8: Downloading webpage\n",
      "[youtube] r9Ad8panwd8: Downloading ios player API JSON\n",
      "[youtube] r9Ad8panwd8: Downloading m3u8 information\n",
      "[info] r9Ad8panwd8: Downloading 1 format(s): 617+140\n",
      "[hlsnative] Downloading m3u8 manifest\n",
      "[hlsnative] Total fragments: 50\n",
      "[download] Destination: Karaoke Toàn Là Lời Nói Dối ｜ Beat Hạ Tone ｜ Hương Ly [r9Ad8panwd8].f617.mp4\n",
      "[download] 100% of   95.62MiB in 00:00:34 at 2.74MiB/s                  \n",
      "[download] Destination: Karaoke Toàn Là Lời Nói Dối ｜ Beat Hạ Tone ｜ Hương Ly [r9Ad8panwd8].f140.m4a\n",
      "[download] 100% of    3.85MiB in 00:00:00 at 5.38MiB/s   \n",
      "[Merger] Merging formats into \"Karaoke Toàn Là Lời Nói Dối ｜ Beat Hạ Tone ｜ Hương Ly [r9Ad8panwd8].mp4\"\n",
      "Deleting original file Karaoke Toàn Là Lời Nói Dối ｜ Beat Hạ Tone ｜ Hương Ly [r9Ad8panwd8].f140.m4a (pass -k to keep)\n",
      "Deleting original file Karaoke Toàn Là Lời Nói Dối ｜ Beat Hạ Tone ｜ Hương Ly [r9Ad8panwd8].f617.mp4 (pass -k to keep)\n",
      "https://www.youtube.com/watch?v=jWa7ByPjjwA\n",
      "Toàn Là Lời Nói Dối | Hương Ly | Official Mv Lyric | Điều tồi tệ nhất lại có thể xảy ra với mình...\n",
      "[youtube] Extracting URL: https://www.youtube.com/watch?v=jWa7ByPjjwA\n",
      "[youtube] jWa7ByPjjwA: Downloading webpage\n",
      "[youtube] jWa7ByPjjwA: Downloading ios player API JSON\n",
      "[youtube] jWa7ByPjjwA: Downloading player 4e23410d\n"
     ]
    },
    {
     "name": "stderr",
     "output_type": "stream",
     "text": [
      "WARNING: [youtube] jWa7ByPjjwA: nsig extraction failed: Some formats may be missing\n",
      "         n = uz0U12OuDjcMDWVNP ; player = https://www.youtube.com/s/player/4e23410d/player_ias.vflset/en_US/base.js\n",
      "WARNING: [youtube] jWa7ByPjjwA: nsig extraction failed: Some formats may be missing\n",
      "         n = t_CKxV2g-WwpFsgU5 ; player = https://www.youtube.com/s/player/4e23410d/player_ias.vflset/en_US/base.js\n",
      "ERROR: [youtube] jWa7ByPjjwA: Sign in to confirm you’re not a bot. This helps protect our community. Learn more\n"
     ]
    },
    {
     "name": "stdout",
     "output_type": "stream",
     "text": [
      "https://www.youtube.com/watch?v=-HFX0IHt_XI\n",
      "Tội Nghiệp Lắm Em - Thành Đạt x Lê Chí Trung | Hương Ly Cover - Tập sống nâng niu những gì ...\n",
      "[youtube] Extracting URL: https://www.youtube.com/watch?v=-HFX0IHt_XI\n",
      "[youtube] -HFX0IHt_XI: Downloading webpage\n",
      "[youtube] -HFX0IHt_XI: Downloading ios player API JSON\n",
      "https://www.youtube.com/watch?v=Usy6DuL9ZhQ\n",
      "Một Bước Yêu Vạn Dặm Đau | Mr.Siro | Hương Ly Cover | Version Tỳ Bà | Series \"Móng Tay\" Tập 3\n"
     ]
    },
    {
     "name": "stderr",
     "output_type": "stream",
     "text": [
      "ERROR: [youtube] -HFX0IHt_XI: Sign in to confirm you’re not a bot. This helps protect our community. Learn more\n"
     ]
    },
    {
     "name": "stdout",
     "output_type": "stream",
     "text": [
      "[youtube] Extracting URL: https://www.youtube.com/watch?v=Usy6DuL9ZhQ\n",
      "[youtube] Usy6DuL9ZhQ: Downloading webpage\n",
      "[youtube] Usy6DuL9ZhQ: Downloading ios player API JSON\n",
      "[youtube] Usy6DuL9ZhQ: Downloading player 4e23410d\n"
     ]
    },
    {
     "name": "stderr",
     "output_type": "stream",
     "text": [
      "WARNING: [youtube] Usy6DuL9ZhQ: nsig extraction failed: Some formats may be missing\n",
      "         n = 02Ow0BSIn10lgzZo1 ; player = https://www.youtube.com/s/player/4e23410d/player_ias.vflset/en_US/base.js\n",
      "WARNING: [youtube] Usy6DuL9ZhQ: nsig extraction failed: Some formats may be missing\n",
      "         n = simtB6DfNwJ2ms2bJ ; player = https://www.youtube.com/s/player/4e23410d/player_ias.vflset/en_US/base.js\n"
     ]
    },
    {
     "name": "stdout",
     "output_type": "stream",
     "text": [
      "[youtube] Usy6DuL9ZhQ: Downloading m3u8 information\n",
      "[info] Usy6DuL9ZhQ: Downloading 1 format(s): 628+140\n",
      "[hlsnative] Downloading m3u8 manifest\n",
      "[hlsnative] Total fragments: 56\n",
      "[download] Destination: Một Bước Yêu Vạn Dặm Đau ｜ Mr.Siro ｜ Hương Ly Cover ｜ Version Tỳ Bà ｜ Series ＂Móng Tay＂ Tập 3 [Usy6DuL9ZhQ].f628.mp4\n",
      "[download] 100% of  433.27MiB in 00:02:44 at 2.63MiB/s                  \n",
      "[download] Destination: Một Bước Yêu Vạn Dặm Đau ｜ Mr.Siro ｜ Hương Ly Cover ｜ Version Tỳ Bà ｜ Series ＂Móng Tay＂ Tập 3 [Usy6DuL9ZhQ].f140.m4a\n",
      "[download] 100% of    4.30MiB in 00:00:00 at 6.04MiB/s     \n",
      "[Merger] Merging formats into \"Một Bước Yêu Vạn Dặm Đau ｜ Mr.Siro ｜ Hương Ly Cover ｜ Version Tỳ Bà ｜ Series ＂Móng Tay＂ Tập 3 [Usy6DuL9ZhQ].mp4\"\n",
      "Deleting original file Một Bước Yêu Vạn Dặm Đau ｜ Mr.Siro ｜ Hương Ly Cover ｜ Version Tỳ Bà ｜ Series ＂Móng Tay＂ Tập 3 [Usy6DuL9ZhQ].f628.mp4 (pass -k to keep)\n",
      "Deleting original file Một Bước Yêu Vạn Dặm Đau ｜ Mr.Siro ｜ Hương Ly Cover ｜ Version Tỳ Bà ｜ Series ＂Móng Tay＂ Tập 3 [Usy6DuL9ZhQ].f140.m4a (pass -k to keep)\n",
      "https://www.youtube.com/watch?v=A662aiCky-c\n",
      "Thế Thái | Hương Ly | Version Tỳ Bà | Series \"Móng Tay\" Tập 1\n",
      "[youtube] Extracting URL: https://www.youtube.com/watch?v=A662aiCky-c\n",
      "[youtube] A662aiCky-c: Downloading webpage\n",
      "[youtube] A662aiCky-c: Downloading ios player API JSON\n",
      "https://www.youtube.com/watch?v=qpSKmmSJ794\n",
      "THẾ THÁI | HƯƠNG LY | BẢN FULL PHÒNG THU CHỊ ĐẸP ĐẠP GIÓ RẼ SÓNG | NEW VERSION PIANO - DRUM - TỲ BÀ\n"
     ]
    },
    {
     "name": "stderr",
     "output_type": "stream",
     "text": [
      "ERROR: [youtube] A662aiCky-c: Sign in to confirm you’re not a bot. This helps protect our community. Learn more\n"
     ]
    },
    {
     "name": "stdout",
     "output_type": "stream",
     "text": [
      "[youtube] Extracting URL: https://www.youtube.com/watch?v=qpSKmmSJ794\n",
      "[youtube] qpSKmmSJ794: Downloading webpage\n",
      "[youtube] qpSKmmSJ794: Downloading ios player API JSON\n",
      "[youtube] qpSKmmSJ794: Downloading player 4e23410d\n"
     ]
    },
    {
     "name": "stderr",
     "output_type": "stream",
     "text": [
      "WARNING: [youtube] qpSKmmSJ794: nsig extraction failed: Some formats may be missing\n",
      "         n = U1JW4Osls5OGVcGfC ; player = https://www.youtube.com/s/player/4e23410d/player_ias.vflset/en_US/base.js\n",
      "WARNING: [youtube] qpSKmmSJ794: nsig extraction failed: Some formats may be missing\n",
      "         n = yp_TAP4TgUtOLuhTb ; player = https://www.youtube.com/s/player/4e23410d/player_ias.vflset/en_US/base.js\n"
     ]
    },
    {
     "name": "stdout",
     "output_type": "stream",
     "text": [
      "[youtube] qpSKmmSJ794: Downloading m3u8 information\n",
      "[info] qpSKmmSJ794: Downloading 1 format(s): 628+140\n",
      "[hlsnative] Downloading m3u8 manifest\n",
      "[hlsnative] Total fragments: 37\n",
      "[download] Destination: THẾ THÁI ｜ HƯƠNG LY ｜ BẢN FULL PHÒNG THU  CHỊ ĐẸP ĐẠP GIÓ RẼ SÓNG ｜ NEW VERSION PIANO - DRUM - TỲ BÀ [qpSKmmSJ794].f628.mp4\n",
      "[download] 100% of  533.32MiB in 00:01:30 at 5.92MiB/s                  \n",
      "[download] Destination: THẾ THÁI ｜ HƯƠNG LY ｜ BẢN FULL PHÒNG THU  CHỊ ĐẸP ĐẠP GIÓ RẼ SÓNG ｜ NEW VERSION PIANO - DRUM - TỲ BÀ [qpSKmmSJ794].f140.m4a\n",
      "[download] 100% of    2.93MiB in 00:00:00 at 5.37MiB/s   \n",
      "[Merger] Merging formats into \"THẾ THÁI ｜ HƯƠNG LY ｜ BẢN FULL PHÒNG THU  CHỊ ĐẸP ĐẠP GIÓ RẼ SÓNG ｜ NEW VERSION PIANO - DRUM - TỲ BÀ [qpSKmmSJ794].mp4\"\n",
      "Deleting original file THẾ THÁI ｜ HƯƠNG LY ｜ BẢN FULL PHÒNG THU  CHỊ ĐẸP ĐẠP GIÓ RẼ SÓNG ｜ NEW VERSION PIANO - DRUM - TỲ BÀ [qpSKmmSJ794].f140.m4a (pass -k to keep)\n",
      "Deleting original file THẾ THÁI ｜ HƯƠNG LY ｜ BẢN FULL PHÒNG THU  CHỊ ĐẸP ĐẠP GIÓ RẼ SÓNG ｜ NEW VERSION PIANO - DRUM - TỲ BÀ [qpSKmmSJ794].f628.mp4 (pass -k to keep)\n",
      "https://www.youtube.com/watch?v=uj1qdsfJ2-U\n",
      "Mối Tình Không Tên - Đình Nguyễn x Lê Chí Trung | Hương Ly Cover\n",
      "[youtube] Extracting URL: https://www.youtube.com/watch?v=uj1qdsfJ2-U\n",
      "[youtube] uj1qdsfJ2-U: Downloading webpage\n",
      "[youtube] uj1qdsfJ2-U: Downloading ios player API JSON\n",
      "[youtube] uj1qdsfJ2-U: Downloading player 4e23410d\n"
     ]
    },
    {
     "name": "stderr",
     "output_type": "stream",
     "text": [
      "WARNING: [youtube] uj1qdsfJ2-U: nsig extraction failed: Some formats may be missing\n",
      "         n = XVCICyQ1Qsz_lj1OH ; player = https://www.youtube.com/s/player/4e23410d/player_ias.vflset/en_US/base.js\n",
      "WARNING: [youtube] uj1qdsfJ2-U: nsig extraction failed: Some formats may be missing\n",
      "         n = TKUzXxCPEnp7_kdTs ; player = https://www.youtube.com/s/player/4e23410d/player_ias.vflset/en_US/base.js\n"
     ]
    },
    {
     "name": "stdout",
     "output_type": "stream",
     "text": [
      "[youtube] uj1qdsfJ2-U: Downloading m3u8 information\n",
      "[info] uj1qdsfJ2-U: Downloading 1 format(s): 625+140\n",
      "[hlsnative] Downloading m3u8 manifest\n",
      "[hlsnative] Total fragments: 65\n",
      "[download] Destination: Mối Tình Không Tên - Đình Nguyễn x Lê Chí Trung ｜ Hương Ly Cover [uj1qdsfJ2-U].f625.mp4\n",
      "[download] 100% of  363.54MiB in 00:01:00 at 5.98MiB/s                  \n",
      "[download] Destination: Mối Tình Không Tên - Đình Nguyễn x Lê Chí Trung ｜ Hương Ly Cover [uj1qdsfJ2-U].f140.m4a\n",
      "[download] 100% of    4.99MiB in 00:00:00 at 10.26MiB/s  \n",
      "[Merger] Merging formats into \"Mối Tình Không Tên - Đình Nguyễn x Lê Chí Trung ｜ Hương Ly Cover [uj1qdsfJ2-U].mp4\"\n",
      "Deleting original file Mối Tình Không Tên - Đình Nguyễn x Lê Chí Trung ｜ Hương Ly Cover [uj1qdsfJ2-U].f140.m4a (pass -k to keep)\n",
      "Deleting original file Mối Tình Không Tên - Đình Nguyễn x Lê Chí Trung ｜ Hương Ly Cover [uj1qdsfJ2-U].f625.mp4 (pass -k to keep)\n",
      "https://www.youtube.com/watch?v=7Ro4urF9ILQ\n",
      "TRỞ THÀNH PHU THÊ - HƯƠNG LY - KARAOKE BEAT GỐC | Mai này chỉ ước là..Tình phu thê muôn kiếp vẫn còn\n",
      "[youtube] Extracting URL: https://www.youtube.com/watch?v=7Ro4urF9ILQ\n",
      "[youtube] 7Ro4urF9ILQ: Downloading webpage\n",
      "[youtube] 7Ro4urF9ILQ: Downloading ios player API JSON\n",
      "[youtube] 7Ro4urF9ILQ: Downloading player 4e23410d\n"
     ]
    },
    {
     "name": "stderr",
     "output_type": "stream",
     "text": [
      "WARNING: [youtube] 7Ro4urF9ILQ: nsig extraction failed: Some formats may be missing\n",
      "         n = bek9NuYaUpKeMD2aZ ; player = https://www.youtube.com/s/player/4e23410d/player_ias.vflset/en_US/base.js\n",
      "WARNING: [youtube] 7Ro4urF9ILQ: nsig extraction failed: Some formats may be missing\n",
      "         n = Wuz-sLX2MjwqgOg_P ; player = https://www.youtube.com/s/player/4e23410d/player_ias.vflset/en_US/base.js\n"
     ]
    },
    {
     "name": "stdout",
     "output_type": "stream",
     "text": [
      "[youtube] 7Ro4urF9ILQ: Downloading m3u8 information\n",
      "[info] 7Ro4urF9ILQ: Downloading 1 format(s): 614+140\n",
      "[hlsnative] Downloading m3u8 manifest\n",
      "[hlsnative] Total fragments: 39\n",
      "[download] Destination: TRỞ THÀNH PHU THÊ - HƯƠNG LY - KARAOKE BEAT GỐC ｜ Mai này chỉ ước là..Tình phu thê muôn kiếp vẫn còn [7Ro4urF9ILQ].f614.mp4\n",
      "[download] 100% of   34.67MiB in 00:00:07 at 4.39MiB/s                  \n",
      "[download] Destination: TRỞ THÀNH PHU THÊ - HƯƠNG LY - KARAOKE BEAT GỐC ｜ Mai này chỉ ước là..Tình phu thê muôn kiếp vẫn còn [7Ro4urF9ILQ].f140.m4a\n",
      "[download] 100% of    2.93MiB in 00:00:01 at 2.54MiB/s   \n",
      "[Merger] Merging formats into \"TRỞ THÀNH PHU THÊ - HƯƠNG LY - KARAOKE BEAT GỐC ｜ Mai này chỉ ước là..Tình phu thê muôn kiếp vẫn còn [7Ro4urF9ILQ].mp4\"\n",
      "Deleting original file TRỞ THÀNH PHU THÊ - HƯƠNG LY - KARAOKE BEAT GỐC ｜ Mai này chỉ ước là..Tình phu thê muôn kiếp vẫn còn [7Ro4urF9ILQ].f614.mp4 (pass -k to keep)\n",
      "Deleting original file TRỞ THÀNH PHU THÊ - HƯƠNG LY - KARAOKE BEAT GỐC ｜ Mai này chỉ ước là..Tình phu thê muôn kiếp vẫn còn [7Ro4urF9ILQ].f140.m4a (pass -k to keep)\n",
      "https://www.youtube.com/watch?v=D6wSuo7CqAI\n",
      "Lạnh Lẽo (凉凉) - Hương Ly | Nhạc Hoa Lời Việt | OST Tam Sinh Tam Thế | Official Music Video\n",
      "[youtube] Extracting URL: https://www.youtube.com/watch?v=D6wSuo7CqAI\n",
      "[youtube] D6wSuo7CqAI: Downloading webpage\n",
      "[youtube] D6wSuo7CqAI: Downloading ios player API JSON\n",
      "[youtube] D6wSuo7CqAI: Downloading player 4e23410d\n"
     ]
    },
    {
     "name": "stderr",
     "output_type": "stream",
     "text": [
      "WARNING: [youtube] D6wSuo7CqAI: nsig extraction failed: Some formats may be missing\n",
      "         n = 3JxiTyjxSCYQ8Ya7- ; player = https://www.youtube.com/s/player/4e23410d/player_ias.vflset/en_US/base.js\n",
      "WARNING: [youtube] D6wSuo7CqAI: nsig extraction failed: Some formats may be missing\n",
      "         n = o3chgNc8E5TBXUaIq ; player = https://www.youtube.com/s/player/4e23410d/player_ias.vflset/en_US/base.js\n"
     ]
    },
    {
     "name": "stdout",
     "output_type": "stream",
     "text": [
      "[youtube] D6wSuo7CqAI: Downloading m3u8 information\n",
      "[info] D6wSuo7CqAI: Downloading 1 format(s): 625+140\n",
      "[hlsnative] Downloading m3u8 manifest\n",
      "[hlsnative] Total fragments: 53\n",
      "[download] Destination: Lạnh Lẽo (凉凉) - Hương Ly ｜ Nhạc Hoa Lời Việt ｜ OST Tam Sinh Tam Thế ｜ Official Music Video [D6wSuo7CqAI].f625.mp4\n",
      "[download] 100% of  177.45MiB in 00:01:17 at 2.30MiB/s                  \n",
      "[download] Destination: Lạnh Lẽo (凉凉) - Hương Ly ｜ Nhạc Hoa Lời Việt ｜ OST Tam Sinh Tam Thế ｜ Official Music Video [D6wSuo7CqAI].f140.m4a\n",
      "[download] 100% of    4.27MiB in 00:00:03 at 1.29MiB/s   \n",
      "[Merger] Merging formats into \"Lạnh Lẽo (凉凉) - Hương Ly ｜ Nhạc Hoa Lời Việt ｜ OST Tam Sinh Tam Thế ｜ Official Music Video [D6wSuo7CqAI].mp4\"\n",
      "Deleting original file Lạnh Lẽo (凉凉) - Hương Ly ｜ Nhạc Hoa Lời Việt ｜ OST Tam Sinh Tam Thế ｜ Official Music Video [D6wSuo7CqAI].f140.m4a (pass -k to keep)\n",
      "Deleting original file Lạnh Lẽo (凉凉) - Hương Ly ｜ Nhạc Hoa Lời Việt ｜ OST Tam Sinh Tam Thế ｜ Official Music Video [D6wSuo7CqAI].f625.mp4 (pass -k to keep)\n",
      "https://www.youtube.com/watch?v=2Qq8dEXac4A\n",
      "TRỞ THÀNH PHU THÊ | HƯƠNG LY | OFFICIAL MV LYRIC | Mai này chỉ ước là... Tình phu thê muôn kiếp...\n",
      "[youtube] Extracting URL: https://www.youtube.com/watch?v=2Qq8dEXac4A\n",
      "[youtube] 2Qq8dEXac4A: Downloading webpage\n",
      "[youtube] 2Qq8dEXac4A: Downloading ios player API JSON\n",
      "[youtube] 2Qq8dEXac4A: Downloading player 4e23410d\n"
     ]
    },
    {
     "name": "stderr",
     "output_type": "stream",
     "text": [
      "WARNING: [youtube] 2Qq8dEXac4A: nsig extraction failed: Some formats may be missing\n",
      "         n = ENfMb4eb2gZDI0weV ; player = https://www.youtube.com/s/player/4e23410d/player_ias.vflset/en_US/base.js\n",
      "WARNING: [youtube] 2Qq8dEXac4A: nsig extraction failed: Some formats may be missing\n",
      "         n = UrzSPQ95Bel-QSPWV ; player = https://www.youtube.com/s/player/4e23410d/player_ias.vflset/en_US/base.js\n"
     ]
    },
    {
     "name": "stdout",
     "output_type": "stream",
     "text": [
      "[youtube] 2Qq8dEXac4A: Downloading m3u8 information\n",
      "[info] 2Qq8dEXac4A: Downloading 1 format(s): 616+140\n",
      "[hlsnative] Downloading m3u8 manifest\n",
      "[hlsnative] Total fragments: 32\n",
      "[download] Destination: TRỞ THÀNH PHU THÊ ｜ HƯƠNG LY ｜ OFFICIAL MV LYRIC ｜ Mai này chỉ ước là... Tình phu thê muôn kiếp... [2Qq8dEXac4A].f616.mp4\n",
      "[download] 100% of   90.37MiB in 00:00:49 at 1.81MiB/s                 \n",
      "[download] Destination: TRỞ THÀNH PHU THÊ ｜ HƯƠNG LY ｜ OFFICIAL MV LYRIC ｜ Mai này chỉ ước là... Tình phu thê muôn kiếp... [2Qq8dEXac4A].f140.m4a\n",
      "[download] 100% of    2.93MiB in 00:00:00 at 7.45MiB/s   \n",
      "[Merger] Merging formats into \"TRỞ THÀNH PHU THÊ ｜ HƯƠNG LY ｜ OFFICIAL MV LYRIC ｜ Mai này chỉ ước là... Tình phu thê muôn kiếp... [2Qq8dEXac4A].mp4\"\n",
      "Deleting original file TRỞ THÀNH PHU THÊ ｜ HƯƠNG LY ｜ OFFICIAL MV LYRIC ｜ Mai này chỉ ước là... Tình phu thê muôn kiếp... [2Qq8dEXac4A].f616.mp4 (pass -k to keep)\n",
      "Deleting original file TRỞ THÀNH PHU THÊ ｜ HƯƠNG LY ｜ OFFICIAL MV LYRIC ｜ Mai này chỉ ước là... Tình phu thê muôn kiếp... [2Qq8dEXac4A].f140.m4a (pass -k to keep)\n",
      "https://www.youtube.com/watch?v=wLypolis2d4\n",
      "CUNG NỮ l HƯƠNG LY x YUNIBOO l NEW VERSION | LYRIC VIDEO\n",
      "[youtube] Extracting URL: https://www.youtube.com/watch?v=wLypolis2d4\n",
      "[youtube] wLypolis2d4: Downloading webpage\n",
      "[youtube] wLypolis2d4: Downloading ios player API JSON\n",
      "[youtube] wLypolis2d4: Downloading player 4e23410d\n"
     ]
    },
    {
     "name": "stderr",
     "output_type": "stream",
     "text": [
      "WARNING: [youtube] wLypolis2d4: nsig extraction failed: Some formats may be missing\n",
      "         n = jQwcQz5KTf03BhyyE ; player = https://www.youtube.com/s/player/4e23410d/player_ias.vflset/en_US/base.js\n",
      "WARNING: [youtube] wLypolis2d4: nsig extraction failed: Some formats may be missing\n",
      "         n = oNjc59BtVOn7hMkZp ; player = https://www.youtube.com/s/player/4e23410d/player_ias.vflset/en_US/base.js\n"
     ]
    },
    {
     "name": "stdout",
     "output_type": "stream",
     "text": [
      "[youtube] wLypolis2d4: Downloading m3u8 information\n",
      "[info] wLypolis2d4: Downloading 1 format(s): 628+140\n",
      "[hlsnative] Downloading m3u8 manifest\n",
      "[hlsnative] Total fragments: 39\n",
      "[download] Destination: CUNG NỮ l HƯƠNG LY x YUNIBOO l NEW VERSION ｜ LYRIC VIDEO [wLypolis2d4].f628.mp4\n",
      "[download] 100% of  205.05MiB in 00:00:56 at 3.65MiB/s                  \n",
      "[download] Destination: CUNG NỮ l HƯƠNG LY x YUNIBOO l NEW VERSION ｜ LYRIC VIDEO [wLypolis2d4].f140.m4a\n",
      "[download] 100% of    2.95MiB in 00:00:00 at 6.54MiB/s   \n",
      "[Merger] Merging formats into \"CUNG NỮ l HƯƠNG LY x YUNIBOO l NEW VERSION ｜ LYRIC VIDEO [wLypolis2d4].mp4\"\n",
      "Deleting original file CUNG NỮ l HƯƠNG LY x YUNIBOO l NEW VERSION ｜ LYRIC VIDEO [wLypolis2d4].f140.m4a (pass -k to keep)\n",
      "Deleting original file CUNG NỮ l HƯƠNG LY x YUNIBOO l NEW VERSION ｜ LYRIC VIDEO [wLypolis2d4].f628.mp4 (pass -k to keep)\n",
      "https://www.youtube.com/watch?v=8WjB4XhNK2Y\n",
      "THUYỀN KHÔNG ĐỢI BẾN - Hương Ly x Lê Chí Trung | OFFICIAL MV | Bến đợi hoài chẳng thấy thuyền đâu\n",
      "[youtube] Extracting URL: https://www.youtube.com/watch?v=8WjB4XhNK2Y\n",
      "[youtube] 8WjB4XhNK2Y: Downloading webpage\n",
      "[youtube] 8WjB4XhNK2Y: Downloading ios player API JSON\n",
      "[youtube] 8WjB4XhNK2Y: Downloading player 4e23410d\n"
     ]
    },
    {
     "name": "stderr",
     "output_type": "stream",
     "text": [
      "WARNING: [youtube] 8WjB4XhNK2Y: nsig extraction failed: Some formats may be missing\n",
      "         n = EfqJeWABdzIw09J-G ; player = https://www.youtube.com/s/player/4e23410d/player_ias.vflset/en_US/base.js\n",
      "WARNING: [youtube] 8WjB4XhNK2Y: nsig extraction failed: Some formats may be missing\n",
      "         n = rGqxUMJo77YfsJ40w ; player = https://www.youtube.com/s/player/4e23410d/player_ias.vflset/en_US/base.js\n"
     ]
    },
    {
     "name": "stdout",
     "output_type": "stream",
     "text": [
      "[youtube] 8WjB4XhNK2Y: Downloading m3u8 information\n",
      "[info] 8WjB4XhNK2Y: Downloading 1 format(s): 628+140\n",
      "[hlsnative] Downloading m3u8 manifest\n",
      "[hlsnative] Total fragments: 56\n",
      "[download] Destination: THUYỀN KHÔNG ĐỢI BẾN - Hương Ly x Lê Chí Trung ｜ OFFICIAL MV ｜ Bến đợi hoài chẳng thấy thuyền đâu [8WjB4XhNK2Y].f628.mp4\n",
      "[download] 100% of  864.62MiB in 00:03:00 at 4.79MiB/s                 \n",
      "[download] Destination: THUYỀN KHÔNG ĐỢI BẾN - Hương Ly x Lê Chí Trung ｜ OFFICIAL MV ｜ Bến đợi hoài chẳng thấy thuyền đâu [8WjB4XhNK2Y].f140.m4a\n",
      "[download] 100% of    4.32MiB in 00:00:00 at 8.50MiB/s   \n",
      "[Merger] Merging formats into \"THUYỀN KHÔNG ĐỢI BẾN - Hương Ly x Lê Chí Trung ｜ OFFICIAL MV ｜ Bến đợi hoài chẳng thấy thuyền đâu [8WjB4XhNK2Y].mp4\"\n",
      "Deleting original file THUYỀN KHÔNG ĐỢI BẾN - Hương Ly x Lê Chí Trung ｜ OFFICIAL MV ｜ Bến đợi hoài chẳng thấy thuyền đâu [8WjB4XhNK2Y].f628.mp4 (pass -k to keep)\n",
      "Deleting original file THUYỀN KHÔNG ĐỢI BẾN - Hương Ly x Lê Chí Trung ｜ OFFICIAL MV ｜ Bến đợi hoài chẳng thấy thuyền đâu [8WjB4XhNK2Y].f140.m4a (pass -k to keep)\n",
      "https://www.youtube.com/watch?v=JnMLPWA92e4\n",
      "Sau Này Nếu Có Thương Em - Hương Ly | New Version\n",
      "[youtube] Extracting URL: https://www.youtube.com/watch?v=JnMLPWA92e4\n",
      "[youtube] JnMLPWA92e4: Downloading webpage\n",
      "[youtube] JnMLPWA92e4: Downloading ios player API JSON\n",
      "[youtube] JnMLPWA92e4: Downloading player 4e23410d\n"
     ]
    },
    {
     "name": "stderr",
     "output_type": "stream",
     "text": [
      "WARNING: [youtube] JnMLPWA92e4: nsig extraction failed: Some formats may be missing\n",
      "         n = K8vMqkiGeXcJdgucw ; player = https://www.youtube.com/s/player/4e23410d/player_ias.vflset/en_US/base.js\n",
      "WARNING: [youtube] JnMLPWA92e4: nsig extraction failed: Some formats may be missing\n",
      "         n = 1rGcOECOPPJDGUP-k ; player = https://www.youtube.com/s/player/4e23410d/player_ias.vflset/en_US/base.js\n"
     ]
    },
    {
     "name": "stdout",
     "output_type": "stream",
     "text": [
      "[youtube] JnMLPWA92e4: Downloading m3u8 information\n",
      "[info] JnMLPWA92e4: Downloading 1 format(s): 625+140\n",
      "[hlsnative] Downloading m3u8 manifest\n",
      "[hlsnative] Total fragments: 63\n",
      "[download] Destination: Sau Này Nếu Có Thương Em - Hương Ly ｜ New Version [JnMLPWA92e4].f625.mp4\n",
      "[download] 100% of  430.63MiB in 00:01:34 at 4.57MiB/s                  \n",
      "[download] Destination: Sau Này Nếu Có Thương Em - Hương Ly ｜ New Version [JnMLPWA92e4].f140.m4a\n",
      "[download] 100% of    5.44MiB in 00:00:00 at 7.89MiB/s   \n",
      "[Merger] Merging formats into \"Sau Này Nếu Có Thương Em - Hương Ly ｜ New Version [JnMLPWA92e4].mp4\"\n",
      "Deleting original file Sau Này Nếu Có Thương Em - Hương Ly ｜ New Version [JnMLPWA92e4].f140.m4a (pass -k to keep)\n",
      "Deleting original file Sau Này Nếu Có Thương Em - Hương Ly ｜ New Version [JnMLPWA92e4].f625.mp4 (pass -k to keep)\n",
      "https://www.youtube.com/watch?v=4xAv-z8PxnM\n",
      "Hạ Đầu Tam Bái - Hoon, Anh Rồng | Hương Ly Cover | Hạ đầu tam bái nước mắt rơi ...\n",
      "[youtube] Extracting URL: https://www.youtube.com/watch?v=4xAv-z8PxnM\n",
      "[youtube] 4xAv-z8PxnM: Downloading webpage\n",
      "[youtube] 4xAv-z8PxnM: Downloading ios player API JSON\n",
      "[youtube] 4xAv-z8PxnM: Downloading player 4e23410d\n"
     ]
    },
    {
     "name": "stderr",
     "output_type": "stream",
     "text": [
      "WARNING: [youtube] 4xAv-z8PxnM: nsig extraction failed: Some formats may be missing\n",
      "         n = fovWpYAtrLqpERJwJ ; player = https://www.youtube.com/s/player/4e23410d/player_ias.vflset/en_US/base.js\n",
      "WARNING: [youtube] 4xAv-z8PxnM: nsig extraction failed: Some formats may be missing\n",
      "         n = UzO9mWB5dme-tpJIY ; player = https://www.youtube.com/s/player/4e23410d/player_ias.vflset/en_US/base.js\n"
     ]
    },
    {
     "name": "stdout",
     "output_type": "stream",
     "text": [
      "[youtube] 4xAv-z8PxnM: Downloading m3u8 information\n",
      "[info] 4xAv-z8PxnM: Downloading 1 format(s): 625+140\n",
      "[hlsnative] Downloading m3u8 manifest\n",
      "[hlsnative] Total fragments: 39\n",
      "[download] Destination: Hạ Đầu Tam Bái - Hoon, Anh Rồng ｜ Hương Ly Cover ｜ Hạ đầu tam bái nước mắt rơi ... [4xAv-z8PxnM].f625.mp4\n",
      "[download] 100% of  235.27MiB in 00:01:31 at 2.58MiB/s                 \n",
      "[download] Destination: Hạ Đầu Tam Bái - Hoon, Anh Rồng ｜ Hương Ly Cover ｜ Hạ đầu tam bái nước mắt rơi ... [4xAv-z8PxnM].f140.m4a\n",
      "[download] 100% of    3.06MiB in 00:00:01 at 2.01MiB/s   \n",
      "[Merger] Merging formats into \"Hạ Đầu Tam Bái - Hoon, Anh Rồng ｜ Hương Ly Cover ｜ Hạ đầu tam bái nước mắt rơi ... [4xAv-z8PxnM].mp4\"\n",
      "Deleting original file Hạ Đầu Tam Bái - Hoon, Anh Rồng ｜ Hương Ly Cover ｜ Hạ đầu tam bái nước mắt rơi ... [4xAv-z8PxnM].f140.m4a (pass -k to keep)\n",
      "Deleting original file Hạ Đầu Tam Bái - Hoon, Anh Rồng ｜ Hương Ly Cover ｜ Hạ đầu tam bái nước mắt rơi ... [4xAv-z8PxnM].f625.mp4 (pass -k to keep)\n",
      "https://www.youtube.com/watch?v=xgif4J4NFak\n",
      "Quang Hung MasterD - 'NGÀY BIỆT LY (LOSING)' - Hương Ly Cover\n",
      "[youtube] Extracting URL: https://www.youtube.com/watch?v=xgif4J4NFak\n",
      "[youtube] xgif4J4NFak: Downloading webpage\n",
      "[youtube] xgif4J4NFak: Downloading ios player API JSON\n",
      "[youtube] xgif4J4NFak: Downloading player 4e23410d\n"
     ]
    },
    {
     "name": "stderr",
     "output_type": "stream",
     "text": [
      "WARNING: [youtube] xgif4J4NFak: nsig extraction failed: Some formats may be missing\n",
      "         n = rARZMOwBDfr9I1g_k ; player = https://www.youtube.com/s/player/4e23410d/player_ias.vflset/en_US/base.js\n",
      "WARNING: [youtube] xgif4J4NFak: nsig extraction failed: Some formats may be missing\n",
      "         n = aDFkA0j0ZF9PdzgHu ; player = https://www.youtube.com/s/player/4e23410d/player_ias.vflset/en_US/base.js\n"
     ]
    },
    {
     "name": "stdout",
     "output_type": "stream",
     "text": [
      "[youtube] xgif4J4NFak: Downloading m3u8 information\n",
      "[info] xgif4J4NFak: Downloading 1 format(s): 625+140\n",
      "[hlsnative] Downloading m3u8 manifest\n",
      "[hlsnative] Total fragments: 62\n",
      "[download] Destination: Quang Hung MasterD - 'NGÀY BIỆT LY (LOSING)' - Hương Ly Cover [xgif4J4NFak].f625.mp4\n",
      "[download] 100% of  604.56MiB in 00:04:20 at 2.32MiB/s                    \n",
      "[download] Destination: Quang Hung MasterD - 'NGÀY BIỆT LY (LOSING)' - Hương Ly Cover [xgif4J4NFak].f140.m4a\n",
      "[download] 100% of    5.09MiB in 00:00:00 at 8.45MiB/s   \n",
      "[Merger] Merging formats into \"Quang Hung MasterD - 'NGÀY BIỆT LY (LOSING)' - Hương Ly Cover [xgif4J4NFak].mp4\"\n",
      "Deleting original file Quang Hung MasterD - 'NGÀY BIỆT LY (LOSING)' - Hương Ly Cover [xgif4J4NFak].f140.m4a (pass -k to keep)\n",
      "Deleting original file Quang Hung MasterD - 'NGÀY BIỆT LY (LOSING)' - Hương Ly Cover [xgif4J4NFak].f625.mp4 (pass -k to keep)\n",
      "https://www.youtube.com/watch?v=FsOlFpTMEzA\n",
      "ĐÙA HƠI QUÁ - LÊ BẢO BÌNH | HƯƠNG LY COVER | Một khi nỗi nhớ em biến thành giải ngân hà\n",
      "[youtube] Extracting URL: https://www.youtube.com/watch?v=FsOlFpTMEzA\n",
      "[youtube] FsOlFpTMEzA: Downloading webpage\n",
      "[youtube] FsOlFpTMEzA: Downloading ios player API JSON\n",
      "[youtube] FsOlFpTMEzA: Downloading player 4e23410d\n"
     ]
    },
    {
     "name": "stderr",
     "output_type": "stream",
     "text": [
      "WARNING: [youtube] FsOlFpTMEzA: nsig extraction failed: Some formats may be missing\n",
      "         n = Oth5ormpxwbHkMzdD ; player = https://www.youtube.com/s/player/4e23410d/player_ias.vflset/en_US/base.js\n",
      "WARNING: [youtube] FsOlFpTMEzA: nsig extraction failed: Some formats may be missing\n",
      "         n = sofFylQNrTSPwfZDt ; player = https://www.youtube.com/s/player/4e23410d/player_ias.vflset/en_US/base.js\n"
     ]
    },
    {
     "name": "stdout",
     "output_type": "stream",
     "text": [
      "[youtube] FsOlFpTMEzA: Downloading m3u8 information\n",
      "[info] FsOlFpTMEzA: Downloading 1 format(s): 625+140\n",
      "[hlsnative] Downloading m3u8 manifest\n",
      "[hlsnative] Total fragments: 47\n",
      "[download] Destination: ĐÙA HƠI QUÁ - LÊ BẢO BÌNH ｜ HƯƠNG LY COVER ｜ Một khi nỗi nhớ em biến thành giải ngân hà [FsOlFpTMEzA].f625.mp4\n",
      "[download] 100% of  301.13MiB in 00:01:14 at 4.03MiB/s                  \n",
      "[download] Destination: ĐÙA HƠI QUÁ - LÊ BẢO BÌNH ｜ HƯƠNG LY COVER ｜ Một khi nỗi nhớ em biến thành giải ngân hà [FsOlFpTMEzA].f140.m4a\n",
      "[download] 100% of    3.95MiB in 00:00:01 at 3.33MiB/s     \n",
      "[Merger] Merging formats into \"ĐÙA HƠI QUÁ - LÊ BẢO BÌNH ｜ HƯƠNG LY COVER ｜ Một khi nỗi nhớ em biến thành giải ngân hà [FsOlFpTMEzA].mp4\"\n",
      "Deleting original file ĐÙA HƠI QUÁ - LÊ BẢO BÌNH ｜ HƯƠNG LY COVER ｜ Một khi nỗi nhớ em biến thành giải ngân hà [FsOlFpTMEzA].f625.mp4 (pass -k to keep)\n",
      "Deleting original file ĐÙA HƠI QUÁ - LÊ BẢO BÌNH ｜ HƯƠNG LY COVER ｜ Một khi nỗi nhớ em biến thành giải ngân hà [FsOlFpTMEzA].f140.m4a (pass -k to keep)\n",
      "https://www.youtube.com/watch?v=xKQJK-Uw6dM\n",
      "ĐỪNG KHÓC MỘT MÌNH - Quang Hùng MasterD | Hương Ly | Đừng khóc một mình em ơi ...\n",
      "[youtube] Extracting URL: https://www.youtube.com/watch?v=xKQJK-Uw6dM\n",
      "[youtube] xKQJK-Uw6dM: Downloading webpage\n",
      "[youtube] xKQJK-Uw6dM: Downloading ios player API JSON\n",
      "[youtube] xKQJK-Uw6dM: Downloading player 4e23410d\n"
     ]
    },
    {
     "name": "stderr",
     "output_type": "stream",
     "text": [
      "WARNING: [youtube] xKQJK-Uw6dM: nsig extraction failed: Some formats may be missing\n",
      "         n = dEsctzHA4mpuzdWMU ; player = https://www.youtube.com/s/player/4e23410d/player_ias.vflset/en_US/base.js\n",
      "WARNING: [youtube] xKQJK-Uw6dM: nsig extraction failed: Some formats may be missing\n",
      "         n = _WNadMit4lP6k73lH ; player = https://www.youtube.com/s/player/4e23410d/player_ias.vflset/en_US/base.js\n"
     ]
    },
    {
     "name": "stdout",
     "output_type": "stream",
     "text": [
      "[youtube] xKQJK-Uw6dM: Downloading m3u8 information\n",
      "[info] xKQJK-Uw6dM: Downloading 1 format(s): 616+140\n",
      "[hlsnative] Downloading m3u8 manifest\n",
      "[hlsnative] Total fragments: 40\n",
      "[download] Destination: ĐỪNG KHÓC MỘT MÌNH - Quang Hùng MasterD ｜ Hương Ly ｜ Đừng khóc một mình em ơi ... [xKQJK-Uw6dM].f616.mp4\n",
      "[download] 100% of   50.07MiB in 00:00:46 at 1.07MiB/s                  \n",
      "[download] Destination: ĐỪNG KHÓC MỘT MÌNH - Quang Hùng MasterD ｜ Hương Ly ｜ Đừng khóc một mình em ơi ... [xKQJK-Uw6dM].f140.m4a\n",
      "[download] 100% of    3.33MiB in 00:00:00 at 7.07MiB/s   \n",
      "[Merger] Merging formats into \"ĐỪNG KHÓC MỘT MÌNH - Quang Hùng MasterD ｜ Hương Ly ｜ Đừng khóc một mình em ơi ... [xKQJK-Uw6dM].mp4\"\n",
      "Deleting original file ĐỪNG KHÓC MỘT MÌNH - Quang Hùng MasterD ｜ Hương Ly ｜ Đừng khóc một mình em ơi ... [xKQJK-Uw6dM].f616.mp4 (pass -k to keep)\n",
      "Deleting original file ĐỪNG KHÓC MỘT MÌNH - Quang Hùng MasterD ｜ Hương Ly ｜ Đừng khóc một mình em ơi ... [xKQJK-Uw6dM].f140.m4a (pass -k to keep)\n",
      "https://www.youtube.com/watch?v=UhPaKmJI8Rc\n",
      "THUYỀN KHÔNG ĐỢI BẾN | Hương Ly x Lê Chí Trung | MV TEASER\n",
      "[youtube] Extracting URL: https://www.youtube.com/watch?v=UhPaKmJI8Rc\n",
      "[youtube] UhPaKmJI8Rc: Downloading webpage\n",
      "[youtube] UhPaKmJI8Rc: Downloading ios player API JSON\n",
      "[youtube] UhPaKmJI8Rc: Downloading player 4e23410d\n"
     ]
    },
    {
     "name": "stderr",
     "output_type": "stream",
     "text": [
      "WARNING: [youtube] UhPaKmJI8Rc: nsig extraction failed: Some formats may be missing\n",
      "         n = Dcoh6ttoVaH6Lle6F ; player = https://www.youtube.com/s/player/4e23410d/player_ias.vflset/en_US/base.js\n",
      "WARNING: [youtube] UhPaKmJI8Rc: nsig extraction failed: Some formats may be missing\n",
      "         n = VWeR2Rb4K1LkjHtpi ; player = https://www.youtube.com/s/player/4e23410d/player_ias.vflset/en_US/base.js\n"
     ]
    },
    {
     "name": "stdout",
     "output_type": "stream",
     "text": [
      "[youtube] UhPaKmJI8Rc: Downloading m3u8 information\n",
      "[info] UhPaKmJI8Rc: Downloading 1 format(s): 628+140\n",
      "[hlsnative] Downloading m3u8 manifest\n",
      "[hlsnative] Total fragments: 9\n",
      "[download] Destination: THUYỀN KHÔNG ĐỢI BẾN ｜ Hương Ly x Lê Chí Trung ｜ MV TEASER [UhPaKmJI8Rc].f628.mp4\n",
      "[download] 100% of   57.12MiB in 00:00:44 at 1.27MiB/s                 \n",
      "[download] Destination: THUYỀN KHÔNG ĐỢI BẾN ｜ Hương Ly x Lê Chí Trung ｜ MV TEASER [UhPaKmJI8Rc].f140.m4a\n",
      "[download] 100% of  673.75KiB in 00:00:00 at 884.20KiB/s \n",
      "[Merger] Merging formats into \"THUYỀN KHÔNG ĐỢI BẾN ｜ Hương Ly x Lê Chí Trung ｜ MV TEASER [UhPaKmJI8Rc].mp4\"\n",
      "Deleting original file THUYỀN KHÔNG ĐỢI BẾN ｜ Hương Ly x Lê Chí Trung ｜ MV TEASER [UhPaKmJI8Rc].f140.m4a (pass -k to keep)\n",
      "Deleting original file THUYỀN KHÔNG ĐỢI BẾN ｜ Hương Ly x Lê Chí Trung ｜ MV TEASER [UhPaKmJI8Rc].f628.mp4 (pass -k to keep)\n",
      "https://www.youtube.com/watch?v=uOe8eASDtmg\n",
      "Thật Ra Em Chẳng Thương Anh Vậy Đâu - Nguyenn x Đặng Tuấn Vũ | Hương Ly Cover | #TRECTAVD\n",
      "[youtube] Extracting URL: https://www.youtube.com/watch?v=uOe8eASDtmg\n",
      "[youtube] uOe8eASDtmg: Downloading webpage\n",
      "[youtube] uOe8eASDtmg: Downloading ios player API JSON\n",
      "[youtube] uOe8eASDtmg: Downloading player 4e23410d\n"
     ]
    },
    {
     "name": "stderr",
     "output_type": "stream",
     "text": [
      "WARNING: [youtube] uOe8eASDtmg: nsig extraction failed: Some formats may be missing\n",
      "         n = cYFvZEKCFiQMUiVA_ ; player = https://www.youtube.com/s/player/4e23410d/player_ias.vflset/en_US/base.js\n",
      "WARNING: [youtube] uOe8eASDtmg: nsig extraction failed: Some formats may be missing\n",
      "         n = sPUxbvEWQzm9b22_5 ; player = https://www.youtube.com/s/player/4e23410d/player_ias.vflset/en_US/base.js\n"
     ]
    },
    {
     "name": "stdout",
     "output_type": "stream",
     "text": [
      "[youtube] uOe8eASDtmg: Downloading m3u8 information\n",
      "[info] uOe8eASDtmg: Downloading 1 format(s): 625+140\n",
      "[hlsnative] Downloading m3u8 manifest\n",
      "[hlsnative] Total fragments: 71\n",
      "[download] Destination: Thật Ra Em Chẳng Thương Anh Vậy Đâu - Nguyenn x Đặng Tuấn Vũ ｜ Hương Ly Cover ｜ #TRECTAVD [uOe8eASDtmg].f625.mp4\n",
      "[download] 100% of  362.53MiB in 00:02:09 at 2.81MiB/s                 \n",
      "[download] Destination: Thật Ra Em Chẳng Thương Anh Vậy Đâu - Nguyenn x Đặng Tuấn Vũ ｜ Hương Ly Cover ｜ #TRECTAVD [uOe8eASDtmg].f140.m4a\n",
      "[download] 100% of    5.75MiB in 00:00:00 at 5.78MiB/s   \n",
      "[Merger] Merging formats into \"Thật Ra Em Chẳng Thương Anh Vậy Đâu - Nguyenn x Đặng Tuấn Vũ ｜ Hương Ly Cover ｜ #TRECTAVD [uOe8eASDtmg].mp4\"\n",
      "Deleting original file Thật Ra Em Chẳng Thương Anh Vậy Đâu - Nguyenn x Đặng Tuấn Vũ ｜ Hương Ly Cover ｜ #TRECTAVD [uOe8eASDtmg].f140.m4a (pass -k to keep)\n",
      "Deleting original file Thật Ra Em Chẳng Thương Anh Vậy Đâu - Nguyenn x Đặng Tuấn Vũ ｜ Hương Ly Cover ｜ #TRECTAVD [uOe8eASDtmg].f625.mp4 (pass -k to keep)\n",
      "https://www.youtube.com/watch?v=uKwnKDfVyTc\n",
      "Nguyện Yêu (Nhạc Hoa Lời Việt) | Hương Ly | Karaoke Beat Hạ Tone\n",
      "[youtube] Extracting URL: https://www.youtube.com/watch?v=uKwnKDfVyTc\n",
      "[youtube] uKwnKDfVyTc: Downloading webpage\n",
      "[youtube] uKwnKDfVyTc: Downloading ios player API JSON\n",
      "[youtube] uKwnKDfVyTc: Downloading player 4e23410d\n"
     ]
    },
    {
     "name": "stderr",
     "output_type": "stream",
     "text": [
      "WARNING: [youtube] uKwnKDfVyTc: nsig extraction failed: Some formats may be missing\n",
      "         n = VkGQwMhgVKmrLp_53 ; player = https://www.youtube.com/s/player/4e23410d/player_ias.vflset/en_US/base.js\n",
      "WARNING: [youtube] uKwnKDfVyTc: nsig extraction failed: Some formats may be missing\n",
      "         n = HsG93fQwsuco5ZrP_ ; player = https://www.youtube.com/s/player/4e23410d/player_ias.vflset/en_US/base.js\n"
     ]
    },
    {
     "name": "stdout",
     "output_type": "stream",
     "text": [
      "[youtube] uKwnKDfVyTc: Downloading m3u8 information\n",
      "[info] uKwnKDfVyTc: Downloading 1 format(s): 625+140\n",
      "[hlsnative] Downloading m3u8 manifest\n",
      "[hlsnative] Total fragments: 56\n",
      "[download] Destination: Nguyện Yêu (Nhạc Hoa Lời Việt) ｜ Hương Ly ｜ Karaoke Beat Hạ Tone [uKwnKDfVyTc].f625.mp4\n",
      "[download] 100% of  368.80MiB in 00:03:30 at 1.76MiB/s                    \n",
      "[download] Destination: Nguyện Yêu (Nhạc Hoa Lời Việt) ｜ Hương Ly ｜ Karaoke Beat Hạ Tone [uKwnKDfVyTc].f140.m4a\n",
      "[download] 100% of    4.22MiB in 00:00:01 at 2.30MiB/s   \n",
      "[Merger] Merging formats into \"Nguyện Yêu (Nhạc Hoa Lời Việt) ｜ Hương Ly ｜ Karaoke Beat Hạ Tone [uKwnKDfVyTc].mp4\"\n",
      "Deleting original file Nguyện Yêu (Nhạc Hoa Lời Việt) ｜ Hương Ly ｜ Karaoke Beat Hạ Tone [uKwnKDfVyTc].f625.mp4 (pass -k to keep)\n",
      "Deleting original file Nguyện Yêu (Nhạc Hoa Lời Việt) ｜ Hương Ly ｜ Karaoke Beat Hạ Tone [uKwnKDfVyTc].f140.m4a (pass -k to keep)\n",
      "https://www.youtube.com/watch?v=1R1fYOb5hiU\n",
      "Nguyện Yêu (Nhạc Hoa Lời Việt) | Hương Ly | Official Music Video\n",
      "[youtube] Extracting URL: https://www.youtube.com/watch?v=1R1fYOb5hiU\n",
      "[youtube] 1R1fYOb5hiU: Downloading webpage\n",
      "[youtube] 1R1fYOb5hiU: Downloading ios player API JSON\n",
      "[youtube] 1R1fYOb5hiU: Downloading player 4e23410d\n"
     ]
    },
    {
     "name": "stderr",
     "output_type": "stream",
     "text": [
      "WARNING: [youtube] 1R1fYOb5hiU: nsig extraction failed: Some formats may be missing\n",
      "         n = m9aG0ey8RE3hGo3jR ; player = https://www.youtube.com/s/player/4e23410d/player_ias.vflset/en_US/base.js\n",
      "WARNING: [youtube] 1R1fYOb5hiU: nsig extraction failed: Some formats may be missing\n",
      "         n = redZ-9zk2QMz3gOCu ; player = https://www.youtube.com/s/player/4e23410d/player_ias.vflset/en_US/base.js\n"
     ]
    },
    {
     "name": "stdout",
     "output_type": "stream",
     "text": [
      "[youtube] 1R1fYOb5hiU: Downloading m3u8 information\n",
      "[info] 1R1fYOb5hiU: Downloading 1 format(s): 628+140\n",
      "[hlsnative] Downloading m3u8 manifest\n",
      "[hlsnative] Total fragments: 50\n",
      "[download] Destination: Nguyện Yêu (Nhạc Hoa Lời Việt) ｜ Hương Ly ｜ Official Music Video [1R1fYOb5hiU].f628.mp4\n",
      "[download] 100% of  776.86MiB in 00:05:49 at 2.22MiB/s                   \n",
      "[download] Destination: Nguyện Yêu (Nhạc Hoa Lời Việt) ｜ Hương Ly ｜ Official Music Video [1R1fYOb5hiU].f140.m4a\n",
      "[download] 100% of    4.00MiB in 00:00:01 at 2.04MiB/s   \n",
      "[Merger] Merging formats into \"Nguyện Yêu (Nhạc Hoa Lời Việt) ｜ Hương Ly ｜ Official Music Video [1R1fYOb5hiU].mp4\"\n",
      "Deleting original file Nguyện Yêu (Nhạc Hoa Lời Việt) ｜ Hương Ly ｜ Official Music Video [1R1fYOb5hiU].f628.mp4 (pass -k to keep)\n",
      "Deleting original file Nguyện Yêu (Nhạc Hoa Lời Việt) ｜ Hương Ly ｜ Official Music Video [1R1fYOb5hiU].f140.m4a (pass -k to keep)\n",
      "https://www.youtube.com/watch?v=fDOxbiM1mdQ\n",
      "Hẹn Em Ở Lần Yêu Thứ 2 | Nguyenn x Đặng Tuấn Vũ l Hương Ly Cover | Anh phải làm gì để em đừng nghĩ…\n",
      "[youtube] Extracting URL: https://www.youtube.com/watch?v=fDOxbiM1mdQ\n",
      "[youtube] fDOxbiM1mdQ: Downloading webpage\n",
      "[youtube] fDOxbiM1mdQ: Downloading ios player API JSON\n",
      "[youtube] fDOxbiM1mdQ: Downloading player 4e23410d\n"
     ]
    },
    {
     "name": "stderr",
     "output_type": "stream",
     "text": [
      "WARNING: [youtube] fDOxbiM1mdQ: nsig extraction failed: Some formats may be missing\n",
      "         n = -d5obzCnnLFYEkmjI ; player = https://www.youtube.com/s/player/4e23410d/player_ias.vflset/en_US/base.js\n",
      "WARNING: [youtube] fDOxbiM1mdQ: nsig extraction failed: Some formats may be missing\n",
      "         n = iMHD5Lt2Fjvq9UXjJ ; player = https://www.youtube.com/s/player/4e23410d/player_ias.vflset/en_US/base.js\n"
     ]
    },
    {
     "name": "stdout",
     "output_type": "stream",
     "text": [
      "[youtube] fDOxbiM1mdQ: Downloading m3u8 information\n",
      "[info] fDOxbiM1mdQ: Downloading 1 format(s): 625+140\n",
      "[hlsnative] Downloading m3u8 manifest\n",
      "[hlsnative] Total fragments: 71\n",
      "[download] Destination: Hẹn Em Ở Lần Yêu Thứ 2 ｜ Nguyenn x Đặng Tuấn Vũ l Hương Ly Cover ｜ Anh phải làm gì để em đừng nghĩ… [fDOxbiM1mdQ].f625.mp4\n",
      "[download] 100% of  291.18MiB in 00:01:42 at 2.84MiB/s                   \n",
      "[download] Destination: Hẹn Em Ở Lần Yêu Thứ 2 ｜ Nguyenn x Đặng Tuấn Vũ l Hương Ly Cover ｜ Anh phải làm gì để em đừng nghĩ… [fDOxbiM1mdQ].f140.m4a\n",
      "[download] 100% of    5.52MiB in 00:00:01 at 5.16MiB/s   \n",
      "[Merger] Merging formats into \"Hẹn Em Ở Lần Yêu Thứ 2 ｜ Nguyenn x Đặng Tuấn Vũ l Hương Ly Cover ｜ Anh phải làm gì để em đừng nghĩ… [fDOxbiM1mdQ].mp4\"\n",
      "Deleting original file Hẹn Em Ở Lần Yêu Thứ 2 ｜ Nguyenn x Đặng Tuấn Vũ l Hương Ly Cover ｜ Anh phải làm gì để em đừng nghĩ… [fDOxbiM1mdQ].f625.mp4 (pass -k to keep)\n",
      "Deleting original file Hẹn Em Ở Lần Yêu Thứ 2 ｜ Nguyenn x Đặng Tuấn Vũ l Hương Ly Cover ｜ Anh phải làm gì để em đừng nghĩ… [fDOxbiM1mdQ].f140.m4a (pass -k to keep)\n",
      "https://www.youtube.com/watch?v=2-m0XaNWLBM\n",
      "Mẹ Đơn Thân (Cover) - Hương Ly |KHÁNH TRUNG x LÊ CHÍ TRUNG| - Em mang phận là thiếu nữ, thân em chịu\n",
      "[youtube] Extracting URL: https://www.youtube.com/watch?v=2-m0XaNWLBM\n",
      "[youtube] 2-m0XaNWLBM: Downloading webpage\n",
      "[youtube] 2-m0XaNWLBM: Downloading ios player API JSON\n",
      "[youtube] 2-m0XaNWLBM: Downloading player 4e23410d\n"
     ]
    },
    {
     "name": "stderr",
     "output_type": "stream",
     "text": [
      "WARNING: [youtube] 2-m0XaNWLBM: nsig extraction failed: Some formats may be missing\n",
      "         n = iL5f_dxzbHy_CATyD ; player = https://www.youtube.com/s/player/4e23410d/player_ias.vflset/en_US/base.js\n",
      "WARNING: [youtube] 2-m0XaNWLBM: nsig extraction failed: Some formats may be missing\n",
      "         n = Vm-yNEug2VXkFVDtx ; player = https://www.youtube.com/s/player/4e23410d/player_ias.vflset/en_US/base.js\n"
     ]
    },
    {
     "name": "stdout",
     "output_type": "stream",
     "text": [
      "[youtube] 2-m0XaNWLBM: Downloading m3u8 information\n",
      "[info] 2-m0XaNWLBM: Downloading 1 format(s): 625+140\n",
      "[hlsnative] Downloading m3u8 manifest\n",
      "[hlsnative] Total fragments: 50\n",
      "[download] Destination: Mẹ Đơn Thân (Cover) - Hương Ly ｜KHÁNH TRUNG x LÊ CHÍ TRUNG｜ - Em mang phận là thiếu nữ, thân em chịu [2-m0XaNWLBM].f625.mp4\n",
      "[download] 100% of  320.06MiB in 00:03:07 at 1.71MiB/s                  \n",
      "[download] Destination: Mẹ Đơn Thân (Cover) - Hương Ly ｜KHÁNH TRUNG x LÊ CHÍ TRUNG｜ - Em mang phận là thiếu nữ, thân em chịu [2-m0XaNWLBM].f140.m4a\n",
      "[download] 100% of    4.21MiB in 00:00:00 at 5.84MiB/s   \n",
      "[Merger] Merging formats into \"Mẹ Đơn Thân (Cover) - Hương Ly ｜KHÁNH TRUNG x LÊ CHÍ TRUNG｜ - Em mang phận là thiếu nữ, thân em chịu [2-m0XaNWLBM].mp4\"\n",
      "Deleting original file Mẹ Đơn Thân (Cover) - Hương Ly ｜KHÁNH TRUNG x LÊ CHÍ TRUNG｜ - Em mang phận là thiếu nữ, thân em chịu [2-m0XaNWLBM].f625.mp4 (pass -k to keep)\n",
      "Deleting original file Mẹ Đơn Thân (Cover) - Hương Ly ｜KHÁNH TRUNG x LÊ CHÍ TRUNG｜ - Em mang phận là thiếu nữ, thân em chịu [2-m0XaNWLBM].f140.m4a (pass -k to keep)\n",
      "https://www.youtube.com/watch?v=JsACX8v44fs\n",
      "Anh Đã Từ Bỏ Rồi Đấy (Cover) - Nguyenn x Aric | Hương Ly\n",
      "[youtube] Extracting URL: https://www.youtube.com/watch?v=JsACX8v44fs\n",
      "[youtube] JsACX8v44fs: Downloading webpage\n",
      "[youtube] JsACX8v44fs: Downloading ios player API JSON\n",
      "[youtube] JsACX8v44fs: Downloading player 4e23410d\n"
     ]
    },
    {
     "name": "stderr",
     "output_type": "stream",
     "text": [
      "WARNING: [youtube] JsACX8v44fs: nsig extraction failed: Some formats may be missing\n",
      "         n = GpMaXwGA0YWNm4BiI ; player = https://www.youtube.com/s/player/4e23410d/player_ias.vflset/en_US/base.js\n",
      "WARNING: [youtube] JsACX8v44fs: nsig extraction failed: Some formats may be missing\n",
      "         n = b4RAyGcVP30u-LH2c ; player = https://www.youtube.com/s/player/4e23410d/player_ias.vflset/en_US/base.js\n"
     ]
    },
    {
     "name": "stdout",
     "output_type": "stream",
     "text": [
      "[youtube] JsACX8v44fs: Downloading m3u8 information\n",
      "[info] JsACX8v44fs: Downloading 1 format(s): 625+140\n",
      "[hlsnative] Downloading m3u8 manifest\n",
      "[hlsnative] Total fragments: 56\n",
      "[download] Destination: Anh Đã Từ Bỏ Rồi Đấy (Cover) - Nguyenn x Aric ｜ Hương Ly [JsACX8v44fs].f625.mp4\n",
      "[download] 100% of  275.92MiB in 00:01:16 at 3.62MiB/s                  \n",
      "[download] Destination: Anh Đã Từ Bỏ Rồi Đấy (Cover) - Nguyenn x Aric ｜ Hương Ly [JsACX8v44fs].f140.m4a\n",
      "[download] 100% of    4.56MiB in 00:00:00 at 7.15MiB/s   \n",
      "[Merger] Merging formats into \"Anh Đã Từ Bỏ Rồi Đấy (Cover) - Nguyenn x Aric ｜ Hương Ly [JsACX8v44fs].mp4\"\n",
      "Deleting original file Anh Đã Từ Bỏ Rồi Đấy (Cover) - Nguyenn x Aric ｜ Hương Ly [JsACX8v44fs].f140.m4a (pass -k to keep)\n",
      "Deleting original file Anh Đã Từ Bỏ Rồi Đấy (Cover) - Nguyenn x Aric ｜ Hương Ly [JsACX8v44fs].f625.mp4 (pass -k to keep)\n",
      "https://www.youtube.com/watch?v=L98ix6_leCM\n",
      "Chúng Ta Là Gì - Đình Nguyễn x Lê Chí Trung | Hương Ly Cover\n",
      "[youtube] Extracting URL: https://www.youtube.com/watch?v=L98ix6_leCM\n",
      "[youtube] L98ix6_leCM: Downloading webpage\n",
      "[youtube] L98ix6_leCM: Downloading ios player API JSON\n",
      "[youtube] L98ix6_leCM: Downloading player 4e23410d\n"
     ]
    },
    {
     "name": "stderr",
     "output_type": "stream",
     "text": [
      "WARNING: [youtube] L98ix6_leCM: nsig extraction failed: Some formats may be missing\n",
      "         n = qBITonxD9IRAXTwHY ; player = https://www.youtube.com/s/player/4e23410d/player_ias.vflset/en_US/base.js\n",
      "WARNING: [youtube] L98ix6_leCM: nsig extraction failed: Some formats may be missing\n",
      "         n = IPycTXljZUVhWt6T9 ; player = https://www.youtube.com/s/player/4e23410d/player_ias.vflset/en_US/base.js\n"
     ]
    },
    {
     "name": "stdout",
     "output_type": "stream",
     "text": [
      "[youtube] L98ix6_leCM: Downloading m3u8 information\n",
      "[info] L98ix6_leCM: Downloading 1 format(s): 628+140\n",
      "[hlsnative] Downloading m3u8 manifest\n",
      "[hlsnative] Total fragments: 45\n",
      "[download] Destination: Chúng Ta Là Gì - Đình Nguyễn x Lê Chí Trung ｜ Hương Ly Cover [L98ix6_leCM].f628.mp4\n",
      "[download] 100% of  447.38MiB in 00:01:47 at 4.15MiB/s                  \n",
      "[download] Destination: Chúng Ta Là Gì - Đình Nguyễn x Lê Chí Trung ｜ Hương Ly Cover [L98ix6_leCM].f140.m4a\n",
      "[download] 100% of    3.65MiB in 00:00:00 at 7.67MiB/s   \n",
      "[Merger] Merging formats into \"Chúng Ta Là Gì - Đình Nguyễn x Lê Chí Trung ｜ Hương Ly Cover [L98ix6_leCM].mp4\"\n",
      "Deleting original file Chúng Ta Là Gì - Đình Nguyễn x Lê Chí Trung ｜ Hương Ly Cover [L98ix6_leCM].f140.m4a (pass -k to keep)\n",
      "Deleting original file Chúng Ta Là Gì - Đình Nguyễn x Lê Chí Trung ｜ Hương Ly Cover [L98ix6_leCM].f628.mp4 (pass -k to keep)\n",
      "https://www.youtube.com/watch?v=_84_VWHeIJo\n",
      "Đành Buông Tay - Hương Ly ft Anh Quân Idol | Demo\n",
      "[youtube] Extracting URL: https://www.youtube.com/watch?v=_84_VWHeIJo\n",
      "[youtube] _84_VWHeIJo: Downloading webpage\n",
      "[youtube] _84_VWHeIJo: Downloading ios player API JSON\n",
      "[youtube] _84_VWHeIJo: Downloading player 4e23410d\n"
     ]
    },
    {
     "name": "stderr",
     "output_type": "stream",
     "text": [
      "WARNING: [youtube] _84_VWHeIJo: nsig extraction failed: Some formats may be missing\n",
      "         n = L6FM-NSjPKqeoX0gT ; player = https://www.youtube.com/s/player/4e23410d/player_ias.vflset/en_US/base.js\n",
      "WARNING: [youtube] _84_VWHeIJo: nsig extraction failed: Some formats may be missing\n",
      "         n = HLylV2gy2zMWrElVU ; player = https://www.youtube.com/s/player/4e23410d/player_ias.vflset/en_US/base.js\n"
     ]
    },
    {
     "name": "stdout",
     "output_type": "stream",
     "text": [
      "[youtube] _84_VWHeIJo: Downloading m3u8 information\n",
      "[info] _84_VWHeIJo: Downloading 1 format(s): 628+140\n",
      "[hlsnative] Downloading m3u8 manifest\n",
      "[hlsnative] Total fragments: 14\n",
      "[download] Destination: Đành Buông Tay - Hương Ly ft Anh Quân Idol ｜ Demo [_84_VWHeIJo].f628.mp4\n",
      "[download] 100% of   87.79MiB in 00:00:46 at 1.87MiB/s                   \n",
      "[download] Destination: Đành Buông Tay - Hương Ly ft Anh Quân Idol ｜ Demo [_84_VWHeIJo].f140.m4a\n",
      "[download] 100% of    1.09MiB in 00:00:00 at 3.92MiB/s     \n",
      "[Merger] Merging formats into \"Đành Buông Tay - Hương Ly ft Anh Quân Idol ｜ Demo [_84_VWHeIJo].mp4\"\n",
      "Deleting original file Đành Buông Tay - Hương Ly ft Anh Quân Idol ｜ Demo [_84_VWHeIJo].f140.m4a (pass -k to keep)\n",
      "Deleting original file Đành Buông Tay - Hương Ly ft Anh Quân Idol ｜ Demo [_84_VWHeIJo].f628.mp4 (pass -k to keep)\n",
      "https://www.youtube.com/watch?v=0-rxzaqoFuU\n",
      "Sau Này Nếu Có Thương Em - Hương Ly | Piano Version\n",
      "[youtube] Extracting URL: https://www.youtube.com/watch?v=0-rxzaqoFuU\n",
      "[youtube] 0-rxzaqoFuU: Downloading webpage\n",
      "[youtube] 0-rxzaqoFuU: Downloading ios player API JSON\n",
      "[youtube] 0-rxzaqoFuU: Downloading player 4e23410d\n"
     ]
    },
    {
     "name": "stderr",
     "output_type": "stream",
     "text": [
      "WARNING: [youtube] 0-rxzaqoFuU: nsig extraction failed: Some formats may be missing\n",
      "         n = yxIrCLUjPP5OC3X__ ; player = https://www.youtube.com/s/player/4e23410d/player_ias.vflset/en_US/base.js\n",
      "WARNING: [youtube] 0-rxzaqoFuU: nsig extraction failed: Some formats may be missing\n",
      "         n = r0T54E1FRaqb-PWJe ; player = https://www.youtube.com/s/player/4e23410d/player_ias.vflset/en_US/base.js\n"
     ]
    },
    {
     "name": "stdout",
     "output_type": "stream",
     "text": [
      "[youtube] 0-rxzaqoFuU: Downloading m3u8 information\n",
      "[info] 0-rxzaqoFuU: Downloading 1 format(s): 617+140\n",
      "[hlsnative] Downloading m3u8 manifest\n",
      "[hlsnative] Total fragments: 66\n",
      "[download] Destination: Sau Này Nếu Có Thương Em - Hương Ly ｜ Piano Version [0-rxzaqoFuU].f617.mp4\n",
      "[download] 100% of   44.10MiB in 00:00:18 at 2.41MiB/s                  \n",
      "[download] Destination: Sau Này Nếu Có Thương Em - Hương Ly ｜ Piano Version [0-rxzaqoFuU].f140.m4a\n",
      "[download] 100% of    5.54MiB in 00:00:00 at 6.32MiB/s   \n",
      "[Merger] Merging formats into \"Sau Này Nếu Có Thương Em - Hương Ly ｜ Piano Version [0-rxzaqoFuU].mp4\"\n",
      "Deleting original file Sau Này Nếu Có Thương Em - Hương Ly ｜ Piano Version [0-rxzaqoFuU].f140.m4a (pass -k to keep)\n",
      "Deleting original file Sau Này Nếu Có Thương Em - Hương Ly ｜ Piano Version [0-rxzaqoFuU].f617.mp4 (pass -k to keep)\n",
      "https://www.youtube.com/watch?v=B8UWEpbIOxA\n",
      "NGOÀI 30 - THÁI HỌC x LÊ CHÍ TRUNG | HƯƠNG LY COVER - Nửa thế giới em dành cho một ai đó thôi ...\n",
      "[youtube] Extracting URL: https://www.youtube.com/watch?v=B8UWEpbIOxA\n",
      "[youtube] B8UWEpbIOxA: Downloading webpage\n",
      "[youtube] B8UWEpbIOxA: Downloading ios player API JSON\n",
      "[youtube] B8UWEpbIOxA: Downloading player 4e23410d\n"
     ]
    },
    {
     "name": "stderr",
     "output_type": "stream",
     "text": [
      "WARNING: [youtube] B8UWEpbIOxA: nsig extraction failed: Some formats may be missing\n",
      "         n = bFKzpVyl4JuS2xiwr ; player = https://www.youtube.com/s/player/4e23410d/player_ias.vflset/en_US/base.js\n",
      "WARNING: [youtube] B8UWEpbIOxA: nsig extraction failed: Some formats may be missing\n",
      "         n = RLSe27lFvtOGCPpkf ; player = https://www.youtube.com/s/player/4e23410d/player_ias.vflset/en_US/base.js\n"
     ]
    },
    {
     "name": "stdout",
     "output_type": "stream",
     "text": [
      "[youtube] B8UWEpbIOxA: Downloading m3u8 information\n",
      "[info] B8UWEpbIOxA: Downloading 1 format(s): 617+140\n",
      "[hlsnative] Downloading m3u8 manifest\n",
      "[hlsnative] Total fragments: 47\n",
      "[download] Destination: NGOÀI 30 - THÁI HỌC x LÊ CHÍ TRUNG ｜ HƯƠNG LY COVER - Nửa thế giới em dành cho một ai đó thôi ... [B8UWEpbIOxA].f617.mp4\n",
      "[download] 100% of  107.40MiB in 00:00:26 at 4.10MiB/s                  \n",
      "[download] Destination: NGOÀI 30 - THÁI HỌC x LÊ CHÍ TRUNG ｜ HƯƠNG LY COVER - Nửa thế giới em dành cho một ai đó thôi ... [B8UWEpbIOxA].f140.m4a\n",
      "[download] 100% of    4.07MiB in 00:00:00 at 5.53MiB/s   \n",
      "[Merger] Merging formats into \"NGOÀI 30 - THÁI HỌC x LÊ CHÍ TRUNG ｜ HƯƠNG LY COVER - Nửa thế giới em dành cho một ai đó thôi ... [B8UWEpbIOxA].mp4\"\n",
      "Deleting original file NGOÀI 30 - THÁI HỌC x LÊ CHÍ TRUNG ｜ HƯƠNG LY COVER - Nửa thế giới em dành cho một ai đó thôi ... [B8UWEpbIOxA].f617.mp4 (pass -k to keep)\n",
      "Deleting original file NGOÀI 30 - THÁI HỌC x LÊ CHÍ TRUNG ｜ HƯƠNG LY COVER - Nửa thế giới em dành cho một ai đó thôi ... [B8UWEpbIOxA].f140.m4a (pass -k to keep)\n",
      "https://www.youtube.com/watch?v=5Ogfvj_UCJc\n",
      "Karaoke | Sau Này Nếu Có Thương Em - Hương Ly | Tone Nam\n",
      "[youtube] Extracting URL: https://www.youtube.com/watch?v=5Ogfvj_UCJc\n",
      "[youtube] 5Ogfvj_UCJc: Downloading webpage\n",
      "[youtube] 5Ogfvj_UCJc: Downloading ios player API JSON\n",
      "[youtube] 5Ogfvj_UCJc: Downloading player 4e23410d\n"
     ]
    },
    {
     "name": "stderr",
     "output_type": "stream",
     "text": [
      "WARNING: [youtube] 5Ogfvj_UCJc: nsig extraction failed: Some formats may be missing\n",
      "         n = L1WBXVutHnVL3HdNo ; player = https://www.youtube.com/s/player/4e23410d/player_ias.vflset/en_US/base.js\n",
      "WARNING: [youtube] 5Ogfvj_UCJc: nsig extraction failed: Some formats may be missing\n",
      "         n = AG0upd7UTvGjiZ23G ; player = https://www.youtube.com/s/player/4e23410d/player_ias.vflset/en_US/base.js\n"
     ]
    },
    {
     "name": "stdout",
     "output_type": "stream",
     "text": [
      "[youtube] 5Ogfvj_UCJc: Downloading m3u8 information\n",
      "[info] 5Ogfvj_UCJc: Downloading 1 format(s): 625+140\n",
      "[hlsnative] Downloading m3u8 manifest\n",
      "[hlsnative] Total fragments: 71\n",
      "[download] Destination: Karaoke ｜ Sau Này Nếu Có Thương Em - Hương Ly ｜ Tone Nam [5Ogfvj_UCJc].f625.mp4\n",
      "[download] 100% of  372.39MiB in 00:01:35 at 3.91MiB/s                  \n",
      "[download] Destination: Karaoke ｜ Sau Này Nếu Có Thương Em - Hương Ly ｜ Tone Nam [5Ogfvj_UCJc].f140.m4a\n",
      "[download] 100% of    5.43MiB in 00:00:00 at 5.93MiB/s     \n",
      "[Merger] Merging formats into \"Karaoke ｜ Sau Này Nếu Có Thương Em - Hương Ly ｜ Tone Nam [5Ogfvj_UCJc].mp4\"\n",
      "Deleting original file Karaoke ｜ Sau Này Nếu Có Thương Em - Hương Ly ｜ Tone Nam [5Ogfvj_UCJc].f625.mp4 (pass -k to keep)\n",
      "Deleting original file Karaoke ｜ Sau Này Nếu Có Thương Em - Hương Ly ｜ Tone Nam [5Ogfvj_UCJc].f140.m4a (pass -k to keep)\n",
      "https://www.youtube.com/watch?v=5QF8w8IiKkI\n",
      "SAU NÀY NẾU CÓ THƯƠNG EM | HƯƠNG LY | OFFICIAL MV\n",
      "[youtube] Extracting URL: https://www.youtube.com/watch?v=5QF8w8IiKkI\n",
      "[youtube] 5QF8w8IiKkI: Downloading webpage\n",
      "[youtube] 5QF8w8IiKkI: Downloading ios player API JSON\n",
      "[youtube] 5QF8w8IiKkI: Downloading m3u8 information\n",
      "[info] 5QF8w8IiKkI: Downloading 1 format(s): 625+140\n",
      "[hlsnative] Downloading m3u8 manifest\n",
      "[hlsnative] Total fragments: 66\n",
      "[download] Destination: SAU NÀY NẾU CÓ THƯƠNG EM ｜ HƯƠNG LY ｜ OFFICIAL MV [5QF8w8IiKkI].f625.mp4\n",
      "[download] 100% of  515.32MiB in 00:01:45 at 4.88MiB/s                  \n",
      "[download] Destination: SAU NÀY NẾU CÓ THƯƠNG EM ｜ HƯƠNG LY ｜ OFFICIAL MV [5QF8w8IiKkI].f140.m4a\n",
      "[download] 100% of    5.61MiB in 00:00:00 at 6.87MiB/s     \n",
      "[Merger] Merging formats into \"SAU NÀY NẾU CÓ THƯƠNG EM ｜ HƯƠNG LY ｜ OFFICIAL MV [5QF8w8IiKkI].mp4\"\n",
      "Deleting original file SAU NÀY NẾU CÓ THƯƠNG EM ｜ HƯƠNG LY ｜ OFFICIAL MV [5QF8w8IiKkI].f140.m4a (pass -k to keep)\n",
      "Deleting original file SAU NÀY NẾU CÓ THƯƠNG EM ｜ HƯƠNG LY ｜ OFFICIAL MV [5QF8w8IiKkI].f625.mp4 (pass -k to keep)\n",
      "https://www.youtube.com/watch?v=tPrYp9mGQ3Y\n",
      "Karaoke | Sau Này Nếu Có Thương Em - Hương Ly | Tone Nữ\n",
      "[youtube] Extracting URL: https://www.youtube.com/watch?v=tPrYp9mGQ3Y\n",
      "[youtube] tPrYp9mGQ3Y: Downloading webpage\n",
      "[youtube] tPrYp9mGQ3Y: Downloading ios player API JSON\n",
      "[youtube] tPrYp9mGQ3Y: Downloading player 4e23410d\n"
     ]
    },
    {
     "name": "stderr",
     "output_type": "stream",
     "text": [
      "WARNING: [youtube] tPrYp9mGQ3Y: nsig extraction failed: Some formats may be missing\n",
      "         n = V8H77cE0RwbdmaXvf ; player = https://www.youtube.com/s/player/4e23410d/player_ias.vflset/en_US/base.js\n",
      "WARNING: [youtube] tPrYp9mGQ3Y: nsig extraction failed: Some formats may be missing\n",
      "         n = 6XZYHL0sJH_QDDEX0 ; player = https://www.youtube.com/s/player/4e23410d/player_ias.vflset/en_US/base.js\n"
     ]
    },
    {
     "name": "stdout",
     "output_type": "stream",
     "text": [
      "[youtube] tPrYp9mGQ3Y: Downloading m3u8 information\n",
      "[info] tPrYp9mGQ3Y: Downloading 1 format(s): 625+140\n",
      "[hlsnative] Downloading m3u8 manifest\n",
      "[hlsnative] Total fragments: 72\n",
      "[download] Destination: Karaoke ｜ Sau Này Nếu Có Thương Em - Hương Ly ｜ Tone Nữ [tPrYp9mGQ3Y].f625.mp4\n",
      "[download] 100% of  585.12MiB in 00:02:31 at 3.87MiB/s                  \n",
      "[download] Destination: Karaoke ｜ Sau Này Nếu Có Thương Em - Hương Ly ｜ Tone Nữ [tPrYp9mGQ3Y].f140.m4a\n",
      "[download] 100% of    5.41MiB in 00:00:00 at 8.02MiB/s     \n",
      "[Merger] Merging formats into \"Karaoke ｜ Sau Này Nếu Có Thương Em - Hương Ly ｜ Tone Nữ [tPrYp9mGQ3Y].mp4\"\n",
      "Deleting original file Karaoke ｜ Sau Này Nếu Có Thương Em - Hương Ly ｜ Tone Nữ [tPrYp9mGQ3Y].f625.mp4 (pass -k to keep)\n",
      "Deleting original file Karaoke ｜ Sau Này Nếu Có Thương Em - Hương Ly ｜ Tone Nữ [tPrYp9mGQ3Y].f140.m4a (pass -k to keep)\n",
      "https://www.youtube.com/watch?v=K80BzCoDbwo\n",
      "Sau Này Nếu Có Thương Em - Hương Ly | Official Music Video | Special Edition For Wedding\n",
      "[youtube] Extracting URL: https://www.youtube.com/watch?v=K80BzCoDbwo\n",
      "[youtube] K80BzCoDbwo: Downloading webpage\n",
      "[youtube] K80BzCoDbwo: Downloading ios player API JSON\n",
      "[youtube] K80BzCoDbwo: Downloading player 4e23410d\n"
     ]
    },
    {
     "name": "stderr",
     "output_type": "stream",
     "text": [
      "WARNING: [youtube] K80BzCoDbwo: nsig extraction failed: Some formats may be missing\n",
      "         n = xYNOb5pCgwALS2wr2 ; player = https://www.youtube.com/s/player/4e23410d/player_ias.vflset/en_US/base.js\n",
      "WARNING: [youtube] K80BzCoDbwo: nsig extraction failed: Some formats may be missing\n",
      "         n = NK2UBbfLOCwuL4-KO ; player = https://www.youtube.com/s/player/4e23410d/player_ias.vflset/en_US/base.js\n"
     ]
    },
    {
     "name": "stdout",
     "output_type": "stream",
     "text": [
      "[youtube] K80BzCoDbwo: Downloading m3u8 information\n",
      "[info] K80BzCoDbwo: Downloading 1 format(s): 625+140\n",
      "[hlsnative] Downloading m3u8 manifest\n",
      "[hlsnative] Total fragments: 80\n",
      "[download] Destination: Sau Này Nếu Có Thương Em - Hương Ly ｜ Official Music Video ｜ Special Edition For Wedding [K80BzCoDbwo].f625.mp4\n",
      "[download] 100% of  630.47MiB in 00:01:39 at 6.31MiB/s                  \n",
      "[download] Destination: Sau Này Nếu Có Thương Em - Hương Ly ｜ Official Music Video ｜ Special Edition For Wedding [K80BzCoDbwo].f140.m4a\n",
      "[download] 100% of    6.00MiB in 00:00:00 at 6.11MiB/s     \n",
      "[Merger] Merging formats into \"Sau Này Nếu Có Thương Em - Hương Ly ｜ Official Music Video ｜ Special Edition For Wedding [K80BzCoDbwo].mp4\"\n",
      "Deleting original file Sau Này Nếu Có Thương Em - Hương Ly ｜ Official Music Video ｜ Special Edition For Wedding [K80BzCoDbwo].f140.m4a (pass -k to keep)\n",
      "Deleting original file Sau Này Nếu Có Thương Em - Hương Ly ｜ Official Music Video ｜ Special Edition For Wedding [K80BzCoDbwo].f625.mp4 (pass -k to keep)\n",
      "https://www.youtube.com/watch?v=t3W2rEgWveY\n",
      "Điều Đau Nhất - Official MV Teaser | Hương Ly\n",
      "[youtube] Extracting URL: https://www.youtube.com/watch?v=t3W2rEgWveY\n",
      "[youtube] t3W2rEgWveY: Downloading webpage\n",
      "[youtube] t3W2rEgWveY: Downloading ios player API JSON\n",
      "[youtube] t3W2rEgWveY: Downloading player 4e23410d\n"
     ]
    },
    {
     "name": "stderr",
     "output_type": "stream",
     "text": [
      "WARNING: [youtube] t3W2rEgWveY: nsig extraction failed: Some formats may be missing\n",
      "         n = -wdVjQw-gQiWWY73q ; player = https://www.youtube.com/s/player/4e23410d/player_ias.vflset/en_US/base.js\n",
      "WARNING: [youtube] t3W2rEgWveY: nsig extraction failed: Some formats may be missing\n",
      "         n = iefzaajy83zNgwxj2 ; player = https://www.youtube.com/s/player/4e23410d/player_ias.vflset/en_US/base.js\n"
     ]
    },
    {
     "name": "stdout",
     "output_type": "stream",
     "text": [
      "[youtube] t3W2rEgWveY: Downloading m3u8 information\n",
      "[info] t3W2rEgWveY: Downloading 1 format(s): 137+140\n",
      "[download] Destination: Điều Đau Nhất - Official MV Teaser ｜ Hương Ly [t3W2rEgWveY].f137.mp4\n",
      "[download] 100% of   16.85MiB in 00:00:01 at 9.07MiB/s     \n",
      "[download] Destination: Điều Đau Nhất - Official MV Teaser ｜ Hương Ly [t3W2rEgWveY].f140.m4a\n",
      "[download] 100% of  969.58KiB in 00:00:01 at 957.57KiB/s \n",
      "[Merger] Merging formats into \"Điều Đau Nhất - Official MV Teaser ｜ Hương Ly [t3W2rEgWveY].mp4\"\n",
      "Deleting original file Điều Đau Nhất - Official MV Teaser ｜ Hương Ly [t3W2rEgWveY].f140.m4a (pass -k to keep)\n",
      "Deleting original file Điều Đau Nhất - Official MV Teaser ｜ Hương Ly [t3W2rEgWveY].f137.mp4 (pass -k to keep)\n",
      "https://www.youtube.com/watch?v=KZAMPVPWXo4\n",
      "Nụ Cười Xuân - Vui Lắm Nha - Những Ca Khúc Hay Nhất Của Hương Ly\n",
      "[youtube] Extracting URL: https://www.youtube.com/watch?v=KZAMPVPWXo4\n",
      "[youtube] KZAMPVPWXo4: Downloading webpage\n",
      "[youtube] KZAMPVPWXo4: Downloading ios player API JSON\n",
      "[youtube] KZAMPVPWXo4: Downloading player 4e23410d\n"
     ]
    },
    {
     "name": "stderr",
     "output_type": "stream",
     "text": [
      "WARNING: [youtube] KZAMPVPWXo4: nsig extraction failed: Some formats may be missing\n",
      "         n = QRftXEJ7XYQsCcjDZ ; player = https://www.youtube.com/s/player/4e23410d/player_ias.vflset/en_US/base.js\n",
      "WARNING: [youtube] KZAMPVPWXo4: nsig extraction failed: Some formats may be missing\n",
      "         n = oMnKp-_WjOA5euNNp ; player = https://www.youtube.com/s/player/4e23410d/player_ias.vflset/en_US/base.js\n"
     ]
    },
    {
     "name": "stdout",
     "output_type": "stream",
     "text": [
      "[youtube] KZAMPVPWXo4: Downloading m3u8 information\n",
      "[info] KZAMPVPWXo4: Downloading 1 format(s): 137+140\n",
      "[download] Destination: Nụ Cười Xuân - Vui Lắm Nha - Những Ca Khúc Hay Nhất Của Hương Ly [KZAMPVPWXo4].f137.mp4\n",
      "[download] 100% of  109.86MiB in 00:00:25 at 4.32MiB/s     \n",
      "[download] Destination: Nụ Cười Xuân - Vui Lắm Nha - Những Ca Khúc Hay Nhất Của Hương Ly [KZAMPVPWXo4].f140.m4a\n",
      "[download] 100% of   57.83MiB in 00:00:11 at 4.99MiB/s     \n",
      "[Merger] Merging formats into \"Nụ Cười Xuân - Vui Lắm Nha - Những Ca Khúc Hay Nhất Của Hương Ly [KZAMPVPWXo4].mp4\"\n",
      "Deleting original file Nụ Cười Xuân - Vui Lắm Nha - Những Ca Khúc Hay Nhất Của Hương Ly [KZAMPVPWXo4].f140.m4a (pass -k to keep)\n",
      "Deleting original file Nụ Cười Xuân - Vui Lắm Nha - Những Ca Khúc Hay Nhất Của Hương Ly [KZAMPVPWXo4].f137.mp4 (pass -k to keep)\n",
      "https://www.youtube.com/watch?v=-9mFCv1CjQE\n",
      "Níu Duyên Không Thành - Hương Ly x Lê Chí Trung | Official Mv\n",
      "[youtube] Extracting URL: https://www.youtube.com/watch?v=-9mFCv1CjQE\n",
      "[youtube] -9mFCv1CjQE: Downloading webpage\n",
      "[youtube] -9mFCv1CjQE: Downloading ios player API JSON\n",
      "[youtube] -9mFCv1CjQE: Downloading player 4e23410d\n"
     ]
    },
    {
     "name": "stderr",
     "output_type": "stream",
     "text": [
      "WARNING: [youtube] -9mFCv1CjQE: nsig extraction failed: Some formats may be missing\n",
      "         n = P7UOoQmzJe-fInFC- ; player = https://www.youtube.com/s/player/4e23410d/player_ias.vflset/en_US/base.js\n",
      "WARNING: [youtube] -9mFCv1CjQE: nsig extraction failed: Some formats may be missing\n",
      "         n = GGG9l2Pk0BWJdfeIw ; player = https://www.youtube.com/s/player/4e23410d/player_ias.vflset/en_US/base.js\n"
     ]
    },
    {
     "name": "stdout",
     "output_type": "stream",
     "text": [
      "[youtube] -9mFCv1CjQE: Downloading m3u8 information\n",
      "[info] -9mFCv1CjQE: Downloading 1 format(s): 628+140\n",
      "[hlsnative] Downloading m3u8 manifest\n",
      "[hlsnative] Total fragments: 85\n",
      "[download] Destination: Níu Duyên Không Thành - Hương Ly x Lê Chí Trung ｜ Official Mv [-9mFCv1CjQE].f628.mp4\n",
      "[download] 100% of  688.42MiB in 00:01:32 at 7.46MiB/s                  \n",
      "[download] Destination: Níu Duyên Không Thành - Hương Ly x Lê Chí Trung ｜ Official Mv [-9mFCv1CjQE].f140.m4a\n",
      "[download] 100% of    6.68MiB in 00:00:00 at 8.47MiB/s     \n",
      "[Merger] Merging formats into \"Níu Duyên Không Thành - Hương Ly x Lê Chí Trung ｜ Official Mv [-9mFCv1CjQE].mp4\"\n",
      "Deleting original file Níu Duyên Không Thành - Hương Ly x Lê Chí Trung ｜ Official Mv [-9mFCv1CjQE].f140.m4a (pass -k to keep)\n",
      "Deleting original file Níu Duyên Không Thành - Hương Ly x Lê Chí Trung ｜ Official Mv [-9mFCv1CjQE].f628.mp4 (pass -k to keep)\n",
      "https://www.youtube.com/watch?v=P1z9RtDMz2U\n",
      "Ngày Mai Em Đi Mất - Khải Đăng x Đạt G | Hương Ly Cover | Sợ ngày mai em đi mất ...\n",
      "[youtube] Extracting URL: https://www.youtube.com/watch?v=P1z9RtDMz2U\n",
      "[youtube] P1z9RtDMz2U: Downloading webpage\n",
      "[youtube] P1z9RtDMz2U: Downloading ios player API JSON\n",
      "[youtube] P1z9RtDMz2U: Downloading m3u8 information\n",
      "[info] P1z9RtDMz2U: Downloading 1 format(s): 617+140\n",
      "[hlsnative] Downloading m3u8 manifest\n",
      "[hlsnative] Total fragments: 56\n",
      "[download] Destination: Ngày Mai Em Đi Mất - Khải Đăng x Đạt G ｜ Hương Ly Cover ｜ Sợ ngày mai em đi mất ... [P1z9RtDMz2U].f617.mp4\n",
      "[download] 100% of   77.81MiB in 00:00:18 at 4.24MiB/s                  \n",
      "[download] Destination: Ngày Mai Em Đi Mất - Khải Đăng x Đạt G ｜ Hương Ly Cover ｜ Sợ ngày mai em đi mất ... [P1z9RtDMz2U].f140.m4a\n",
      "[download] 100% of    4.39MiB in 00:00:01 at 4.05MiB/s   \n",
      "[Merger] Merging formats into \"Ngày Mai Em Đi Mất - Khải Đăng x Đạt G ｜ Hương Ly Cover ｜ Sợ ngày mai em đi mất ... [P1z9RtDMz2U].mp4\"\n",
      "Deleting original file Ngày Mai Em Đi Mất - Khải Đăng x Đạt G ｜ Hương Ly Cover ｜ Sợ ngày mai em đi mất ... [P1z9RtDMz2U].f140.m4a (pass -k to keep)\n",
      "Deleting original file Ngày Mai Em Đi Mất - Khải Đăng x Đạt G ｜ Hương Ly Cover ｜ Sợ ngày mai em đi mất ... [P1z9RtDMz2U].f617.mp4 (pass -k to keep)\n",
      "https://www.youtube.com/watch?v=3DF_hnR6BV4\n",
      "Níu Duyên Không Thành - Hương Ly | Official Teaser\n",
      "[youtube] Extracting URL: https://www.youtube.com/watch?v=3DF_hnR6BV4\n",
      "[youtube] 3DF_hnR6BV4: Downloading webpage\n",
      "[youtube] 3DF_hnR6BV4: Downloading ios player API JSON\n",
      "[youtube] 3DF_hnR6BV4: Downloading player 4e23410d\n"
     ]
    },
    {
     "name": "stderr",
     "output_type": "stream",
     "text": [
      "WARNING: [youtube] 3DF_hnR6BV4: nsig extraction failed: Some formats may be missing\n",
      "         n = k3WEas0V8B1Yh9DsR ; player = https://www.youtube.com/s/player/4e23410d/player_ias.vflset/en_US/base.js\n",
      "WARNING: [youtube] 3DF_hnR6BV4: nsig extraction failed: Some formats may be missing\n",
      "         n = c5Elk7EalVTOHqtTR ; player = https://www.youtube.com/s/player/4e23410d/player_ias.vflset/en_US/base.js\n"
     ]
    },
    {
     "name": "stdout",
     "output_type": "stream",
     "text": [
      "[youtube] 3DF_hnR6BV4: Downloading m3u8 information\n",
      "[info] 3DF_hnR6BV4: Downloading 1 format(s): 628+140\n",
      "[hlsnative] Downloading m3u8 manifest\n",
      "[hlsnative] Total fragments: 15\n",
      "[download] Destination: Níu Duyên Không Thành - Hương Ly ｜ Official Teaser [3DF_hnR6BV4].f628.mp4\n",
      "[download]  19.5% of ~  55.79MiB at    4.90MiB/s ETA 00:38 (frag 4/15)  "
     ]
    }
   ],
   "source": [
    "import os\n",
    "\n",
    "errorlist = list()\n",
    "for element in linklist:\n",
    "    try:\n",
    "        link = element.get_attribute(\"href\")\n",
    "    except Exception as e:\n",
    "        errorlist.append(f'{e}******************{element}')\n",
    "        continue \n",
    "    print(link)\n",
    "    print(element.text)\n",
    "    # os.system(f'yt-dlp {link}')\n",
    "    download_video(link)"
   ]
  },
  {
   "cell_type": "code",
   "execution_count": 13,
   "id": "5b92cbce-db3c-4d38-bf33-ae07a8d18db7",
   "metadata": {},
   "outputs": [
    {
     "name": "stdout",
     "output_type": "stream",
     "text": [
      "384\n"
     ]
    }
   ],
   "source": [
    "print(len(linklist))"
   ]
  },
  {
   "cell_type": "code",
   "execution_count": null,
   "id": "900cdc7d-6a5c-4ae3-b8d5-1d2a4112c1c8",
   "metadata": {},
   "outputs": [],
   "source": [
    "#!pip install --upgrade youtube-dl\n",
    "!pip install --force-reinstall https://github.com/yt-dlp/yt-dlp/archive/master.tar.gz"
   ]
  }
 ],
 "metadata": {
  "kernelspec": {
   "display_name": "Python 3 (ipykernel)",
   "language": "python",
   "name": "python3"
  },
  "language_info": {
   "codemirror_mode": {
    "name": "ipython",
    "version": 3
   },
   "file_extension": ".py",
   "mimetype": "text/x-python",
   "name": "python",
   "nbconvert_exporter": "python",
   "pygments_lexer": "ipython3",
   "version": "3.10.15"
  }
 },
 "nbformat": 4,
 "nbformat_minor": 5
}
